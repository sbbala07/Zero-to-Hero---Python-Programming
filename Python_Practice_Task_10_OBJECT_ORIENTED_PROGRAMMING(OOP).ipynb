{
  "nbformat": 4,
  "nbformat_minor": 0,
  "metadata": {
    "colab": {
      "provenance": []
    },
    "kernelspec": {
      "name": "python3",
      "display_name": "Python 3"
    },
    "language_info": {
      "name": "python"
    }
  },
  "cells": [
    {
      "cell_type": "markdown",
      "source": [
        "# OBJECT ORIENTED PROGRAMMING(OOP) BASICS"
      ],
      "metadata": {
        "id": "MZaPGvixj6TJ"
      }
    },
    {
      "cell_type": "markdown",
      "source": [
        "What is OOP?"
      ],
      "metadata": {
        "id": "rcNNnic7kAJ6"
      }
    },
    {
      "cell_type": "markdown",
      "source": [
        "- In python, object oriented programming is creating classes, inside the classes we have objects.\n",
        "\n",
        "- Imagine classes are like toy boxes and objects are like toys(dolls, cars, balls) inside the toy boxes."
      ],
      "metadata": {
        "id": "B-xWIucfkDOx"
      }
    },
    {
      "cell_type": "markdown",
      "source": [
        "-------------------------------------------------------------------------------------------"
      ],
      "metadata": {
        "id": "1MFkXaYwmHGS"
      }
    },
    {
      "cell_type": "markdown",
      "source": [
        "Why do we use OOP?\n",
        "\n",
        "- We are using OOP mainly to organize our code and reuse the code in future whenever we needed.\n",
        "\n",
        "- We use in apps where users, products, orders are like objects. In AI/ML, where models and datasets are like objects."
      ],
      "metadata": {
        "id": "IXuCSDP6kocP"
      }
    },
    {
      "cell_type": "markdown",
      "source": [
        "==========================================================================================================="
      ],
      "metadata": {
        "id": "etBKnws3mJna"
      }
    },
    {
      "cell_type": "markdown",
      "source": [
        "### BASICS OF OOP"
      ],
      "metadata": {
        "id": "6XqyPkjjlYOw"
      }
    },
    {
      "cell_type": "markdown",
      "source": [
        "Here are the basic concept of object oriented programming.\n",
        "\n",
        "\n",
        "\n",
        "*   CLASSES\n",
        "\n",
        "*   OBJECTS\n",
        "\n",
        "*   ATTRIBUTES & METHODS\n",
        "\n",
        "*   *`init`* CONSTRUCTOR\n",
        "\n",
        "*   *`self`* KEYWORD\n",
        "\n",
        "\n",
        "\n"
      ],
      "metadata": {
        "id": "eUSEqcs7lirj"
      }
    },
    {
      "cell_type": "markdown",
      "source": [
        "---------------------------------------------------------------------------------------------------"
      ],
      "metadata": {
        "id": "jar6b2ccmOWP"
      }
    },
    {
      "cell_type": "markdown",
      "source": [
        "CLASSES"
      ],
      "metadata": {
        "id": "GW3sb3AWmFGt"
      }
    },
    {
      "cell_type": "markdown",
      "source": [
        "- Classes are like a blueprint of a thing.\n",
        "\n",
        "- For example building a house, we need a blueprint. A blueprint of a house"
      ],
      "metadata": {
        "id": "a3mk-nEBmRJm"
      }
    },
    {
      "cell_type": "markdown",
      "source": [
        "*Example*"
      ],
      "metadata": {
        "id": "Zr8YpT0RmkBa"
      }
    },
    {
      "cell_type": "code",
      "execution_count": null,
      "metadata": {
        "id": "KBvRnqRVj0l9"
      },
      "outputs": [],
      "source": [
        "class house:   # Here house is a class name\n",
        "  pass         # It does nothing"
      ]
    },
    {
      "cell_type": "markdown",
      "source": [
        "--------------------------------------------------------------------------------------------------"
      ],
      "metadata": {
        "id": "zs84VE_hm3o2"
      }
    },
    {
      "cell_type": "markdown",
      "source": [
        "OBJECTS"
      ],
      "metadata": {
        "id": "X2vcKo9Rm5cm"
      }
    },
    {
      "cell_type": "markdown",
      "source": [
        "- Objects are a thing which is created from the classes.\n",
        "\n",
        "- For example, object 'Tesla car' from the class 'car' blue print."
      ],
      "metadata": {
        "id": "u3GdkbAXm8Fx"
      }
    },
    {
      "cell_type": "markdown",
      "source": [
        "*Example*"
      ],
      "metadata": {
        "id": "HaDu7es4nQHG"
      }
    },
    {
      "cell_type": "code",
      "source": [
        "class car():    # car--> class\n",
        "  pass\n",
        "\n",
        "tesla_car = car()  # tesla_car--> object of car"
      ],
      "metadata": {
        "id": "6hMOkkgzmwFL"
      },
      "execution_count": null,
      "outputs": []
    },
    {
      "cell_type": "markdown",
      "source": [
        "-----------------------------------------------------------------------------------------------------"
      ],
      "metadata": {
        "id": "TG7MWcront51"
      }
    },
    {
      "cell_type": "markdown",
      "source": [
        "ATTRIBUTES AND METHODS"
      ],
      "metadata": {
        "id": "Hl-E7YSaxwT6"
      }
    },
    {
      "cell_type": "markdown",
      "source": [
        "Attributes"
      ],
      "metadata": {
        "id": "pqIusbL4yw9u"
      }
    },
    {
      "cell_type": "markdown",
      "source": [
        "- Attributes are the characterics or features of a object like color or shape.\n",
        "\n",
        "- For example, red color car or tesla brand car."
      ],
      "metadata": {
        "id": "ZnWr5qykx0rT"
      }
    },
    {
      "cell_type": "markdown",
      "source": [
        "*Example*"
      ],
      "metadata": {
        "id": "DgJVFrgKyK2v"
      }
    },
    {
      "cell_type": "code",
      "source": [
        "class car:\n",
        "\n",
        "  def __init__(self, color, brand):   # Contructor\n",
        "    self.color = color     # Attributes\n",
        "    self.brand = brand     # Attributes\n",
        "\n",
        "my_car = car(\"black\", 'tata')\n",
        "\n",
        "print(my_car.color)\n",
        "print(my_car.brand)"
      ],
      "metadata": {
        "colab": {
          "base_uri": "https://localhost:8080/"
        },
        "id": "PDBudnHfnfnq",
        "outputId": "152d905c-d9bc-411f-a64e-b514430554ec"
      },
      "execution_count": null,
      "outputs": [
        {
          "output_type": "stream",
          "name": "stdout",
          "text": [
            "black\n",
            "tata\n"
          ]
        }
      ]
    },
    {
      "cell_type": "markdown",
      "source": [
        "Methods"
      ],
      "metadata": {
        "id": "OIUUzpuUz2ft"
      }
    },
    {
      "cell_type": "markdown",
      "source": [
        "- Methods are the functions or actions inside the class.\n",
        "\n",
        "- We can define in a function, what the object can do."
      ],
      "metadata": {
        "id": "0HJUd91Qz4KH"
      }
    },
    {
      "cell_type": "markdown",
      "source": [
        "*Example*"
      ],
      "metadata": {
        "id": "ebD7LfZy0Nc8"
      }
    },
    {
      "cell_type": "code",
      "source": [
        "class Car:\n",
        "\n",
        "  def __init__(self, color, brand):\n",
        "    self.color = color\n",
        "    self.brand = brand\n",
        "\n",
        "  def drive(self):   # This is method. A function inside a class\n",
        "    print(f\"The {self.color} color {self.brand} is moving\")\n",
        "\n",
        "my_car = Car(\"white\", 'tesla')\n",
        "\n",
        "my_car.drive()"
      ],
      "metadata": {
        "colab": {
          "base_uri": "https://localhost:8080/"
        },
        "id": "bzlcpbdhzaSA",
        "outputId": "63f9a86a-7dca-4525-bd35-b1d5eceaefc8"
      },
      "execution_count": null,
      "outputs": [
        {
          "output_type": "stream",
          "name": "stdout",
          "text": [
            "The white color tesla is moving\n"
          ]
        }
      ]
    },
    {
      "cell_type": "markdown",
      "source": [
        "------------------------------------------------------------------------------------------------"
      ],
      "metadata": {
        "id": "KKlU6QYj33Yz"
      }
    },
    {
      "cell_type": "markdown",
      "source": [
        "THE *`init`* CONSTRUCTOR"
      ],
      "metadata": {
        "id": "lELHy_TF36fx"
      }
    },
    {
      "cell_type": "markdown",
      "source": [
        "- It is a special method that run automatically when we creating an object\n",
        "\n",
        "- It helps in setup inital values like giving a color to a toy when buys it."
      ],
      "metadata": {
        "id": "-x8L9Hiz4E-y"
      }
    },
    {
      "cell_type": "markdown",
      "source": [
        "*Example*"
      ],
      "metadata": {
        "id": "yWOpDS2B4i3l"
      }
    },
    {
      "cell_type": "code",
      "source": [
        "class bike:\n",
        "\n",
        "  def __init__(self, brand, model): # init constructor\n",
        "    self.brand = brand\n",
        "    self.model  = model\n",
        "\n",
        "my_bike  = bike(\"Yamaha\", \"FZ\")\n",
        "\n",
        "print(my_bike.brand)\n",
        "print(my_bike.model)\n"
      ],
      "metadata": {
        "colab": {
          "base_uri": "https://localhost:8080/"
        },
        "id": "G0e6k66O2vPw",
        "outputId": "a838887c-fbf2-490a-a58c-4a837b77342e"
      },
      "execution_count": null,
      "outputs": [
        {
          "output_type": "stream",
          "name": "stdout",
          "text": [
            "Yamaha\n",
            "FZ\n"
          ]
        }
      ]
    },
    {
      "cell_type": "markdown",
      "source": [
        "--------------------------------------------------------------------------------------------------"
      ],
      "metadata": {
        "id": "kwHh1mfA51Sv"
      }
    },
    {
      "cell_type": "markdown",
      "source": [
        "The *`self`* KEYWORD"
      ],
      "metadata": {
        "id": "04XdMtU6538G"
      }
    },
    {
      "cell_type": "markdown",
      "source": [
        "- *`self`* is a  keyword, it simple meand 'this particular object'\n",
        "\n",
        "- For example, saying like its my dog."
      ],
      "metadata": {
        "id": "mk9mdUn459E-"
      }
    },
    {
      "cell_type": "markdown",
      "source": [
        "*Example*"
      ],
      "metadata": {
        "id": "x6hNIsZz6WXt"
      }
    },
    {
      "cell_type": "code",
      "source": [
        "class dog:\n",
        "\n",
        "  def __init__(self, name):\n",
        "    self.name = name\n",
        "\n",
        "  def bark(self):\n",
        "    print(f\"{self.name} is barking\")\n",
        "\n",
        "\n",
        "my_dog = dog(\"Tommy\")\n",
        "\n",
        "my_dog.bark()\n",
        "\n"
      ],
      "metadata": {
        "colab": {
          "base_uri": "https://localhost:8080/"
        },
        "id": "NYie-_ob5Ich",
        "outputId": "27550cad-258e-456e-c1fb-0db94e2c7fb4"
      },
      "execution_count": null,
      "outputs": [
        {
          "output_type": "stream",
          "name": "stdout",
          "text": [
            "Tommy is barking\n"
          ]
        }
      ]
    },
    {
      "cell_type": "markdown",
      "source": [
        "============================================================================================="
      ],
      "metadata": {
        "id": "Fhf4kipW8LKg"
      }
    },
    {
      "cell_type": "markdown",
      "source": [
        "**PRACTICE EXERCISES**"
      ],
      "metadata": {
        "id": "LNkeZemC8NK2"
      }
    },
    {
      "cell_type": "markdown",
      "source": [
        "Q1. Create a Dog class\n",
        "\n",
        "- Attributes: name, age\n",
        "\n",
        "- Method: bark() → prints \"<name> is barking 🐶\"\n",
        "\n",
        "- Create two dogs (Tommy, 3 years and Rocky, 5 years) and make them bark."
      ],
      "metadata": {
        "id": "zWDy6Dok8bN9"
      }
    },
    {
      "cell_type": "markdown",
      "source": [
        "*# Solved exercise #*"
      ],
      "metadata": {
        "id": "A2Au8uzG8oDw"
      }
    },
    {
      "cell_type": "code",
      "source": [
        "class Dog:\n",
        "\n",
        "  def __init__(self,name,age):\n",
        "    self.name = name\n",
        "    self.age = age\n",
        "\n",
        "  def bark(self):\n",
        "    print(f\"{self.age} years old {self.name} is barking\")\n",
        "\n",
        "dog1 = Dog(\"Tommy\", 3)\n",
        "dog2 = Dog(\"Rocky\", 5)\n",
        "\n",
        "dog1.bark()\n",
        "dog2.bark()\n"
      ],
      "metadata": {
        "colab": {
          "base_uri": "https://localhost:8080/"
        },
        "id": "1F_BpKn47F4_",
        "outputId": "bf0e1d47-911a-4a0e-8f10-386b51c3b0c2"
      },
      "execution_count": null,
      "outputs": [
        {
          "output_type": "stream",
          "name": "stdout",
          "text": [
            "3 years old Tommy is barking\n",
            "5 years old Rocky is barking\n"
          ]
        }
      ]
    },
    {
      "cell_type": "markdown",
      "source": [
        "---------------------------------------------------------------------------------------------------"
      ],
      "metadata": {
        "id": "F5ExfJ_x--u6"
      }
    },
    {
      "cell_type": "markdown",
      "source": [
        "Q2. Create a Car class\n",
        "\n",
        "- Attributes: brand, color\n",
        "\n",
        "- Method: drive() → prints \"<color> <brand> is driving 🚗\"\n",
        "\n",
        "- Create a red Tesla and blue BMW and call their drive() method"
      ],
      "metadata": {
        "id": "TVn0rGVA_CCf"
      }
    },
    {
      "cell_type": "markdown",
      "source": [
        "*# Solved exercise #*"
      ],
      "metadata": {
        "id": "bPLuOKVY_Prv"
      }
    },
    {
      "cell_type": "code",
      "source": [
        "class Car:\n",
        "\n",
        "  def __init__(self, brand, color):\n",
        "    self.brand = brand\n",
        "    self. color = color\n",
        "\n",
        "  def drive(self):\n",
        "    print(f\"{self.color} {self.brand} is driving 🚗\")\n",
        "\n",
        "car1 = Car(\"Tesla\",\"red\")\n",
        "car2 = Car(\"BMW\", 'blue')\n",
        "\n",
        "car1.drive()\n",
        "car2.drive()"
      ],
      "metadata": {
        "colab": {
          "base_uri": "https://localhost:8080/"
        },
        "id": "SiUpWUuW-PL5",
        "outputId": "ff698ab4-48c4-4620-efd7-cc6eaa1bb11d"
      },
      "execution_count": null,
      "outputs": [
        {
          "output_type": "stream",
          "name": "stdout",
          "text": [
            "red Tesla is driving 🚗\n",
            "blue BMW is driving 🚗\n"
          ]
        }
      ]
    },
    {
      "cell_type": "markdown",
      "source": [
        "--------------------------------------------------------------------------------------------------------"
      ],
      "metadata": {
        "id": "p6rcYbpKAJFV"
      }
    },
    {
      "cell_type": "markdown",
      "source": [
        "Q3. Create a Student class\n",
        "\n",
        "- Attributes: name, grade\n",
        "\n",
        "- Method: study() → prints \"<name> is studying 📖\"\n",
        "\n",
        "- Create two students: Rahul (5th) and Priya (6th). Make them study."
      ],
      "metadata": {
        "id": "VCnTuBxCARQC"
      }
    },
    {
      "cell_type": "markdown",
      "source": [
        "*# Solved Exercise #*"
      ],
      "metadata": {
        "id": "9yGcVbIEAZbX"
      }
    },
    {
      "cell_type": "code",
      "source": [
        "class Student:\n",
        "\n",
        "  def __init__(self, name, grade):\n",
        "    self.name = name\n",
        "    self. grade = grade\n",
        "\n",
        "  def study(self):\n",
        "    print(f\"{self.name} from {self.grade} grade is studying\")\n",
        "\n",
        "student_1 = Student(\"Rahul\",\"5th\")\n",
        "student_2 = Student(\"Priya\",\"6th\")\n",
        "\n",
        "student_1.study()\n",
        "student_2.study()"
      ],
      "metadata": {
        "colab": {
          "base_uri": "https://localhost:8080/"
        },
        "id": "YGk99sX1_9wx",
        "outputId": "70efec47-be14-4957-cedf-bb67f016b170"
      },
      "execution_count": null,
      "outputs": [
        {
          "output_type": "stream",
          "name": "stdout",
          "text": [
            "Rahul from 5th grade is studying\n",
            "Priya from 6th grade is studying\n"
          ]
        }
      ]
    },
    {
      "cell_type": "markdown",
      "source": [
        "---------------------------------------------------------------------------------------------"
      ],
      "metadata": {
        "id": "-IzxkICrBIAs"
      }
    },
    {
      "cell_type": "markdown",
      "source": [
        "Q4. Bonus Challenge 🎯\n",
        "\n",
        "- Create a Calculator class with methods:\n",
        "\n",
        "- add(a, b) → returns sum\n",
        "\n",
        " - subtract(a, b) → returns difference\n",
        "\n",
        "- multiply(a, b) → returns product\n",
        "\n",
        "- divide(a, b) → returns quotient\n",
        "\n",
        "- Create an object of Calculator and test all methods.\n"
      ],
      "metadata": {
        "id": "qjrsyRIgBxMS"
      }
    },
    {
      "cell_type": "markdown",
      "source": [
        "*# Solved Bonus Challenge #*"
      ],
      "metadata": {
        "id": "hSPBWXq9CRsB"
      }
    },
    {
      "cell_type": "code",
      "source": [
        "class Calculator:\n",
        "\n",
        "  def add(self,a,b):\n",
        "    return (a+b)\n",
        "\n",
        "  def subtract(self, a,b):\n",
        "    return (a-b)\n",
        "\n",
        "  def multiply(self, a,b):\n",
        "    return (a*b)\n",
        "\n",
        "  def divide(self, a,b):\n",
        "    if b!=0:\n",
        "      return (a/b)\n",
        "    else:\n",
        "      print(\"Can't divide by zero\")\n",
        "\n",
        "calc = Calculator()\n",
        "\n",
        "print(calc.add(10,5))\n",
        "print(calc.subtract(10,5))\n",
        "print(calc.multiply(10,5))\n",
        "print(calc.divide(10,5))\n",
        "\n"
      ],
      "metadata": {
        "colab": {
          "base_uri": "https://localhost:8080/"
        },
        "id": "GdKNOqBsBBls",
        "outputId": "a3af1ead-273a-41ee-cb3d-06889c4e81b8"
      },
      "execution_count": 5,
      "outputs": [
        {
          "output_type": "stream",
          "name": "stdout",
          "text": [
            "15\n",
            "5\n",
            "50\n",
            "2.0\n"
          ]
        }
      ]
    },
    {
      "cell_type": "markdown",
      "source": [
        "======================================================================================================="
      ],
      "metadata": {
        "id": "MnsbmxkwGd-c"
      }
    },
    {
      "cell_type": "code",
      "source": [],
      "metadata": {
        "id": "3v5sioOnDg3v"
      },
      "execution_count": null,
      "outputs": []
    }
  ]
}