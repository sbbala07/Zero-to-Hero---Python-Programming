{
  "nbformat": 4,
  "nbformat_minor": 0,
  "metadata": {
    "colab": {
      "provenance": []
    },
    "kernelspec": {
      "name": "python3",
      "display_name": "Python 3"
    },
    "language_info": {
      "name": "python"
    }
  },
  "cells": [
    {
      "cell_type": "markdown",
      "source": [
        "### ADDTIONAL PRACTICE TASK IN PYTHON - DATA STRUCTURES AND BASICS"
      ],
      "metadata": {
        "id": "b2C1wQ-4cCLq"
      }
    },
    {
      "cell_type": "markdown",
      "source": [
        "✅ Q1. Create a list of 5 fruits and print the second and last fruit."
      ],
      "metadata": {
        "id": "yKbgdUMgcJmQ"
      }
    },
    {
      "cell_type": "code",
      "execution_count": 20,
      "metadata": {
        "colab": {
          "base_uri": "https://localhost:8080/"
        },
        "id": "RKCDLtMsbxXj",
        "outputId": "bf8b1d65-1f2f-4a12-e5d2-e8913f433633"
      },
      "outputs": [
        {
          "output_type": "stream",
          "name": "stdout",
          "text": [
            "['mango', 'banana', 'apple', 'jackfruit', 'guava']\n",
            "banana\n",
            "guava\n"
          ]
        }
      ],
      "source": [
        "# Creating a list with 5 fruits\n",
        "\n",
        "fruit_list = ['mango','banana','apple','jackfruit','guava']\n",
        "\n",
        "print(fruit_list)\n",
        "\n",
        "# Printing the second fruit\n",
        "\n",
        "print(fruit_list[1])\n",
        "\n",
        "# Printing the last fruit\n",
        "\n",
        "print(fruit_list[-1])"
      ]
    },
    {
      "cell_type": "markdown",
      "source": [
        "--------------------------------------------------------------------------------"
      ],
      "metadata": {
        "id": "OIGzUPi_fKEx"
      }
    },
    {
      "cell_type": "markdown",
      "source": [
        "✅ Q2. Add a new fruit to the list and sort it alphabetically."
      ],
      "metadata": {
        "id": "D-ksPL7-fEHG"
      }
    },
    {
      "cell_type": "code",
      "source": [
        "# Add a new fruit to the list\n",
        "\n",
        "fruit_list.append(\"grape\")\n",
        "\n",
        "print(fruit_list)\n",
        "\n",
        "# Sort it alphabetically\n",
        "\n",
        "fruit_list.sort()\n",
        "print(fruit_list)"
      ],
      "metadata": {
        "colab": {
          "base_uri": "https://localhost:8080/"
        },
        "id": "2R-aUSjWeB19",
        "outputId": "3c9106fe-9590-4b8a-871a-d5dae6f79436"
      },
      "execution_count": 21,
      "outputs": [
        {
          "output_type": "stream",
          "name": "stdout",
          "text": [
            "['mango', 'banana', 'apple', 'jackfruit', 'guava', 'grape']\n",
            "['apple', 'banana', 'grape', 'guava', 'jackfruit', 'mango']\n"
          ]
        }
      ]
    },
    {
      "cell_type": "markdown",
      "source": [
        "--------------------------------------------------------------------------------"
      ],
      "metadata": {
        "id": "83GMyXRWniEF"
      }
    },
    {
      "cell_type": "markdown",
      "source": [
        "✅ Q3. Create a tuple of 4 colors. Try to change the second color. What happens?"
      ],
      "metadata": {
        "id": "BMDs5DJXkQt-"
      }
    },
    {
      "cell_type": "code",
      "source": [
        "# Create a tuple list\n",
        "colors_tuple = ('black','white','red','green')\n",
        "colors_tuple"
      ],
      "metadata": {
        "colab": {
          "base_uri": "https://localhost:8080/"
        },
        "id": "7mmYjOTBfZmO",
        "outputId": "29590211-bb80-4018-b7e9-3353786f0b77"
      },
      "execution_count": 24,
      "outputs": [
        {
          "output_type": "execute_result",
          "data": {
            "text/plain": [
              "('black', 'white', 'red', 'green')"
            ]
          },
          "metadata": {},
          "execution_count": 24
        }
      ]
    },
    {
      "cell_type": "code",
      "source": [
        "# Change the second color\n",
        "colors_tuple[1]='maroon'    # It will through an error"
      ],
      "metadata": {
        "colab": {
          "base_uri": "https://localhost:8080/",
          "height": 158
        },
        "id": "_A4J5AgZf_47",
        "outputId": "e5111303-1c3f-47bb-fd8d-1f75d004e0b5"
      },
      "execution_count": 25,
      "outputs": [
        {
          "output_type": "error",
          "ename": "TypeError",
          "evalue": "'tuple' object does not support item assignment",
          "traceback": [
            "\u001b[0;31m---------------------------------------------------------------------------\u001b[0m",
            "\u001b[0;31mTypeError\u001b[0m                                 Traceback (most recent call last)",
            "\u001b[0;32m/tmp/ipython-input-25-3612633343.py\u001b[0m in \u001b[0;36m<cell line: 0>\u001b[0;34m()\u001b[0m\n\u001b[1;32m      1\u001b[0m \u001b[0;31m# Change the second color\u001b[0m\u001b[0;34m\u001b[0m\u001b[0;34m\u001b[0m\u001b[0m\n\u001b[0;32m----> 2\u001b[0;31m \u001b[0mcolors_tuple\u001b[0m\u001b[0;34m[\u001b[0m\u001b[0;36m1\u001b[0m\u001b[0;34m]\u001b[0m\u001b[0;34m=\u001b[0m\u001b[0;34m'maroon'\u001b[0m\u001b[0;34m\u001b[0m\u001b[0;34m\u001b[0m\u001b[0m\n\u001b[0m",
            "\u001b[0;31mTypeError\u001b[0m: 'tuple' object does not support item assignment"
          ]
        }
      ]
    },
    {
      "cell_type": "markdown",
      "source": [
        "Tuples are immutable (unchangeable)."
      ],
      "metadata": {
        "id": "sIG7P-gulpaf"
      }
    },
    {
      "cell_type": "markdown",
      "source": [
        "--------------------------------------------------------------------------------"
      ],
      "metadata": {
        "id": "b35S7c9qnl10"
      }
    },
    {
      "cell_type": "markdown",
      "source": [
        "✅ Q4. Create a dictionary for a student with keys: name, age, and grade. Print the grade."
      ],
      "metadata": {
        "id": "SvFr5Nc6l4ir"
      }
    },
    {
      "cell_type": "code",
      "source": [
        "# Create a dictionary with student data\n",
        "\n",
        "student_data = {\n",
        "    'name': 'Maghi',\n",
        "    'age': 5,\n",
        "    'grade':'LKG'\n",
        "}\n",
        "\n",
        "print(student_data)\n",
        "\n",
        "# Print the grade\n",
        "\n",
        "student_data['grade']"
      ],
      "metadata": {
        "colab": {
          "base_uri": "https://localhost:8080/",
          "height": 53
        },
        "id": "91PeJn2elgKk",
        "outputId": "99cad7ea-9c4f-4d21-bd09-6d06e58e31eb"
      },
      "execution_count": 29,
      "outputs": [
        {
          "output_type": "stream",
          "name": "stdout",
          "text": [
            "{'name': 'Maghi', 'age': 5, 'grade': 'LKG'}\n"
          ]
        },
        {
          "output_type": "execute_result",
          "data": {
            "text/plain": [
              "'LKG'"
            ],
            "application/vnd.google.colaboratory.intrinsic+json": {
              "type": "string"
            }
          },
          "metadata": {},
          "execution_count": 29
        }
      ]
    },
    {
      "cell_type": "markdown",
      "source": [
        "--------------------------------------------------------------------------------"
      ],
      "metadata": {
        "id": "nWnL9rdInr48"
      }
    },
    {
      "cell_type": "markdown",
      "source": [
        "✅ Q5. Add a new key school and assign a value. Then print all keys.\n"
      ],
      "metadata": {
        "id": "fpatppZ1muic"
      }
    },
    {
      "cell_type": "code",
      "source": [
        "# Add a new key\n",
        "student_data['school'] = 'Indian public school'\n",
        "\n",
        "print(student_data)\n",
        "\n",
        "# Print all the keys\n",
        "student_data.keys()"
      ],
      "metadata": {
        "colab": {
          "base_uri": "https://localhost:8080/"
        },
        "id": "vbHCm7Ilmgcl",
        "outputId": "bc7e9151-5a10-4ab6-da50-9cc906c8c9d8"
      },
      "execution_count": 33,
      "outputs": [
        {
          "output_type": "stream",
          "name": "stdout",
          "text": [
            "{'name': 'Maghi', 'age': 5, 'grade': 'LKG', 'school': 'Indian public school'}\n"
          ]
        },
        {
          "output_type": "execute_result",
          "data": {
            "text/plain": [
              "dict_keys(['name', 'age', 'grade', 'school'])"
            ]
          },
          "metadata": {},
          "execution_count": 33
        }
      ]
    },
    {
      "cell_type": "markdown",
      "source": [
        "--------------------------------------------------------------------------------"
      ],
      "metadata": {
        "id": "4MayBPHRnuid"
      }
    },
    {
      "cell_type": "markdown",
      "source": [
        "✅ Q6. Create a set of your favorite hobbies. Add a new hobby to the set."
      ],
      "metadata": {
        "id": "L6Zozzsyndd0"
      }
    },
    {
      "cell_type": "code",
      "source": [
        "# Creating a set with favorite hobbies\n",
        "\n",
        "hobby_set = {'sleeping','playing','browsing'}\n",
        "print(hobby_set)\n",
        "\n",
        "# Add a new hobby to the set\n",
        "hobby_set.add(\"chatting\")\n",
        "hobby_set"
      ],
      "metadata": {
        "colab": {
          "base_uri": "https://localhost:8080/"
        },
        "id": "Q5lXF8QqnECP",
        "outputId": "95dabd95-d79e-4d14-d42c-7defe6bb0914"
      },
      "execution_count": 38,
      "outputs": [
        {
          "output_type": "stream",
          "name": "stdout",
          "text": [
            "{'sleeping', 'playing', 'browsing'}\n"
          ]
        },
        {
          "output_type": "execute_result",
          "data": {
            "text/plain": [
              "{'browsing', 'chatting', 'playing', 'sleeping'}"
            ]
          },
          "metadata": {},
          "execution_count": 38
        }
      ]
    },
    {
      "cell_type": "markdown",
      "source": [
        "--------------------------------------------------------------------------------"
      ],
      "metadata": {
        "id": "e-ZXWkTcodvU"
      }
    },
    {
      "cell_type": "markdown",
      "source": [
        "✅ Q7. Try adding a duplicate hobby and see what happens."
      ],
      "metadata": {
        "id": "bYjKvG4Cog0D"
      }
    },
    {
      "cell_type": "code",
      "source": [
        "# Adding a duplicate hobby\n",
        "\n",
        "hobby_set.add('playing')\n",
        "hobby_set"
      ],
      "metadata": {
        "colab": {
          "base_uri": "https://localhost:8080/"
        },
        "id": "FU991kd9oD5x",
        "outputId": "ef1e6837-0b7d-4610-a8c4-31a378a8d9d8"
      },
      "execution_count": 39,
      "outputs": [
        {
          "output_type": "execute_result",
          "data": {
            "text/plain": [
              "{'browsing', 'chatting', 'playing', 'sleeping'}"
            ]
          },
          "metadata": {},
          "execution_count": 39
        }
      ]
    },
    {
      "cell_type": "markdown",
      "source": [
        "- Set doesn't allow duplicates."
      ],
      "metadata": {
        "id": "0TOmrzB9oynO"
      }
    },
    {
      "cell_type": "markdown",
      "source": [
        "--------------------------------------------------------------------------------"
      ],
      "metadata": {
        "id": "vnX1v-0qpBPk"
      }
    },
    {
      "cell_type": "markdown",
      "source": [
        "✅ Q8. Write a function that takes a list of numbers and returns a set of unique numbers."
      ],
      "metadata": {
        "id": "G4W3yGqnpE2q"
      }
    },
    {
      "cell_type": "code",
      "source": [
        "# Creating a function\n",
        "def unique_number_list(num):\n",
        "  return set(num)   # return a set which gives unique numbers\n",
        "\n",
        "numbers = [1,2,3,1,5,10,7,9,5,4,6,8,2,3]\n",
        "\n",
        "unique_no = unique_number_list(numbers)\n",
        "\n",
        "print(\"Set of unique numbers:\", unique_no)\n"
      ],
      "metadata": {
        "colab": {
          "base_uri": "https://localhost:8080/"
        },
        "id": "ykbrYJzfoxrV",
        "outputId": "b43a5828-8597-49f0-9da7-5e814e2a3067"
      },
      "execution_count": 42,
      "outputs": [
        {
          "output_type": "stream",
          "name": "stdout",
          "text": [
            "Set of unique numbers: {1, 2, 3, 4, 5, 6, 7, 8, 9, 10}\n"
          ]
        }
      ]
    },
    {
      "cell_type": "markdown",
      "source": [
        "--------------------------------------------------------------------------------"
      ],
      "metadata": {
        "id": "QUTpc8H5s_MJ"
      }
    },
    {
      "cell_type": "markdown",
      "source": [
        "✅Q9. Create a function that counts how many times each word appears in a given sentence."
      ],
      "metadata": {
        "id": "XpwUFfR0s63q"
      }
    },
    {
      "cell_type": "code",
      "source": [
        "def unique_word_count(sentence):\n",
        "\n",
        "  words = set(sentence.split())   # Convert sentence into set of unique words\n",
        "\n",
        "  for word in words:    # Iterate each unique word in words\n",
        "\n",
        "    x = sentence.count(str(word))   # Count each word present in the sentence. Count function works with string not with list.\n",
        "\n",
        "    print (word, \":\", x)          # Printing the unique word and its count\n",
        "\n",
        "sen = 'Government of the people, by the people, and for the people, shall not perish from the earth.'\n",
        "\n",
        "unique_word_count(sen)"
      ],
      "metadata": {
        "colab": {
          "base_uri": "https://localhost:8080/"
        },
        "id": "D9YOI9wpqrvT",
        "outputId": "8582e3de-223e-4ab5-b8fe-70c9972182dd"
      },
      "execution_count": 51,
      "outputs": [
        {
          "output_type": "stream",
          "name": "stdout",
          "text": [
            "from : 1\n",
            "and : 1\n",
            "perish : 1\n",
            "of : 1\n",
            "for : 1\n",
            "not : 1\n",
            "by : 1\n",
            "earth. : 1\n",
            "the : 4\n",
            "people, : 3\n",
            "Government : 1\n",
            "shall : 1\n"
          ]
        }
      ]
    },
    {
      "cell_type": "markdown",
      "source": [
        "Here, \"people,\" and \" earth.\" considered as a single word which is different from words without punctuation. Used this sample sentence for practice with limited known functions."
      ],
      "metadata": {
        "id": "vwyAHeX2Kv1D"
      }
    },
    {
      "cell_type": "markdown",
      "source": [
        "--------------------------------------------------------------------------------"
      ],
      "metadata": {
        "id": "0AXublu-Lkep"
      }
    },
    {
      "cell_type": "markdown",
      "source": [
        "✅ Q10. Write a function that takes a list of numbers and returns a dictionary with keys: max, min, and average."
      ],
      "metadata": {
        "id": "6M5bxuuzMW60"
      }
    },
    {
      "cell_type": "code",
      "source": [
        "def numbers_dict(num):\n",
        "\n",
        "  describe = ({\n",
        "      'max': max(numbers),\n",
        "      'min': min(numbers),\n",
        "      \"average\": sum(numbers)/len(numbers)\n",
        "  })\n",
        "\n",
        "  return describe\n",
        "\n",
        "numbers = [10, 20, 30, 40, 50, 60]\n",
        "\n",
        "numbers_dict(numbers)"
      ],
      "metadata": {
        "colab": {
          "base_uri": "https://localhost:8080/"
        },
        "id": "EeZkeA906RlR",
        "outputId": "e3372a14-414e-4091-ed2f-9b681458d4fb"
      },
      "execution_count": 11,
      "outputs": [
        {
          "output_type": "execute_result",
          "data": {
            "text/plain": [
              "{'max': 60, 'min': 10, 'average': 35.0}"
            ]
          },
          "metadata": {},
          "execution_count": 11
        }
      ]
    },
    {
      "cell_type": "markdown",
      "source": [
        "================================================================================"
      ],
      "metadata": {
        "id": "aJfWNdVsznF5"
      }
    },
    {
      "cell_type": "code",
      "source": [],
      "metadata": {
        "id": "DYmdSU0EBKyT"
      },
      "execution_count": null,
      "outputs": []
    }
  ]
}