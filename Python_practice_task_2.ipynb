{
  "nbformat": 4,
  "nbformat_minor": 0,
  "metadata": {
    "colab": {
      "provenance": []
    },
    "kernelspec": {
      "name": "python3",
      "display_name": "Python 3"
    },
    "language_info": {
      "name": "python"
    }
  },
  "cells": [
    {
      "cell_type": "markdown",
      "source": [
        "# PYTHON PRACTICE: 2"
      ],
      "metadata": {
        "id": "_k3Vca-3c0r2"
      }
    },
    {
      "cell_type": "markdown",
      "source": [
        "✈ **TASK:1**"
      ],
      "metadata": {
        "id": "u_2KrKzFeCqR"
      }
    },
    {
      "cell_type": "markdown",
      "source": [
        "✅ Create variables for your:\n",
        "\n",
        "- name (string)\n",
        "- age (integer)\n",
        "- height (float)\n",
        "- is_student (boolean)"
      ],
      "metadata": {
        "id": "qLcOCcF1c-fu"
      }
    },
    {
      "cell_type": "code",
      "execution_count": 1,
      "metadata": {
        "colab": {
          "base_uri": "https://localhost:8080/"
        },
        "id": "n6sLrTS-cmjf",
        "outputId": "3e1600e7-3f4b-4203-abdb-2a6db38b6615"
      },
      "outputs": [
        {
          "output_type": "stream",
          "name": "stdout",
          "text": [
            "BALACHANDRAN <class 'str'>\n",
            "38 <class 'int'>\n",
            "5.7 <class 'float'>\n",
            "True <class 'bool'>\n"
          ]
        }
      ],
      "source": [
        "# Creating variables\n",
        "\n",
        "# name(string)\n",
        "\n",
        "name = 'BALACHANDRAN'\n",
        "\n",
        "# age(integer)\n",
        "\n",
        "Age = 38\n",
        "\n",
        "# height(float)\n",
        "\n",
        "height = 5.7\n",
        "\n",
        "# is_student(boolean)\n",
        "\n",
        "is_student = True\n",
        "\n",
        "print(name, type(name))\n",
        "print(Age, type(Age))\n",
        "print(height, type(height))\n",
        "print(is_student, type(is_student))\n"
      ]
    },
    {
      "cell_type": "markdown",
      "source": [
        "✈ **TASK:2**"
      ],
      "metadata": {
        "id": "jN4LoyY5e4sO"
      }
    },
    {
      "cell_type": "markdown",
      "source": [
        "✅ Perform:\n",
        "  - Addition of age + 5\n",
        "  - Check if age > 18\n",
        "  - Use `and` to check: is age > 18 AND is_student\n"
      ],
      "metadata": {
        "id": "f1zQL2mze6t2"
      }
    },
    {
      "cell_type": "code",
      "source": [
        "# Addtion of age + 5\n",
        "\n",
        "NewAge = Age + 5\n",
        "print(NewAge)\n",
        "\n",
        "# Check if age > 18\n",
        "\n",
        "print(Age > 18)\n",
        "\n",
        "# Use 'and' to check:is age > 18 AND is_student\n",
        "\n",
        "print(Age > 18 and is_student)\n"
      ],
      "metadata": {
        "colab": {
          "base_uri": "https://localhost:8080/"
        },
        "id": "cfVlA4mrduMS",
        "outputId": "06213834-0992-4014-8d56-0310221f41b7"
      },
      "execution_count": 12,
      "outputs": [
        {
          "output_type": "stream",
          "name": "stdout",
          "text": [
            "43\n",
            "True\n",
            "True\n"
          ]
        }
      ]
    },
    {
      "cell_type": "markdown",
      "source": [
        "✈ **TASK:3**"
      ],
      "metadata": {
        "id": "wyOsTheLERJV"
      }
    },
    {
      "cell_type": "markdown",
      "source": [
        "✅ Convert height to string and print type.\n"
      ],
      "metadata": {
        "id": "LGHE2G5TEjB4"
      }
    },
    {
      "cell_type": "code",
      "source": [
        "height"
      ],
      "metadata": {
        "colab": {
          "base_uri": "https://localhost:8080/"
        },
        "id": "2WFRrOV9fN-M",
        "outputId": "79768517-530b-4187-8f6c-17ce1e419a2b"
      },
      "execution_count": 104,
      "outputs": [
        {
          "output_type": "execute_result",
          "data": {
            "text/plain": [
              "5.7"
            ]
          },
          "metadata": {},
          "execution_count": 104
        }
      ]
    },
    {
      "cell_type": "markdown",
      "source": [
        "It is a float type. Then convert to string"
      ],
      "metadata": {
        "id": "RM67abeAE9wE"
      }
    },
    {
      "cell_type": "code",
      "source": [
        "# Convert height to string\n",
        "\n",
        "str(height)"
      ],
      "metadata": {
        "colab": {
          "base_uri": "https://localhost:8080/",
          "height": 36
        },
        "id": "LZ4AMSOxCTgO",
        "outputId": "2feb548c-a43c-49c4-af6f-770704aaecca"
      },
      "execution_count": 16,
      "outputs": [
        {
          "output_type": "execute_result",
          "data": {
            "text/plain": [
              "'5.7'"
            ],
            "application/vnd.google.colaboratory.intrinsic+json": {
              "type": "string"
            }
          },
          "metadata": {},
          "execution_count": 16
        }
      ]
    },
    {
      "cell_type": "code",
      "source": [
        "print(type(str(height))) # In single line first convert float to string, then checking the data type and print the output."
      ],
      "metadata": {
        "colab": {
          "base_uri": "https://localhost:8080/"
        },
        "id": "fMJgx4ysE04r",
        "outputId": "53d7780c-a0c7-415c-ef96-cc853e1c4d06"
      },
      "execution_count": 17,
      "outputs": [
        {
          "output_type": "stream",
          "name": "stdout",
          "text": [
            "<class 'str'>\n"
          ]
        }
      ]
    },
    {
      "cell_type": "markdown",
      "source": [
        "✈ **TASK:4**"
      ],
      "metadata": {
        "id": "QLuU8jNRFNVO"
      }
    },
    {
      "cell_type": "markdown",
      "source": [
        "✅ Create a list of 5 cities. Add 2 more, remove 1. Print the final list.\n"
      ],
      "metadata": {
        "id": "D0rZRZcOFWCL"
      }
    },
    {
      "cell_type": "code",
      "source": [
        "# Creating a list of 5 cities\n",
        "\n",
        "cities = ['Ramnad', 'Chennai', 'Pondy', 'Madurai', 'Coimbatore']\n",
        "\n",
        "print(cities, type(cities))"
      ],
      "metadata": {
        "colab": {
          "base_uri": "https://localhost:8080/"
        },
        "id": "r8bLqSmUE7N1",
        "outputId": "8f2971ea-5eda-4937-ce86-e67a4c88af82"
      },
      "execution_count": 58,
      "outputs": [
        {
          "output_type": "stream",
          "name": "stdout",
          "text": [
            "['Ramnad', 'Chennai', 'Pondy', 'Madurai', 'Coimbatore'] <class 'list'>\n"
          ]
        }
      ]
    },
    {
      "cell_type": "code",
      "source": [
        "# Add 2 more\n",
        "\n",
        "cities.append('Trichy')\n",
        "cities.append('Salem')"
      ],
      "metadata": {
        "id": "ich02wHzFpuz"
      },
      "execution_count": 59,
      "outputs": []
    },
    {
      "cell_type": "markdown",
      "source": [
        "Note:\n",
        "\n",
        "We can't add two entries once with append functon. We can use 'extend' or '+' operator two add two or more entries in a single line of code."
      ],
      "metadata": {
        "id": "UpWZRiMFH5kz"
      }
    },
    {
      "cell_type": "code",
      "source": [
        "cities"
      ],
      "metadata": {
        "colab": {
          "base_uri": "https://localhost:8080/"
        },
        "id": "7oITlTyCGHWt",
        "outputId": "2e84d75f-24f4-4b6a-b678-690d98557898"
      },
      "execution_count": 60,
      "outputs": [
        {
          "output_type": "execute_result",
          "data": {
            "text/plain": [
              "['Ramnad', 'Chennai', 'Pondy', 'Madurai', 'Coimbatore', 'Trichy', 'Salem']"
            ]
          },
          "metadata": {},
          "execution_count": 60
        }
      ]
    },
    {
      "cell_type": "code",
      "source": [
        "# Remove 1 city\n",
        "\n",
        "cities.remove('Chennai')\n",
        "final_list = cities\n",
        "final_list"
      ],
      "metadata": {
        "colab": {
          "base_uri": "https://localhost:8080/"
        },
        "id": "rSiJug2NGX-4",
        "outputId": "b6d40a2f-1b59-418e-fcab-ebf0e77d4716"
      },
      "execution_count": 61,
      "outputs": [
        {
          "output_type": "execute_result",
          "data": {
            "text/plain": [
              "['Ramnad', 'Pondy', 'Madurai', 'Coimbatore', 'Trichy', 'Salem']"
            ]
          },
          "metadata": {},
          "execution_count": 61
        }
      ]
    },
    {
      "cell_type": "markdown",
      "source": [
        "✈ **TASK:5**"
      ],
      "metadata": {
        "id": "DswoEFNMJ6iR"
      }
    },
    {
      "cell_type": "markdown",
      "source": [
        "✅ Create a tuple of 3 numbers. Access the second number.\n"
      ],
      "metadata": {
        "id": "yrA3doPDKEZ6"
      }
    },
    {
      "cell_type": "code",
      "source": [
        "# create a tuple of 3 numbers\n",
        "tuple = (3,6,9)\n",
        "tuple"
      ],
      "metadata": {
        "colab": {
          "base_uri": "https://localhost:8080/"
        },
        "id": "_XuMphqnI-Br",
        "outputId": "c35044c0-8400-4d1c-817a-6c20c6759c07"
      },
      "execution_count": 64,
      "outputs": [
        {
          "output_type": "execute_result",
          "data": {
            "text/plain": [
              "(3, 6, 9)"
            ]
          },
          "metadata": {},
          "execution_count": 64
        }
      ]
    },
    {
      "cell_type": "code",
      "source": [
        "# Access the second number\n",
        "tuple[1]"
      ],
      "metadata": {
        "colab": {
          "base_uri": "https://localhost:8080/"
        },
        "id": "P-iX_1E8KJNu",
        "outputId": "af546f4f-98dd-4f22-f7df-9fdb5f1cdf1c"
      },
      "execution_count": 66,
      "outputs": [
        {
          "output_type": "execute_result",
          "data": {
            "text/plain": [
              "6"
            ]
          },
          "metadata": {},
          "execution_count": 66
        }
      ]
    },
    {
      "cell_type": "markdown",
      "source": [
        "✈ **TASK:6**  "
      ],
      "metadata": {
        "id": "AtPB2_LaKo4b"
      }
    },
    {
      "cell_type": "markdown",
      "source": [
        "✅ Make a set of your hobbies. Add a hobby. Try adding a duplicate."
      ],
      "metadata": {
        "id": "e8swdkrJKqsS"
      }
    },
    {
      "cell_type": "code",
      "source": [
        "# Set of your hobbies\n",
        "\n",
        "hobbies = {'Reading','Cooking','Workout','Coding','Playing'}\n",
        "hobbies"
      ],
      "metadata": {
        "colab": {
          "base_uri": "https://localhost:8080/"
        },
        "id": "-ne3pUi-KSPe",
        "outputId": "16c5a0a8-26b9-4e98-8f7b-448c3e9e2382"
      },
      "execution_count": 67,
      "outputs": [
        {
          "output_type": "execute_result",
          "data": {
            "text/plain": [
              "{'Coding', 'Cooking', 'Playing', 'Reading', 'Workout'}"
            ]
          },
          "metadata": {},
          "execution_count": 67
        }
      ]
    },
    {
      "cell_type": "code",
      "source": [
        "# Add a hobby\n",
        "hobbies.add('Driving')\n",
        "hobbies"
      ],
      "metadata": {
        "colab": {
          "base_uri": "https://localhost:8080/"
        },
        "id": "dTOPtpTiLSjZ",
        "outputId": "900b4442-9935-471c-986e-990829335eb5"
      },
      "execution_count": 70,
      "outputs": [
        {
          "output_type": "execute_result",
          "data": {
            "text/plain": [
              "{'Coding', 'Cooking', 'Driving', 'Playing', 'Reading', 'Workout'}"
            ]
          },
          "metadata": {},
          "execution_count": 70
        }
      ]
    },
    {
      "cell_type": "code",
      "source": [
        "# Adding a duplicate\n",
        "\n",
        "hobbies.add('Playing')\n",
        "hobbies"
      ],
      "metadata": {
        "colab": {
          "base_uri": "https://localhost:8080/"
        },
        "id": "wY1YjqTHLhxz",
        "outputId": "9cbb588f-f6b3-41a2-f2f7-6541e367b47d"
      },
      "execution_count": 72,
      "outputs": [
        {
          "output_type": "execute_result",
          "data": {
            "text/plain": [
              "{'Coding', 'Cooking', 'Driving', 'Playing', 'Reading', 'Workout'}"
            ]
          },
          "metadata": {},
          "execution_count": 72
        }
      ]
    },
    {
      "cell_type": "markdown",
      "source": [
        "Set won't allows duplicate"
      ],
      "metadata": {
        "id": "Gq1Zw9EdL3dM"
      }
    },
    {
      "cell_type": "markdown",
      "source": [
        "✈ **TASK:7**"
      ],
      "metadata": {
        "id": "RMA-91taMa-F"
      }
    },
    {
      "cell_type": "markdown",
      "source": [
        "✅ Make a dictionary for a book: title, author, price. Change the price."
      ],
      "metadata": {
        "id": "_xAp8SU4MdqW"
      }
    },
    {
      "cell_type": "code",
      "source": [
        "# Making a dictionary\n",
        "\n",
        "book = {\n",
        "    'Title': 'Winning with AI',\n",
        "    'Author': 'David Reed',\n",
        "    'Price': 449\n",
        "}"
      ],
      "metadata": {
        "id": "CWoUzgr_Lzew"
      },
      "execution_count": 81,
      "outputs": []
    },
    {
      "cell_type": "code",
      "source": [
        "print(book, type(book))"
      ],
      "metadata": {
        "colab": {
          "base_uri": "https://localhost:8080/"
        },
        "id": "U7Ty06h6N4XI",
        "outputId": "da73e772-ad32-463f-dd9c-8918860617a7"
      },
      "execution_count": 82,
      "outputs": [
        {
          "output_type": "stream",
          "name": "stdout",
          "text": [
            "{'Title': 'Winning with AI', 'Author': 'David Reed', 'Price': 449} <class 'dict'>\n"
          ]
        }
      ]
    },
    {
      "cell_type": "code",
      "source": [
        "# Change the price\n",
        "\n",
        "book['Price'] = 300"
      ],
      "metadata": {
        "id": "KwtpsowWN5fW"
      },
      "execution_count": 83,
      "outputs": []
    },
    {
      "cell_type": "code",
      "source": [
        "book"
      ],
      "metadata": {
        "colab": {
          "base_uri": "https://localhost:8080/"
        },
        "id": "SUb7NWSfOJZG",
        "outputId": "4eb8850b-0ded-4551-8558-eba20f0839f3"
      },
      "execution_count": 84,
      "outputs": [
        {
          "output_type": "execute_result",
          "data": {
            "text/plain": [
              "{'Title': 'Winning with AI', 'Author': 'David Reed', 'Price': 300}"
            ]
          },
          "metadata": {},
          "execution_count": 84
        }
      ]
    },
    {
      "cell_type": "markdown",
      "source": [
        "# **🏷️ ✅ Quick Quiz**"
      ],
      "metadata": {
        "id": "VXYV3BjoOeEc"
      }
    },
    {
      "cell_type": "markdown",
      "source": [
        "✅ What is the difference between an integer and a float?  "
      ],
      "metadata": {
        "id": "JzN0wX-HOlFv"
      }
    },
    {
      "cell_type": "markdown",
      "source": [
        "\n",
        "\n",
        "---\n",
        "- **Integer is a whole number either positive or negative numbers. Float is a decimal numbers with positive or negative values.**\n"
      ],
      "metadata": {
        "id": "KzVdJ7r0OmwM"
      }
    },
    {
      "cell_type": "code",
      "source": [
        "int = 3   # Integer\n",
        "float_num = 3.55   # Float"
      ],
      "metadata": {
        "id": "Ov_e7ZEUPTSH"
      },
      "execution_count": 87,
      "outputs": []
    },
    {
      "cell_type": "markdown",
      "source": [
        "✅ How do you check a variable’s type?"
      ],
      "metadata": {
        "id": "trvp1kN7PNzo"
      }
    },
    {
      "cell_type": "markdown",
      "source": [
        "\n",
        "\n",
        "---\n",
        "\n",
        "- **To check the type of variable using a function 'type(variable_name)'**"
      ],
      "metadata": {
        "id": "qNPhVeNiPf7s"
      }
    },
    {
      "cell_type": "code",
      "source": [
        "type(float_num)"
      ],
      "metadata": {
        "colab": {
          "base_uri": "https://localhost:8080/"
        },
        "id": "J-71afAsOKT5",
        "outputId": "3bb861dd-e2af-4ca8-872c-4775a60190a1"
      },
      "execution_count": 88,
      "outputs": [
        {
          "output_type": "execute_result",
          "data": {
            "text/plain": [
              "float"
            ]
          },
          "metadata": {},
          "execution_count": 88
        }
      ]
    },
    {
      "cell_type": "markdown",
      "source": [
        "✅ What does `==` mean?  "
      ],
      "metadata": {
        "id": "Qf9qL5FzQOe0"
      }
    },
    {
      "cell_type": "markdown",
      "source": [
        "---\n",
        "- **It's a comparison operator used to compare two values and it always gives boolean result.**\n"
      ],
      "metadata": {
        "id": "xE9qVIIyQTNr"
      }
    },
    {
      "cell_type": "code",
      "source": [
        "5 == 3"
      ],
      "metadata": {
        "colab": {
          "base_uri": "https://localhost:8080/"
        },
        "id": "vSo2bxPWP3R3",
        "outputId": "969efe09-e6fc-4792-ec50-6725d5be2f4c"
      },
      "execution_count": 105,
      "outputs": [
        {
          "output_type": "execute_result",
          "data": {
            "text/plain": [
              "False"
            ]
          },
          "metadata": {},
          "execution_count": 105
        }
      ]
    },
    {
      "cell_type": "markdown",
      "source": [
        "✅ What does `and` do?"
      ],
      "metadata": {
        "id": "fDTrfkNYRrSQ"
      }
    },
    {
      "cell_type": "markdown",
      "source": [
        "---\n",
        "- **`and` is a logical operator used to compare two condition. It always gives a boolean result(True or False).**\n"
      ],
      "metadata": {
        "id": "wOkgWimFR4Zq"
      }
    },
    {
      "cell_type": "code",
      "source": [
        "True and False"
      ],
      "metadata": {
        "colab": {
          "base_uri": "https://localhost:8080/"
        },
        "id": "S6lO2WjwRVCg",
        "outputId": "391f1b1e-e8ca-4464-ec7e-ec41474396ee"
      },
      "execution_count": 91,
      "outputs": [
        {
          "output_type": "execute_result",
          "data": {
            "text/plain": [
              "False"
            ]
          },
          "metadata": {},
          "execution_count": 91
        }
      ]
    },
    {
      "cell_type": "markdown",
      "source": [
        "✅ Which data structure is immutable?"
      ],
      "metadata": {
        "id": "6syqBATuUOdu"
      }
    },
    {
      "cell_type": "markdown",
      "source": [
        "---\n",
        "\n",
        "- **The data structure 'tuple' is a immutable.**"
      ],
      "metadata": {
        "id": "7EQjWR7QUPoi"
      }
    },
    {
      "cell_type": "code",
      "source": [
        "tuple_eg = (10, 20, 30)\n",
        "\n",
        "tuple_eg[1]= 40   # It will give error because it is immutable."
      ],
      "metadata": {
        "id": "bv3KhcW1Wd-c"
      },
      "execution_count": null,
      "outputs": []
    },
    {
      "cell_type": "markdown",
      "source": [
        "✅ Which one does not allow duplicates?"
      ],
      "metadata": {
        "id": "NPGhTxMpV-uL"
      }
    },
    {
      "cell_type": "markdown",
      "source": [
        "\n",
        "---\n",
        "\n",
        "- **The data type 'set' doesn't allow duplicates**"
      ],
      "metadata": {
        "id": "5-E9OSyXWDqb"
      }
    },
    {
      "cell_type": "code",
      "source": [
        "set_eg = {'Navina','kavin','harshi','janav'}\n",
        "print(set_eg)\n",
        "\n",
        "# Add a duplicate\n",
        "set_eg.add('kavin')\n",
        "print(set_eg)"
      ],
      "metadata": {
        "colab": {
          "base_uri": "https://localhost:8080/"
        },
        "id": "_r9cfe2SWsHF",
        "outputId": "12a35f06-86ba-44cb-c775-b7d913d84380"
      },
      "execution_count": 97,
      "outputs": [
        {
          "output_type": "stream",
          "name": "stdout",
          "text": [
            "{'Navina', 'kavin', 'harshi', 'janav'}\n",
            "{'Navina', 'kavin', 'harshi', 'janav'}\n"
          ]
        }
      ]
    },
    {
      "cell_type": "markdown",
      "source": [
        "✅ How do you add a key-value pair to a dictionary?"
      ],
      "metadata": {
        "id": "6_pEWUwEXS-J"
      }
    },
    {
      "cell_type": "markdown",
      "source": [
        "\n",
        "---\n",
        "\n",
        "- **We can add a key-value pair to a dictionary using add function with key and values.**"
      ],
      "metadata": {
        "id": "z6A8VT5fXZO9"
      }
    },
    {
      "cell_type": "code",
      "source": [
        "dict_eg = {\n",
        "    'shirt': 'Basics',\n",
        "    'Jean': 'Mufti'\n",
        "}\n",
        "\n",
        "print(dict_eg)\n",
        "\n",
        "# Adding a key-value pair\n",
        "\n",
        "dict_eg['shoe']='LP'   # Here, key--> shoe and value-->LP\n",
        "\n",
        "print(dict_eg)"
      ],
      "metadata": {
        "colab": {
          "base_uri": "https://localhost:8080/"
        },
        "id": "KBKs7uSoTmGh",
        "outputId": "261a987f-35e9-46de-bf11-bed7ce440571"
      },
      "execution_count": 100,
      "outputs": [
        {
          "output_type": "stream",
          "name": "stdout",
          "text": [
            "{'shirt': 'Basics', 'Jean': 'Mufti'}\n",
            "{'shirt': 'Basics', 'Jean': 'Mufti', 'shoe': 'LP'}\n"
          ]
        }
      ]
    },
    {
      "cell_type": "markdown",
      "source": [
        "✅ How do you remove an item from a set?"
      ],
      "metadata": {
        "id": "nn_MKhDBYLXe"
      }
    },
    {
      "cell_type": "markdown",
      "source": [
        "\n",
        "---\n",
        "\n",
        "- **We can remove an item in a set using remove function.**"
      ],
      "metadata": {
        "id": "A032siTrZDyv"
      }
    },
    {
      "cell_type": "code",
      "source": [
        "# Creating a set\n",
        "new_set_eg = {10, 20, 5.0, 'Navina', 'Kavin'}\n",
        "print(new_set_eg)\n",
        "\n",
        "# Remove an item from a set\n",
        "new_set_eg.remove(20)\n",
        "print(new_set_eg)"
      ],
      "metadata": {
        "colab": {
          "base_uri": "https://localhost:8080/"
        },
        "id": "isdJatBSXzn_",
        "outputId": "d4a2ef23-4cf1-41c4-9f02-ba8951efdb14"
      },
      "execution_count": 102,
      "outputs": [
        {
          "output_type": "stream",
          "name": "stdout",
          "text": [
            "{'Navina', 20, 5.0, 'Kavin', 10}\n",
            "{'Navina', 5.0, 'Kavin', 10}\n"
          ]
        }
      ]
    }
  ]
}