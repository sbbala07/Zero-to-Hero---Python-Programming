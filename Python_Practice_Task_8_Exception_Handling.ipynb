{
  "nbformat": 4,
  "nbformat_minor": 0,
  "metadata": {
    "colab": {
      "provenance": []
    },
    "kernelspec": {
      "name": "python3",
      "display_name": "Python 3"
    },
    "language_info": {
      "name": "python"
    }
  },
  "cells": [
    {
      "cell_type": "markdown",
      "source": [
        "# Exception Handling\n",
        "\n",
        "- Exception handling handles the error that occurs during the execution of the program.\n",
        "- It helps in preventing crashes due to errors.\n"
      ],
      "metadata": {
        "id": "ZAftpq8l28Pi"
      }
    },
    {
      "cell_type": "markdown",
      "source": [
        "✅ Task:\n",
        "\n",
        "Try to cause IndexError"
      ],
      "metadata": {
        "id": "CFGmETvg3jeD"
      }
    },
    {
      "cell_type": "markdown",
      "source": [
        "Index Error:\n",
        "\n",
        "- Index error occurs when an attempt is made to access an element in a sequence like in list, tuples, string using an index that is outside the valid range of indices for that sequence."
      ],
      "metadata": {
        "id": "1llfA4813l8h"
      }
    },
    {
      "cell_type": "markdown",
      "source": [
        "*Example*"
      ],
      "metadata": {
        "id": "s1q8qU-W4CSg"
      }
    },
    {
      "cell_type": "code",
      "execution_count": 1,
      "metadata": {
        "colab": {
          "base_uri": "https://localhost:8080/",
          "height": 176
        },
        "id": "B9vm1hGt0ahK",
        "outputId": "0fe64784-2b71-4139-953c-0c110bbd08b7"
      },
      "outputs": [
        {
          "output_type": "error",
          "ename": "IndexError",
          "evalue": "list index out of range",
          "traceback": [
            "\u001b[0;31m---------------------------------------------------------------------------\u001b[0m",
            "\u001b[0;31mIndexError\u001b[0m                                Traceback (most recent call last)",
            "\u001b[0;32m/tmp/ipython-input-3138975909.py\u001b[0m in \u001b[0;36m<cell line: 0>\u001b[0;34m()\u001b[0m\n\u001b[1;32m      1\u001b[0m \u001b[0mlist\u001b[0m \u001b[0;34m=\u001b[0m \u001b[0;34m[\u001b[0m\u001b[0;36m1\u001b[0m\u001b[0;34m,\u001b[0m\u001b[0;36m3\u001b[0m\u001b[0;34m,\u001b[0m\u001b[0;36m5\u001b[0m\u001b[0;34m,\u001b[0m\u001b[0;36m7\u001b[0m\u001b[0;34m]\u001b[0m\u001b[0;34m\u001b[0m\u001b[0;34m\u001b[0m\u001b[0m\n\u001b[1;32m      2\u001b[0m \u001b[0;34m\u001b[0m\u001b[0m\n\u001b[0;32m----> 3\u001b[0;31m \u001b[0mlist\u001b[0m\u001b[0;34m[\u001b[0m\u001b[0;36m6\u001b[0m\u001b[0;34m]\u001b[0m\u001b[0;34m\u001b[0m\u001b[0;34m\u001b[0m\u001b[0m\n\u001b[0m",
            "\u001b[0;31mIndexError\u001b[0m: list index out of range"
          ]
        }
      ],
      "source": [
        "list = [1,3,5,7]\n",
        "\n",
        "list[6]"
      ]
    },
    {
      "cell_type": "markdown",
      "source": [
        "**Explanation**\n",
        "\n",
        "In th above example, we are trying to access the 6th element from a list which has only 4 elements."
      ],
      "metadata": {
        "id": "o1CnIwWn4S69"
      }
    },
    {
      "cell_type": "markdown",
      "source": [
        "☣☣☣☣☣☣☣☣☣☣☣☣☣☣☣☣☣☣☣☣☣☣☣☣☣☣☣☣☣☣☣☣☣☣☣☣☣☣☣☣☣☣☣☣☣☣☣☣☣☣☣☣☣☣☣☣☣☣☣☣☣☣☣☣☣☣☣☣☣"
      ],
      "metadata": {
        "id": "WGGCMbN34wEC"
      }
    },
    {
      "cell_type": "markdown",
      "source": [
        "✅ Task:\n",
        "\n",
        "Modify the code to handle TypeError"
      ],
      "metadata": {
        "id": "LjnEBNgu4uyJ"
      }
    },
    {
      "cell_type": "code",
      "source": [
        "try:\n",
        "\n",
        "    num = int(input(\"Enter a number: \"))\n",
        "\n",
        "    result = 10 / num\n",
        "\n",
        "    print(f\"Result: {result}\")\n",
        "\n",
        "except:\n",
        "\n",
        "    print(\"Error!\")"
      ],
      "metadata": {
        "colab": {
          "base_uri": "https://localhost:8080/"
        },
        "id": "U_lh6k-g6yxn",
        "outputId": "e23e6ad7-56e9-4093-a1b3-4777448635fc"
      },
      "execution_count": 2,
      "outputs": [
        {
          "output_type": "stream",
          "name": "stdout",
          "text": [
            "Error!\n"
          ]
        }
      ]
    },
    {
      "cell_type": "markdown",
      "source": [
        "Type Error:\n",
        "\n",
        "- Type error occurs when we tries to perform operation with an unexpected  datatype."
      ],
      "metadata": {
        "id": "hxJJct_K5rBn"
      }
    },
    {
      "cell_type": "code",
      "source": [
        "try:\n",
        "\n",
        "    num = input(\"Enter a number: \")\n",
        "\n",
        "    result = str(num) + 25\n",
        "\n",
        "    print(f\"Result: {result}\")\n",
        "\n",
        "\n",
        "except TypeError:\n",
        "\n",
        "    print(\"Please enter the valid datatype\")"
      ],
      "metadata": {
        "colab": {
          "base_uri": "https://localhost:8080/"
        },
        "id": "nY_QyIcy4MUz",
        "outputId": "212d1bca-01ad-41e5-e44b-e65f0282ad44"
      },
      "execution_count": 59,
      "outputs": [
        {
          "output_type": "stream",
          "name": "stdout",
          "text": [
            "Enter a number: 10\n",
            "Please enter the valid datatype\n"
          ]
        }
      ]
    },
    {
      "cell_type": "markdown",
      "source": [
        "☣☣☣☣☣☣☣☣☣☣☣☣☣☣☣☣☣☣☣☣☣☣☣☣☣☣☣☣☣☣☣☣☣☣☣☣☣☣☣☣☣☣☣☣☣☣☣☣☣☣☣☣☣☣☣☣☣☣☣☣☣☣☣☣☣☣☣☣☣"
      ],
      "metadata": {
        "id": "su2h1tSyPLaC"
      }
    },
    {
      "cell_type": "markdown",
      "source": [
        "✅ Task:\n",
        "\n",
        "Think of a real example where `finally` is needed."
      ],
      "metadata": {
        "id": "sdq4Gx3UPPsz"
      }
    },
    {
      "cell_type": "markdown",
      "source": [
        "- Finally block ensures that the specific that specific section of the code is executed.\n",
        "\n",
        "- In the real example Suppose if we are writing a file. Whether the write is successful or an exception occurs, we still want to make sure the file is properly closed and that’s where finally comes in."
      ],
      "metadata": {
        "id": "7gBMg_jkPem-"
      }
    },
    {
      "cell_type": "markdown",
      "source": [
        "*Example*"
      ],
      "metadata": {
        "id": "F8QRoO1EQY4C"
      }
    },
    {
      "cell_type": "code",
      "source": [
        "try:\n",
        "    file = open(\"example.txt\", \"w\")\n",
        "    file.write(\"Writing some data...\")\n",
        "\n",
        "    # raise an error\n",
        "    raise ValueError(\"Something went wrong!\")\n",
        "\n",
        "except ValueError as v:\n",
        "    print(f\"Error: {v}\")\n",
        "\n",
        "finally:\n",
        "    file.close()\n",
        "    print(\"File closed.\")\n"
      ],
      "metadata": {
        "colab": {
          "base_uri": "https://localhost:8080/"
        },
        "id": "1KrHQFWsCCC_",
        "outputId": "32924f78-377a-4f25-e402-9ba02e2d6f39"
      },
      "execution_count": 64,
      "outputs": [
        {
          "output_type": "stream",
          "name": "stdout",
          "text": [
            "Error: Something went wrong!\n",
            "File closed.\n"
          ]
        }
      ]
    },
    {
      "cell_type": "markdown",
      "source": [
        "☣☣☣☣☣☣☣☣☣☣☣☣☣☣☣☣☣☣☣☣☣☣☣☣☣☣☣☣☣☣☣☣☣☣☣☣☣☣☣☣☣☣☣☣☣☣☣☣☣☣☣☣☣☣☣☣☣☣☣☣☣☣☣☣☣☣☣☣☣"
      ],
      "metadata": {
        "id": "mZL0dEcNZk90"
      }
    },
    {
      "cell_type": "markdown",
      "source": [
        "✅ Task:\n",
        "\n",
        "Write a function check_marks(marks) — raise ValueError if marks > 100 or < 0."
      ],
      "metadata": {
        "id": "8ig22UtlZ1Mq"
      }
    },
    {
      "cell_type": "code",
      "source": [
        "def check_marks(marks):\n",
        "\n",
        "  if marks > 100 or marks < 0:\n",
        "    raise ValueError(\"Invalid marks\")\n",
        "  else:\n",
        "    print(\"The marks is: \",{marks})"
      ],
      "metadata": {
        "id": "befWT_iiRm0P"
      },
      "execution_count": 66,
      "outputs": []
    },
    {
      "cell_type": "code",
      "source": [
        "check_marks(50)\n",
        "check_marks(120)"
      ],
      "metadata": {
        "colab": {
          "base_uri": "https://localhost:8080/",
          "height": 297
        },
        "id": "N3Um4HUea2Be",
        "outputId": "7089287e-3cc2-4b26-fe43-b13dc4484988"
      },
      "execution_count": 68,
      "outputs": [
        {
          "output_type": "stream",
          "name": "stdout",
          "text": [
            "The marks is:  {50}\n"
          ]
        },
        {
          "output_type": "error",
          "ename": "ValueError",
          "evalue": "Invalid marks",
          "traceback": [
            "\u001b[0;31m---------------------------------------------------------------------------\u001b[0m",
            "\u001b[0;31mValueError\u001b[0m                                Traceback (most recent call last)",
            "\u001b[0;32m/tmp/ipython-input-2825729132.py\u001b[0m in \u001b[0;36m<cell line: 0>\u001b[0;34m()\u001b[0m\n\u001b[1;32m      1\u001b[0m \u001b[0mcheck_marks\u001b[0m\u001b[0;34m(\u001b[0m\u001b[0;36m50\u001b[0m\u001b[0;34m)\u001b[0m\u001b[0;34m\u001b[0m\u001b[0;34m\u001b[0m\u001b[0m\n\u001b[0;32m----> 2\u001b[0;31m \u001b[0mcheck_marks\u001b[0m\u001b[0;34m(\u001b[0m\u001b[0;36m120\u001b[0m\u001b[0;34m)\u001b[0m\u001b[0;34m\u001b[0m\u001b[0;34m\u001b[0m\u001b[0m\n\u001b[0m",
            "\u001b[0;32m/tmp/ipython-input-3015494563.py\u001b[0m in \u001b[0;36mcheck_marks\u001b[0;34m(marks)\u001b[0m\n\u001b[1;32m      2\u001b[0m \u001b[0;34m\u001b[0m\u001b[0m\n\u001b[1;32m      3\u001b[0m   \u001b[0;32mif\u001b[0m \u001b[0mmarks\u001b[0m \u001b[0;34m>\u001b[0m \u001b[0;36m100\u001b[0m \u001b[0;32mor\u001b[0m \u001b[0mmarks\u001b[0m \u001b[0;34m<\u001b[0m \u001b[0;36m0\u001b[0m\u001b[0;34m:\u001b[0m\u001b[0;34m\u001b[0m\u001b[0;34m\u001b[0m\u001b[0m\n\u001b[0;32m----> 4\u001b[0;31m     \u001b[0;32mraise\u001b[0m \u001b[0mValueError\u001b[0m\u001b[0;34m(\u001b[0m\u001b[0;34m\"Invalid marks\"\u001b[0m\u001b[0;34m)\u001b[0m\u001b[0;34m\u001b[0m\u001b[0;34m\u001b[0m\u001b[0m\n\u001b[0m\u001b[1;32m      5\u001b[0m   \u001b[0;32melse\u001b[0m\u001b[0;34m:\u001b[0m\u001b[0;34m\u001b[0m\u001b[0;34m\u001b[0m\u001b[0m\n\u001b[1;32m      6\u001b[0m     \u001b[0mprint\u001b[0m\u001b[0;34m(\u001b[0m\u001b[0;34m\"The marks is: \"\u001b[0m\u001b[0;34m,\u001b[0m\u001b[0;34m{\u001b[0m\u001b[0mmarks\u001b[0m\u001b[0;34m}\u001b[0m\u001b[0;34m)\u001b[0m\u001b[0;34m\u001b[0m\u001b[0;34m\u001b[0m\u001b[0m\n",
            "\u001b[0;31mValueError\u001b[0m: Invalid marks"
          ]
        }
      ]
    },
    {
      "cell_type": "code",
      "source": [
        "check_marks(25)\n",
        "check_marks(-5)"
      ],
      "metadata": {
        "colab": {
          "base_uri": "https://localhost:8080/",
          "height": 297
        },
        "id": "jD6FCF_pbCaW",
        "outputId": "2507c4ad-9fd5-41c3-a6ac-c1000257acdf"
      },
      "execution_count": 69,
      "outputs": [
        {
          "output_type": "stream",
          "name": "stdout",
          "text": [
            "The marks is:  {25}\n"
          ]
        },
        {
          "output_type": "error",
          "ename": "ValueError",
          "evalue": "Invalid marks",
          "traceback": [
            "\u001b[0;31m---------------------------------------------------------------------------\u001b[0m",
            "\u001b[0;31mValueError\u001b[0m                                Traceback (most recent call last)",
            "\u001b[0;32m/tmp/ipython-input-2431411208.py\u001b[0m in \u001b[0;36m<cell line: 0>\u001b[0;34m()\u001b[0m\n\u001b[1;32m      1\u001b[0m \u001b[0mcheck_marks\u001b[0m\u001b[0;34m(\u001b[0m\u001b[0;36m25\u001b[0m\u001b[0;34m)\u001b[0m\u001b[0;34m\u001b[0m\u001b[0;34m\u001b[0m\u001b[0m\n\u001b[0;32m----> 2\u001b[0;31m \u001b[0mcheck_marks\u001b[0m\u001b[0;34m(\u001b[0m\u001b[0;34m-\u001b[0m\u001b[0;36m5\u001b[0m\u001b[0;34m)\u001b[0m\u001b[0;34m\u001b[0m\u001b[0;34m\u001b[0m\u001b[0m\n\u001b[0m",
            "\u001b[0;32m/tmp/ipython-input-3015494563.py\u001b[0m in \u001b[0;36mcheck_marks\u001b[0;34m(marks)\u001b[0m\n\u001b[1;32m      2\u001b[0m \u001b[0;34m\u001b[0m\u001b[0m\n\u001b[1;32m      3\u001b[0m   \u001b[0;32mif\u001b[0m \u001b[0mmarks\u001b[0m \u001b[0;34m>\u001b[0m \u001b[0;36m100\u001b[0m \u001b[0;32mor\u001b[0m \u001b[0mmarks\u001b[0m \u001b[0;34m<\u001b[0m \u001b[0;36m0\u001b[0m\u001b[0;34m:\u001b[0m\u001b[0;34m\u001b[0m\u001b[0;34m\u001b[0m\u001b[0m\n\u001b[0;32m----> 4\u001b[0;31m     \u001b[0;32mraise\u001b[0m \u001b[0mValueError\u001b[0m\u001b[0;34m(\u001b[0m\u001b[0;34m\"Invalid marks\"\u001b[0m\u001b[0;34m)\u001b[0m\u001b[0;34m\u001b[0m\u001b[0;34m\u001b[0m\u001b[0m\n\u001b[0m\u001b[1;32m      5\u001b[0m   \u001b[0;32melse\u001b[0m\u001b[0;34m:\u001b[0m\u001b[0;34m\u001b[0m\u001b[0;34m\u001b[0m\u001b[0m\n\u001b[1;32m      6\u001b[0m     \u001b[0mprint\u001b[0m\u001b[0;34m(\u001b[0m\u001b[0;34m\"The marks is: \"\u001b[0m\u001b[0;34m,\u001b[0m\u001b[0;34m{\u001b[0m\u001b[0mmarks\u001b[0m\u001b[0;34m}\u001b[0m\u001b[0;34m)\u001b[0m\u001b[0;34m\u001b[0m\u001b[0;34m\u001b[0m\u001b[0m\n",
            "\u001b[0;31mValueError\u001b[0m: Invalid marks"
          ]
        }
      ]
    },
    {
      "cell_type": "markdown",
      "source": [
        "☣☣☣☣☣☣☣☣☣☣☣☣☣☣☣☣☣☣☣☣☣☣☣☣☣☣☣☣☣☣☣☣☣☣☣☣☣☣☣☣☣☣☣☣☣☣☣☣☣☣☣☣☣☣☣☣☣☣☣☣☣☣☣☣☣☣☣☣☣"
      ],
      "metadata": {
        "id": "_MM3B7-ObUxV"
      }
    },
    {
      "cell_type": "markdown",
      "source": [
        "✅ Task:\n",
        "\n",
        "Create NegativeNumberError if a number is negative."
      ],
      "metadata": {
        "id": "5YLl6PqqbfC-"
      }
    },
    {
      "cell_type": "code",
      "source": [
        "class negativenumbererror(Exception):   # Creative a custom error\n",
        "  pass\n",
        "\n",
        "def check_no(a):   # Checking the number the positive or negative\n",
        "  if a<0:\n",
        "    raise negativenumbererror(\"The Number is negative\")\n",
        "  else:\n",
        "    print(\"The number is positive:\")\n"
      ],
      "metadata": {
        "id": "FyYd1-u2bOXs"
      },
      "execution_count": 90,
      "outputs": []
    },
    {
      "cell_type": "code",
      "source": [
        "check_no(100)\n",
        "check_no(-5)"
      ],
      "metadata": {
        "colab": {
          "base_uri": "https://localhost:8080/",
          "height": 297
        },
        "id": "4skfzBZdcLV_",
        "outputId": "a40d4342-bea7-43dc-8304-d65528bf9373"
      },
      "execution_count": 72,
      "outputs": [
        {
          "output_type": "stream",
          "name": "stdout",
          "text": [
            "The number is positive:\n"
          ]
        },
        {
          "output_type": "error",
          "ename": "negativenumbererror",
          "evalue": "The Number is negative",
          "traceback": [
            "\u001b[0;31m---------------------------------------------------------------------------\u001b[0m",
            "\u001b[0;31mnegativenumbererror\u001b[0m                       Traceback (most recent call last)",
            "\u001b[0;32m/tmp/ipython-input-2386639240.py\u001b[0m in \u001b[0;36m<cell line: 0>\u001b[0;34m()\u001b[0m\n\u001b[1;32m      1\u001b[0m \u001b[0mcheck_no\u001b[0m\u001b[0;34m(\u001b[0m\u001b[0;36m100\u001b[0m\u001b[0;34m)\u001b[0m\u001b[0;34m\u001b[0m\u001b[0;34m\u001b[0m\u001b[0m\n\u001b[0;32m----> 2\u001b[0;31m \u001b[0mcheck_no\u001b[0m\u001b[0;34m(\u001b[0m\u001b[0;34m-\u001b[0m\u001b[0;36m5\u001b[0m\u001b[0;34m)\u001b[0m\u001b[0;34m\u001b[0m\u001b[0;34m\u001b[0m\u001b[0m\n\u001b[0m",
            "\u001b[0;32m/tmp/ipython-input-2899821073.py\u001b[0m in \u001b[0;36mcheck_no\u001b[0;34m(a)\u001b[0m\n\u001b[1;32m      4\u001b[0m \u001b[0;32mdef\u001b[0m \u001b[0mcheck_no\u001b[0m\u001b[0;34m(\u001b[0m\u001b[0ma\u001b[0m\u001b[0;34m)\u001b[0m\u001b[0;34m:\u001b[0m\u001b[0;34m\u001b[0m\u001b[0;34m\u001b[0m\u001b[0m\n\u001b[1;32m      5\u001b[0m   \u001b[0;32mif\u001b[0m \u001b[0ma\u001b[0m\u001b[0;34m<\u001b[0m\u001b[0;36m0\u001b[0m\u001b[0;34m:\u001b[0m\u001b[0;34m\u001b[0m\u001b[0;34m\u001b[0m\u001b[0m\n\u001b[0;32m----> 6\u001b[0;31m     \u001b[0;32mraise\u001b[0m \u001b[0mnegativenumbererror\u001b[0m\u001b[0;34m(\u001b[0m\u001b[0;34m\"The Number is negative\"\u001b[0m\u001b[0;34m)\u001b[0m\u001b[0;34m\u001b[0m\u001b[0;34m\u001b[0m\u001b[0m\n\u001b[0m\u001b[1;32m      7\u001b[0m   \u001b[0;32melse\u001b[0m\u001b[0;34m:\u001b[0m\u001b[0;34m\u001b[0m\u001b[0;34m\u001b[0m\u001b[0m\n\u001b[1;32m      8\u001b[0m     \u001b[0mprint\u001b[0m\u001b[0;34m(\u001b[0m\u001b[0;34m\"The number is positive:\"\u001b[0m\u001b[0;34m)\u001b[0m\u001b[0;34m\u001b[0m\u001b[0;34m\u001b[0m\u001b[0m\n",
            "\u001b[0;31mnegativenumbererror\u001b[0m: The Number is negative"
          ]
        }
      ]
    },
    {
      "cell_type": "markdown",
      "source": [
        "☣☣☣☣☣☣☣☣☣☣☣☣☣☣☣☣☣☣☣☣☣☣☣☣☣☣☣☣☣☣☣☣☣☣☣☣☣☣☣☣☣☣☣☣☣☣☣☣☣☣☣☣☣☣☣☣☣☣☣☣☣☣☣☣☣☣☣☣☣"
      ],
      "metadata": {
        "id": "lzzjH4rRce6u"
      }
    },
    {
      "cell_type": "markdown",
      "source": [
        "6️⃣ Practice\n",
        "\n",
        "📌 Temperature Converter: Ask user for Celsius, convert to float, then Fahrenheit. Handle ValueError if not a number."
      ],
      "metadata": {
        "id": "2jjBC7Ckco03"
      }
    },
    {
      "cell_type": "code",
      "source": [
        "try:\n",
        "\n",
        "  temperature = input(\"Enter the temperature in Celsius: \")   # Ask user for input in celsius\n",
        "\n",
        "  temperature = float(temperature)            # Convert to float\n",
        "\n",
        "  fahrenheit = (temperature * 9/5) + 32       # Convert to Farenheit\n",
        "\n",
        "  print(f\"The temperature in Fahrenheit is: {fahrenheit}\")\n",
        "\n",
        "except ValueError:\n",
        "\n",
        "  print(\"Please enter a valid number\")"
      ],
      "metadata": {
        "colab": {
          "base_uri": "https://localhost:8080/"
        },
        "id": "rZ4c48HRcYvW",
        "outputId": "632be6b5-8301-4daa-f90a-fddb2e8384d5"
      },
      "execution_count": 76,
      "outputs": [
        {
          "output_type": "stream",
          "name": "stdout",
          "text": [
            "Enter the temperature in Celsius: q\n",
            "Please enter a valid number\n"
          ]
        }
      ]
    },
    {
      "cell_type": "markdown",
      "source": [
        "☣☣☣☣☣☣☣☣☣☣☣☣☣☣☣☣☣☣☣☣☣☣☣☣☣☣☣☣☣☣☣☣☣☣☣☣☣☣☣☣☣☣☣☣☣☣☣☣☣☣☣☣☣☣☣☣☣☣☣☣☣☣☣☣☣☣☣☣☣"
      ],
      "metadata": {
        "id": "ofIuAlpxeTHx"
      }
    },
    {
      "cell_type": "markdown",
      "source": [
        "7️⃣ Quiz\n"
      ],
      "metadata": {
        "id": "QmGGZgzNeZil"
      }
    },
    {
      "cell_type": "markdown",
      "source": [
        "1️⃣ What is the output if you divide by zero?"
      ],
      "metadata": {
        "id": "m11hrQIQedwT"
      }
    },
    {
      "cell_type": "markdown",
      "source": [
        "Answer:\n",
        "\n",
        "- The output if you divide by zero is ZeroDivisionError."
      ],
      "metadata": {
        "id": "4T27ynJ0ehC0"
      }
    },
    {
      "cell_type": "markdown",
      "source": [
        "*Example*"
      ],
      "metadata": {
        "id": "H69xLMPnetON"
      }
    },
    {
      "cell_type": "code",
      "source": [
        "100/0"
      ],
      "metadata": {
        "colab": {
          "base_uri": "https://localhost:8080/",
          "height": 141
        },
        "id": "__nHaSxPd5Ul",
        "outputId": "8b54d4ae-5d03-479f-ae5e-50f6bec13c79"
      },
      "execution_count": 77,
      "outputs": [
        {
          "output_type": "error",
          "ename": "ZeroDivisionError",
          "evalue": "division by zero",
          "traceback": [
            "\u001b[0;31m---------------------------------------------------------------------------\u001b[0m",
            "\u001b[0;31mZeroDivisionError\u001b[0m                         Traceback (most recent call last)",
            "\u001b[0;32m/tmp/ipython-input-621970991.py\u001b[0m in \u001b[0;36m<cell line: 0>\u001b[0;34m()\u001b[0m\n\u001b[0;32m----> 1\u001b[0;31m \u001b[0;36m100\u001b[0m\u001b[0;34m/\u001b[0m\u001b[0;36m0\u001b[0m\u001b[0;34m\u001b[0m\u001b[0;34m\u001b[0m\u001b[0m\n\u001b[0m",
            "\u001b[0;31mZeroDivisionError\u001b[0m: division by zero"
          ]
        }
      ]
    },
    {
      "cell_type": "markdown",
      "source": [
        "☣☣☣☣☣☣☣☣☣☣☣☣☣☣☣☣☣☣☣☣☣☣☣☣☣☣☣☣☣☣☣☣☣☣☣☣☣☣☣☣☣☣☣☣☣☣☣☣☣☣☣☣☣☣☣☣☣☣☣☣☣☣☣☣☣☣☣☣☣"
      ],
      "metadata": {
        "id": "BNeLkZo3gTG3"
      }
    },
    {
      "cell_type": "markdown",
      "source": [
        "2️⃣ Which block always runs?"
      ],
      "metadata": {
        "id": "sIqc6z9Se0NG"
      }
    },
    {
      "cell_type": "markdown",
      "source": [
        "Answer:\n",
        "\n",
        "- The `Finally`  block will always runs."
      ],
      "metadata": {
        "id": "VxOnA2tXe6vm"
      }
    },
    {
      "cell_type": "markdown",
      "source": [
        "*Example*"
      ],
      "metadata": {
        "id": "3h_qbKcPfSKp"
      }
    },
    {
      "cell_type": "code",
      "source": [
        "try:\n",
        "\n",
        "  salary = int(input(\"Enter your monthly salary: \"))\n",
        "  print(\"Your salary is\", salary)\n",
        "\n",
        "except:\n",
        "  print(\"Something went wrong!\")\n",
        "\n",
        "finally:\n",
        "  print(\"This is the finally block\")\n",
        "\n"
      ],
      "metadata": {
        "colab": {
          "base_uri": "https://localhost:8080/"
        },
        "id": "_k1I1FFgexKV",
        "outputId": "7758c325-ebc4-4074-8766-e947d89e2f41"
      },
      "execution_count": 84,
      "outputs": [
        {
          "output_type": "stream",
          "name": "stdout",
          "text": [
            "Enter your monthly salary: xyz\n",
            "Something went wrong!\n",
            "This is the finally block\n"
          ]
        }
      ]
    },
    {
      "cell_type": "markdown",
      "source": [
        "☣☣☣☣☣☣☣☣☣☣☣☣☣☣☣☣☣☣☣☣☣☣☣☣☣☣☣☣☣☣☣☣☣☣☣☣☣☣☣☣☣☣☣☣☣☣☣☣☣☣☣☣☣☣☣☣☣☣☣☣☣☣☣☣☣☣☣☣☣"
      ],
      "metadata": {
        "id": "EdlvAoX4gUPf"
      }
    },
    {
      "cell_type": "markdown",
      "source": [
        "3️⃣ What keyword is used to throw an error on purpose?"
      ],
      "metadata": {
        "id": "38-d66rxgJ-L"
      }
    },
    {
      "cell_type": "markdown",
      "source": [
        "Answer:\n",
        "\n",
        "- `raise` keyword is used to throw an error on purpose."
      ],
      "metadata": {
        "id": "GbHviKT3gbFZ"
      }
    },
    {
      "cell_type": "markdown",
      "source": [
        "*Example*"
      ],
      "metadata": {
        "id": "PGNoE2qtgk-C"
      }
    },
    {
      "cell_type": "code",
      "source": [
        "def check_age(age):\n",
        "  if age < 0:\n",
        "    raise ValueError(\"Age cannot be negative\")\n",
        "  else:\n",
        "    print(f\"Valid age: {age}\")"
      ],
      "metadata": {
        "id": "cmSRnNFlf3YK"
      },
      "execution_count": 85,
      "outputs": []
    },
    {
      "cell_type": "code",
      "source": [
        "check_age(100)\n",
        "check_age(-5)"
      ],
      "metadata": {
        "colab": {
          "base_uri": "https://localhost:8080/",
          "height": 297
        },
        "id": "FSW4sgWShULG",
        "outputId": "aa5eb3e4-5042-48bc-8a0e-b3f69a024891"
      },
      "execution_count": 87,
      "outputs": [
        {
          "output_type": "stream",
          "name": "stdout",
          "text": [
            "Valid age: 100\n"
          ]
        },
        {
          "output_type": "error",
          "ename": "ValueError",
          "evalue": "Age cannot be negative",
          "traceback": [
            "\u001b[0;31m---------------------------------------------------------------------------\u001b[0m",
            "\u001b[0;31mValueError\u001b[0m                                Traceback (most recent call last)",
            "\u001b[0;32m/tmp/ipython-input-3168034683.py\u001b[0m in \u001b[0;36m<cell line: 0>\u001b[0;34m()\u001b[0m\n\u001b[1;32m      1\u001b[0m \u001b[0mcheck_age\u001b[0m\u001b[0;34m(\u001b[0m\u001b[0;36m100\u001b[0m\u001b[0;34m)\u001b[0m\u001b[0;34m\u001b[0m\u001b[0;34m\u001b[0m\u001b[0m\n\u001b[0;32m----> 2\u001b[0;31m \u001b[0mcheck_age\u001b[0m\u001b[0;34m(\u001b[0m\u001b[0;34m-\u001b[0m\u001b[0;36m5\u001b[0m\u001b[0;34m)\u001b[0m\u001b[0;34m\u001b[0m\u001b[0;34m\u001b[0m\u001b[0m\n\u001b[0m",
            "\u001b[0;32m/tmp/ipython-input-1630537103.py\u001b[0m in \u001b[0;36mcheck_age\u001b[0;34m(age)\u001b[0m\n\u001b[1;32m      1\u001b[0m \u001b[0;32mdef\u001b[0m \u001b[0mcheck_age\u001b[0m\u001b[0;34m(\u001b[0m\u001b[0mage\u001b[0m\u001b[0;34m)\u001b[0m\u001b[0;34m:\u001b[0m\u001b[0;34m\u001b[0m\u001b[0;34m\u001b[0m\u001b[0m\n\u001b[1;32m      2\u001b[0m   \u001b[0;32mif\u001b[0m \u001b[0mage\u001b[0m \u001b[0;34m<\u001b[0m \u001b[0;36m0\u001b[0m\u001b[0;34m:\u001b[0m\u001b[0;34m\u001b[0m\u001b[0;34m\u001b[0m\u001b[0m\n\u001b[0;32m----> 3\u001b[0;31m     \u001b[0;32mraise\u001b[0m \u001b[0mValueError\u001b[0m\u001b[0;34m(\u001b[0m\u001b[0;34m\"Age cannot be negative\"\u001b[0m\u001b[0;34m)\u001b[0m\u001b[0;34m\u001b[0m\u001b[0;34m\u001b[0m\u001b[0m\n\u001b[0m\u001b[1;32m      4\u001b[0m   \u001b[0;32melse\u001b[0m\u001b[0;34m:\u001b[0m\u001b[0;34m\u001b[0m\u001b[0;34m\u001b[0m\u001b[0m\n\u001b[1;32m      5\u001b[0m     \u001b[0mprint\u001b[0m\u001b[0;34m(\u001b[0m\u001b[0;34mf\"Valid age: {age}\"\u001b[0m\u001b[0;34m)\u001b[0m\u001b[0;34m\u001b[0m\u001b[0;34m\u001b[0m\u001b[0m\n",
            "\u001b[0;31mValueError\u001b[0m: Age cannot be negative"
          ]
        }
      ]
    },
    {
      "cell_type": "markdown",
      "source": [
        "☣☣☣☣☣☣☣☣☣☣☣☣☣☣☣☣☣☣☣☣☣☣☣☣☣☣☣☣☣☣☣☣☣☣☣☣☣☣☣☣☣☣☣☣☣☣☣☣☣☣☣☣☣☣☣☣☣☣☣☣☣☣☣☣☣☣☣☣☣"
      ],
      "metadata": {
        "id": "Fj48tjuPhgfQ"
      }
    },
    {
      "cell_type": "markdown",
      "source": [
        "4️⃣\tHow do you define a custom exception?"
      ],
      "metadata": {
        "id": "cBunQ8cehk5f"
      }
    },
    {
      "cell_type": "markdown",
      "source": [
        "Answer:\n",
        "\n",
        "- Custom exception is creating a user defined exception which is defined by creating a new class."
      ],
      "metadata": {
        "id": "OpJEnBlviJg7"
      }
    },
    {
      "cell_type": "markdown",
      "source": [
        "*Example*"
      ],
      "metadata": {
        "id": "qqqknkKAi3Ih"
      }
    },
    {
      "cell_type": "code",
      "source": [
        "class customexception(Exception):\n",
        "  pass\n",
        "\n",
        "def check_num(x):   # Checking the number the odd or even\n",
        "\n",
        "  if x%2 == 0:\n",
        "\n",
        "    raise customexception(\"The Number is even\")\n",
        "\n",
        "  else:\n",
        "\n",
        "    print(\"The number is odd\")\n"
      ],
      "metadata": {
        "id": "nBdY1MI4i6L8"
      },
      "execution_count": 97,
      "outputs": []
    },
    {
      "cell_type": "code",
      "source": [
        "check_num(5)"
      ],
      "metadata": {
        "colab": {
          "base_uri": "https://localhost:8080/"
        },
        "id": "664uqp9GlE4Y",
        "outputId": "81c6206a-650b-4ac9-db98-c2c2b0f5fede"
      },
      "execution_count": 100,
      "outputs": [
        {
          "output_type": "stream",
          "name": "stdout",
          "text": [
            "The number is odd\n"
          ]
        }
      ]
    },
    {
      "cell_type": "code",
      "source": [
        "check_num(10)"
      ],
      "metadata": {
        "colab": {
          "base_uri": "https://localhost:8080/",
          "height": 263
        },
        "id": "5heo_W1Tjy8_",
        "outputId": "9b52c3c6-cac5-4a0d-dbdf-dfaf0002c637"
      },
      "execution_count": 101,
      "outputs": [
        {
          "output_type": "error",
          "ename": "customexception",
          "evalue": "The Number is even",
          "traceback": [
            "\u001b[0;31m---------------------------------------------------------------------------\u001b[0m",
            "\u001b[0;31mcustomexception\u001b[0m                           Traceback (most recent call last)",
            "\u001b[0;32m/tmp/ipython-input-4125844069.py\u001b[0m in \u001b[0;36m<cell line: 0>\u001b[0;34m()\u001b[0m\n\u001b[0;32m----> 1\u001b[0;31m \u001b[0mcheck_num\u001b[0m\u001b[0;34m(\u001b[0m\u001b[0;36m10\u001b[0m\u001b[0;34m)\u001b[0m\u001b[0;34m\u001b[0m\u001b[0;34m\u001b[0m\u001b[0m\n\u001b[0m",
            "\u001b[0;32m/tmp/ipython-input-2209975145.py\u001b[0m in \u001b[0;36mcheck_num\u001b[0;34m(x)\u001b[0m\n\u001b[1;32m      6\u001b[0m   \u001b[0;32mif\u001b[0m \u001b[0mx\u001b[0m\u001b[0;34m%\u001b[0m\u001b[0;36m2\u001b[0m \u001b[0;34m==\u001b[0m \u001b[0;36m0\u001b[0m\u001b[0;34m:\u001b[0m\u001b[0;34m\u001b[0m\u001b[0;34m\u001b[0m\u001b[0m\n\u001b[1;32m      7\u001b[0m \u001b[0;34m\u001b[0m\u001b[0m\n\u001b[0;32m----> 8\u001b[0;31m     \u001b[0;32mraise\u001b[0m \u001b[0mcustomexception\u001b[0m\u001b[0;34m(\u001b[0m\u001b[0;34m\"The Number is even\"\u001b[0m\u001b[0;34m)\u001b[0m\u001b[0;34m\u001b[0m\u001b[0;34m\u001b[0m\u001b[0m\n\u001b[0m\u001b[1;32m      9\u001b[0m \u001b[0;34m\u001b[0m\u001b[0m\n\u001b[1;32m     10\u001b[0m   \u001b[0;32melse\u001b[0m\u001b[0;34m:\u001b[0m\u001b[0;34m\u001b[0m\u001b[0;34m\u001b[0m\u001b[0m\n",
            "\u001b[0;31mcustomexception\u001b[0m: The Number is even"
          ]
        }
      ]
    },
    {
      "cell_type": "markdown",
      "source": [
        "☣☣☣☣☣☣☣☣☣☣☣☣☣☣☣☣☣☣☣☣☣☣☣☣☣☣☣☣☣☣☣☣☣☣☣☣☣☣☣☣☣☣☣☣☣☣☣☣☣☣☣☣☣☣☣☣☣☣☣☣☣☣☣☣☣☣☣☣☣"
      ],
      "metadata": {
        "id": "5uni84UQjFK6"
      }
    }
  ]
}