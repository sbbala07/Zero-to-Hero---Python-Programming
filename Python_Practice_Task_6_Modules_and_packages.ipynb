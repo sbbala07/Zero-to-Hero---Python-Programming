{
  "nbformat": 4,
  "nbformat_minor": 0,
  "metadata": {
    "colab": {
      "provenance": []
    },
    "kernelspec": {
      "name": "python3",
      "display_name": "Python 3"
    },
    "language_info": {
      "name": "python"
    }
  },
  "cells": [
    {
      "cell_type": "markdown",
      "source": [
        "## PYTHON PRACTICE TASK- MODULES AND PACKAGES"
      ],
      "metadata": {
        "id": "BSA81mTV-AGo"
      }
    },
    {
      "cell_type": "markdown",
      "source": [
        "**✅ Activity:1**\n",
        "\n",
        "Import math and compute:\n",
        "\n",
        "- Square root of 144\n",
        "\n",
        "- log(100)"
      ],
      "metadata": {
        "id": "nKgUCpUHI4xL"
      }
    },
    {
      "cell_type": "code",
      "source": [
        "# Importing math module to calculate square root and Log\n",
        "import math\n",
        "\n",
        "print(math.sqrt(144))    # math function for square root 144\n",
        "print(math.log10(100))   # Log function of 100 with base 10"
      ],
      "metadata": {
        "colab": {
          "base_uri": "https://localhost:8080/"
        },
        "id": "jqUkuKJwI74j",
        "outputId": "19d2c281-6e4c-4c9f-9027-32cf38d7862f"
      },
      "execution_count": 24,
      "outputs": [
        {
          "output_type": "stream",
          "name": "stdout",
          "text": [
            "12.0\n",
            "2.0\n"
          ]
        }
      ]
    },
    {
      "cell_type": "markdown",
      "source": [
        "-----------------------------------------------------------------------------------------******---------------------------------------------------------------------------------"
      ],
      "metadata": {
        "id": "X3zAi9h4KZN5"
      }
    },
    {
      "cell_type": "markdown",
      "source": [
        "**🔑 Small Challenge:2**\n",
        "\n",
        "- Pick a random number between 50–100\n",
        "\n",
        "- Show today’s date plus 5 days"
      ],
      "metadata": {
        "id": "U4tU6YeGJ3f7"
      }
    },
    {
      "cell_type": "code",
      "source": [
        "import random    # Importing library to get random number\n",
        "\n",
        "import datetime   # Import library for datetime\n",
        "\n",
        "# picking a random number between 50 to 100\n",
        "random_num = random.randint(50,100)\n",
        "print(random_num)\n",
        "\n",
        "# today's date plus 5 days\n",
        "\n",
        "print(datetime.date.today() + datetime.timedelta(days=5))   # Gives today's date + 5 days\n"
      ],
      "metadata": {
        "colab": {
          "base_uri": "https://localhost:8080/"
        },
        "id": "GopuMKlAI7sT",
        "outputId": "a6ac809d-fac6-40a7-8c35-72d4c85b0b77"
      },
      "execution_count": 33,
      "outputs": [
        {
          "output_type": "stream",
          "name": "stdout",
          "text": [
            "84\n",
            "2025-08-26\n"
          ]
        }
      ]
    },
    {
      "cell_type": "markdown",
      "source": [
        "---------------------------------------------------------------------------------***-----------------------------------------------------------------------------"
      ],
      "metadata": {
        "id": "uhlz03tePeiB"
      }
    },
    {
      "cell_type": "markdown",
      "source": [
        "**✅ Task:3**\n",
        "\n",
        "- Install pandas and matplotlib\n",
        "\n",
        "- Check version using !pip show pandas"
      ],
      "metadata": {
        "id": "yqgdXZKaO4AU"
      }
    },
    {
      "cell_type": "code",
      "source": [
        "# Install pandas\n",
        "!pip install pandas\n",
        "\n",
        "# Install matplotlib\n",
        "!pip install matplotlib\n",
        "\n",
        "# Check version\n",
        "!pip show pandas"
      ],
      "metadata": {
        "colab": {
          "base_uri": "https://localhost:8080/"
        },
        "id": "ggfXCn7pI7pZ",
        "outputId": "51cccda3-6627-4b66-9e76-d70cb030c4ef"
      },
      "execution_count": 46,
      "outputs": [
        {
          "output_type": "stream",
          "name": "stdout",
          "text": [
            "Requirement already satisfied: pandas in /usr/local/lib/python3.12/dist-packages (2.2.2)\n",
            "Requirement already satisfied: numpy>=1.26.0 in /usr/local/lib/python3.12/dist-packages (from pandas) (2.0.2)\n",
            "Requirement already satisfied: python-dateutil>=2.8.2 in /usr/local/lib/python3.12/dist-packages (from pandas) (2.9.0.post0)\n",
            "Requirement already satisfied: pytz>=2020.1 in /usr/local/lib/python3.12/dist-packages (from pandas) (2025.2)\n",
            "Requirement already satisfied: tzdata>=2022.7 in /usr/local/lib/python3.12/dist-packages (from pandas) (2025.2)\n",
            "Requirement already satisfied: six>=1.5 in /usr/local/lib/python3.12/dist-packages (from python-dateutil>=2.8.2->pandas) (1.17.0)\n",
            "Requirement already satisfied: matplotlib in /usr/local/lib/python3.12/dist-packages (3.10.0)\n",
            "Requirement already satisfied: contourpy>=1.0.1 in /usr/local/lib/python3.12/dist-packages (from matplotlib) (1.3.3)\n",
            "Requirement already satisfied: cycler>=0.10 in /usr/local/lib/python3.12/dist-packages (from matplotlib) (0.12.1)\n",
            "Requirement already satisfied: fonttools>=4.22.0 in /usr/local/lib/python3.12/dist-packages (from matplotlib) (4.59.1)\n",
            "Requirement already satisfied: kiwisolver>=1.3.1 in /usr/local/lib/python3.12/dist-packages (from matplotlib) (1.4.9)\n",
            "Requirement already satisfied: numpy>=1.23 in /usr/local/lib/python3.12/dist-packages (from matplotlib) (2.0.2)\n",
            "Requirement already satisfied: packaging>=20.0 in /usr/local/lib/python3.12/dist-packages (from matplotlib) (25.0)\n",
            "Requirement already satisfied: pillow>=8 in /usr/local/lib/python3.12/dist-packages (from matplotlib) (11.3.0)\n",
            "Requirement already satisfied: pyparsing>=2.3.1 in /usr/local/lib/python3.12/dist-packages (from matplotlib) (3.2.3)\n",
            "Requirement already satisfied: python-dateutil>=2.7 in /usr/local/lib/python3.12/dist-packages (from matplotlib) (2.9.0.post0)\n",
            "Requirement already satisfied: six>=1.5 in /usr/local/lib/python3.12/dist-packages (from python-dateutil>=2.7->matplotlib) (1.17.0)\n",
            "Name: pandas\n",
            "Version: 2.2.2\n",
            "Summary: Powerful data structures for data analysis, time series, and statistics\n",
            "Home-page: https://pandas.pydata.org\n",
            "Author: \n",
            "Author-email: The Pandas Development Team <pandas-dev@python.org>\n",
            "License: BSD 3-Clause License\n",
            "\n",
            "Copyright (c) 2008-2011, AQR Capital Management, LLC, Lambda Foundry, Inc. and PyData Development Team\n",
            "All rights reserved.\n",
            "\n",
            "Copyright (c) 2011-2023, Open source contributors.\n",
            "\n",
            "Redistribution and use in source and binary forms, with or without\n",
            "modification, are permitted provided that the following conditions are met:\n",
            "\n",
            "* Redistributions of source code must retain the above copyright notice, this\n",
            "  list of conditions and the following disclaimer.\n",
            "\n",
            "* Redistributions in binary form must reproduce the above copyright notice,\n",
            "  this list of conditions and the following disclaimer in the documentation\n",
            "  and/or other materials provided with the distribution.\n",
            "\n",
            "* Neither the name of the copyright holder nor the names of its\n",
            "  contributors may be used to endorse or promote products derived from\n",
            "  this software without specific prior written permission.\n",
            "\n",
            "THIS SOFTWARE IS PROVIDED BY THE COPYRIGHT HOLDERS AND CONTRIBUTORS \"AS IS\"\n",
            "AND ANY EXPRESS OR IMPLIED WARRANTIES, INCLUDING, BUT NOT LIMITED TO, THE\n",
            "IMPLIED WARRANTIES OF MERCHANTABILITY AND FITNESS FOR A PARTICULAR PURPOSE ARE\n",
            "DISCLAIMED. IN NO EVENT SHALL THE COPYRIGHT HOLDER OR CONTRIBUTORS BE LIABLE\n",
            "FOR ANY DIRECT, INDIRECT, INCIDENTAL, SPECIAL, EXEMPLARY, OR CONSEQUENTIAL\n",
            "DAMAGES (INCLUDING, BUT NOT LIMITED TO, PROCUREMENT OF SUBSTITUTE GOODS OR\n",
            "SERVICES; LOSS OF USE, DATA, OR PROFITS; OR BUSINESS INTERRUPTION) HOWEVER\n",
            "CAUSED AND ON ANY THEORY OF LIABILITY, WHETHER IN CONTRACT, STRICT LIABILITY,\n",
            "OR TORT (INCLUDING NEGLIGENCE OR OTHERWISE) ARISING IN ANY WAY OUT OF THE USE\n",
            "OF THIS SOFTWARE, EVEN IF ADVISED OF THE POSSIBILITY OF SUCH DAMAGE.\n",
            "Location: /usr/local/lib/python3.12/dist-packages\n",
            "Requires: numpy, python-dateutil, pytz, tzdata\n",
            "Required-by: arviz, bigframes, bigquery-magics, bokeh, bqplot, cmdstanpy, cudf-cu12, cufflinks, dask-cuda, dask-cudf-cu12, datasets, db-dtypes, dopamine_rl, fastai, geemap, geopandas, google-colab, gradio, gspread-dataframe, holoviews, libpysal, mizani, mlxtend, pandas-datareader, pandas-gbq, panel, plotnine, prophet, pymc, seaborn, shap, sklearn-pandas, statsmodels, tensorflow_decision_forests, tsfresh, vega-datasets, xarray, yfinance\n"
          ]
        }
      ]
    },
    {
      "cell_type": "markdown",
      "source": [
        "---------------------------------------------------------------------------------------***-----------------------------------------------------------------------------------"
      ],
      "metadata": {
        "id": "RtV6y1d_Q3aR"
      }
    },
    {
      "cell_type": "markdown",
      "source": [
        "✅ Hands-on:4\n",
        "\n",
        "Make your own API call:\n",
        "\n",
        "https://api.genderize.io?name=emma\n",
        "\n",
        "Extract gender and probability fields."
      ],
      "metadata": {
        "id": "5eaWcAJVRAKm"
      }
    },
    {
      "cell_type": "code",
      "source": [
        "import requests\n",
        "\n",
        "response = requests.get(\"https://api.genderize.io?name=emma\")\n",
        "print(response.status_code)\n",
        "print(response.json())"
      ],
      "metadata": {
        "colab": {
          "base_uri": "https://localhost:8080/"
        },
        "id": "TD6l3Ep7I7ma",
        "outputId": "08546978-bd1d-4dbc-8d74-942695cdf38e"
      },
      "execution_count": 49,
      "outputs": [
        {
          "output_type": "stream",
          "name": "stdout",
          "text": [
            "200\n",
            "{'count': 500304, 'name': 'emma', 'gender': 'female', 'probability': 0.97}\n"
          ]
        }
      ]
    },
    {
      "cell_type": "markdown",
      "source": [
        "--------------------------------------------------------------------------------------------************------------------------------------------------------------"
      ],
      "metadata": {
        "id": "96nGTpSGSd90"
      }
    },
    {
      "cell_type": "markdown",
      "source": [
        "✅ Task:5\n",
        "\n",
        "Write a custom function: subtract(a, b)"
      ],
      "metadata": {
        "id": "S0j6kcgHULj7"
      }
    },
    {
      "cell_type": "code",
      "source": [
        "# Lets create a package and create a module\n",
        "\n",
        "%%writefile calc.py\n",
        "\n",
        "\n",
        "def subtract(a,b):   # Create a custom function\n",
        "  if a>b:            # Checking to subtract from larger to smaller\n",
        "    print(a-b)\n",
        "  else:\n",
        "    print(b-a)"
      ],
      "metadata": {
        "colab": {
          "base_uri": "https://localhost:8080/"
        },
        "id": "-ZnQbpDVI7dz",
        "outputId": "ff0879ae-179a-4ff4-f985-67c544530ef8"
      },
      "execution_count": 53,
      "outputs": [
        {
          "output_type": "stream",
          "name": "stdout",
          "text": [
            "Overwriting calc.py\n"
          ]
        }
      ]
    },
    {
      "cell_type": "code",
      "source": [
        "# importing custom function from calc package\n",
        "\n",
        "from calc import subtract\n",
        "\n",
        "print(subtract(1,10))"
      ],
      "metadata": {
        "colab": {
          "base_uri": "https://localhost:8080/"
        },
        "id": "5MnGQ-rWI7RJ",
        "outputId": "08580dba-e4f2-466b-a0e4-e49eddee0bf0"
      },
      "execution_count": 55,
      "outputs": [
        {
          "output_type": "stream",
          "name": "stdout",
          "text": [
            "9\n",
            "None\n"
          ]
        }
      ]
    },
    {
      "cell_type": "markdown",
      "source": [
        "-------------------------------------------------------------------------------------------*************-----------------------------------------------------------------"
      ],
      "metadata": {
        "id": "LhpJC408I626"
      }
    },
    {
      "cell_type": "markdown",
      "source": [
        "📚 Build a guessing game using random + math + input."
      ],
      "metadata": {
        "id": "8mZ9dNzh-a2K"
      }
    },
    {
      "cell_type": "code",
      "execution_count": 110,
      "metadata": {
        "colab": {
          "base_uri": "https://localhost:8080/"
        },
        "id": "gedIKXgv9tUV",
        "outputId": "2de415c9-5bea-4bc8-9aef-0d9c2c47f0be"
      },
      "outputs": [
        {
          "output_type": "stream",
          "name": "stdout",
          "text": [
            "Enter a number between 0 to 10: 2\n",
            "True\n",
            "2\n",
            "You guessed it right!\n"
          ]
        }
      ],
      "source": [
        "import math\n",
        "import random\n",
        "\n",
        "num_input = int(input(\"Enter a number between 0 to 10: \"))\n",
        "\n",
        "random_num = random.randint(0,10)\n",
        "\n",
        "print(math.isclose(num_input,random_num))  # Checking using math module if both guessing and random numbers are close to each other\n",
        "\n",
        "if num_input == random_num:\n",
        "  print(random_num)\n",
        "  print(\"You guessed it right!\")\n",
        "else:\n",
        "  print(\"wrong guess!\")"
      ]
    },
    {
      "cell_type": "markdown",
      "source": [
        "----------------------------------------------------------------------------------------------*******-----------------------------------------------------------"
      ],
      "metadata": {
        "id": "1fSvV3GFfsr4"
      }
    },
    {
      "cell_type": "markdown",
      "source": [
        "⚛ Extra Challenge:\n",
        "\n",
        "Add a new module date_tools.py with a function today() that returns the current date.\n",
        "\n",
        "Use the datetime module inside it.\n",
        "\n",
        "Import and use it in main.py."
      ],
      "metadata": {
        "id": "UHCvDQrJPApE"
      }
    },
    {
      "cell_type": "code",
      "source": [
        "# Creating a package folder\n",
        "\n",
        "import os\n",
        "\n",
        "os.makedirs(\"my_proj\", exist_ok=True)   # created a package named my_proj and checking if already available"
      ],
      "metadata": {
        "id": "N5YgWbBmfRta"
      },
      "execution_count": 1,
      "outputs": []
    },
    {
      "cell_type": "code",
      "source": [
        "# Creating a module\n",
        "\n",
        "%%writefile my_proj/date_tools.py\n",
        "\n",
        "import datetime   # Importing datetime builtin function to get today's date\n",
        "\n",
        "def today():\n",
        "  return datetime.date.today()"
      ],
      "metadata": {
        "colab": {
          "base_uri": "https://localhost:8080/"
        },
        "id": "1b697qDgZ26U",
        "outputId": "308d433e-247a-4feb-8690-1d18923a3713"
      },
      "execution_count": 5,
      "outputs": [
        {
          "output_type": "stream",
          "name": "stdout",
          "text": [
            "Writing my_proj/date_tools.py\n"
          ]
        }
      ]
    },
    {
      "cell_type": "code",
      "source": [
        "# Importing and use it from main\n",
        "\n",
        "from my_proj import date_tools\n",
        "\n",
        "# Use today function to get today's date\n",
        "print(\"Today date is:\", date_tools.today())\n"
      ],
      "metadata": {
        "colab": {
          "base_uri": "https://localhost:8080/"
        },
        "id": "D5Eyqxj6aBaB",
        "outputId": "82d7ff59-345b-43d1-8665-bbb67cdc35bd"
      },
      "execution_count": 6,
      "outputs": [
        {
          "output_type": "stream",
          "name": "stdout",
          "text": [
            "Today date is: 2025-08-22\n"
          ]
        }
      ]
    },
    {
      "cell_type": "markdown",
      "source": [
        "## 📌 **Quiz**"
      ],
      "metadata": {
        "id": "efRY4YxWcnrp"
      }
    },
    {
      "cell_type": "markdown",
      "source": [
        "- Q1: What is a module in Python?"
      ],
      "metadata": {
        "id": "T9hHAz6Bcr3_"
      }
    },
    {
      "cell_type": "markdown",
      "source": [
        "♟ Answer:\n",
        "\n",
        "A module is simply a .py file which contains functions, classes, variables that we reuse in other python programs."
      ],
      "metadata": {
        "id": "H4WP3gQKcvfX"
      }
    },
    {
      "cell_type": "markdown",
      "source": [
        "Example"
      ],
      "metadata": {
        "id": "9ZhlsZdRdkOT"
      }
    },
    {
      "cell_type": "code",
      "source": [
        "%%writefile sample.py\n",
        "\n",
        "import math   # Importing math module to calculate\n",
        "\n",
        "def power(a,b):    # creating a power module\n",
        "  return math.pow(a,b)"
      ],
      "metadata": {
        "colab": {
          "base_uri": "https://localhost:8080/"
        },
        "id": "FHqI7D7dbHsi",
        "outputId": "d9cae496-7a63-4646-8da1-69fd8565b6e2"
      },
      "execution_count": 7,
      "outputs": [
        {
          "output_type": "stream",
          "name": "stdout",
          "text": [
            "Writing sample.py\n"
          ]
        }
      ]
    },
    {
      "cell_type": "markdown",
      "source": [
        ".............................................................................................................."
      ],
      "metadata": {
        "id": "tiE5FID0iOnJ"
      }
    },
    {
      "cell_type": "markdown",
      "source": [
        "- Q2: Which keyword is used to use a module?"
      ],
      "metadata": {
        "id": "4JMLTl8Ce7BD"
      }
    },
    {
      "cell_type": "markdown",
      "source": [
        "♟ Answer:\n",
        "\n",
        "\"import\" keyword is used to use a module"
      ],
      "metadata": {
        "id": "4y3d24S9iCVn"
      }
    },
    {
      "cell_type": "markdown",
      "source": [
        "Example"
      ],
      "metadata": {
        "id": "5KUnbvUTiG7E"
      }
    },
    {
      "cell_type": "code",
      "source": [
        "import math\n",
        "\n",
        "math.sqrt(100)"
      ],
      "metadata": {
        "colab": {
          "base_uri": "https://localhost:8080/"
        },
        "id": "LEbvily5ehoE",
        "outputId": "a724084c-36ee-4940-f49b-8fb6420f9748"
      },
      "execution_count": 8,
      "outputs": [
        {
          "output_type": "execute_result",
          "data": {
            "text/plain": [
              "10.0"
            ]
          },
          "metadata": {},
          "execution_count": 8
        }
      ]
    },
    {
      "cell_type": "markdown",
      "source": [
        "................................................................................................."
      ],
      "metadata": {
        "id": "IPhx_1zFiT0J"
      }
    },
    {
      "cell_type": "markdown",
      "source": [
        "- Q3: What is the difference between import math and from math import sqrt?"
      ],
      "metadata": {
        "id": "VO7fIZgcicfL"
      }
    },
    {
      "cell_type": "markdown",
      "source": [
        "♟ Answer:\n",
        "\n",
        "- Import math ---> import the whole math module from python builtin function. From there you can use many mathematical function.\n",
        "\n",
        "- from math import sqrt--> From math module importing specific 'sqrt' function to do mathematical operation."
      ],
      "metadata": {
        "id": "1XbxQvHlikf7"
      }
    },
    {
      "cell_type": "markdown",
      "source": [
        "Example"
      ],
      "metadata": {
        "id": "9sjFkHERjuAD"
      }
    },
    {
      "cell_type": "code",
      "source": [
        "# import math\n",
        "\n",
        "import math\n",
        "print(math.floor(10.5))\n",
        "\n",
        "# from math import sqrt\n",
        "from math import sqrt\n",
        "print(sqrt(25))\n"
      ],
      "metadata": {
        "colab": {
          "base_uri": "https://localhost:8080/"
        },
        "id": "3TE3IiEWiMdq",
        "outputId": "a15c1654-bfda-422b-e5ba-2a65d805834f"
      },
      "execution_count": 11,
      "outputs": [
        {
          "output_type": "stream",
          "name": "stdout",
          "text": [
            "10\n",
            "5.0\n"
          ]
        }
      ]
    },
    {
      "cell_type": "markdown",
      "source": [
        "........................................................................................"
      ],
      "metadata": {
        "id": "aQt5m4pVkH2W"
      }
    },
    {
      "cell_type": "markdown",
      "source": [
        "- Q4: How do you install an external package in Colab?"
      ],
      "metadata": {
        "id": "co3W15NLkQi6"
      }
    },
    {
      "cell_type": "markdown",
      "source": [
        "♟ Answer:\n",
        "\n",
        "- Use '!pip install' to install an external package in colab"
      ],
      "metadata": {
        "id": "52kMsS9Zka72"
      }
    },
    {
      "cell_type": "markdown",
      "source": [
        "Example"
      ],
      "metadata": {
        "id": "QNEkvtRZkky1"
      }
    },
    {
      "cell_type": "code",
      "source": [
        "# install an external package\n",
        "\n",
        "!pip install requests"
      ],
      "metadata": {
        "colab": {
          "base_uri": "https://localhost:8080/"
        },
        "id": "xdh3LpjRj7ym",
        "outputId": "5a099173-39cf-442a-e116-bb922667767c"
      },
      "execution_count": 12,
      "outputs": [
        {
          "output_type": "stream",
          "name": "stdout",
          "text": [
            "Requirement already satisfied: requests in /usr/local/lib/python3.12/dist-packages (2.32.4)\n",
            "Requirement already satisfied: charset_normalizer<4,>=2 in /usr/local/lib/python3.12/dist-packages (from requests) (3.4.3)\n",
            "Requirement already satisfied: idna<4,>=2.5 in /usr/local/lib/python3.12/dist-packages (from requests) (3.10)\n",
            "Requirement already satisfied: urllib3<3,>=1.21.1 in /usr/local/lib/python3.12/dist-packages (from requests) (2.5.0)\n",
            "Requirement already satisfied: certifi>=2017.4.17 in /usr/local/lib/python3.12/dist-packages (from requests) (2025.8.3)\n"
          ]
        }
      ]
    },
    {
      "cell_type": "markdown",
      "source": [
        "....................................................................................................."
      ],
      "metadata": {
        "id": "Hiic_RytlZyE"
      }
    },
    {
      "cell_type": "markdown",
      "source": [
        "- Q5: Difference between Modules and Packages?"
      ],
      "metadata": {
        "id": "XsGS4bQFlj_I"
      }
    },
    {
      "cell_type": "markdown",
      "source": [
        "♟ Answer:\n",
        "\n",
        "- *Modules*\n",
        "\n",
        "      - Modules is a python code that contains variables, functions or classes that can be reused in other python programs.\n",
        "\n",
        "- *Packages*\n",
        "\n",
        "      - Packages is a folder having multiple modules (python files) and a special file named __init__.py and tells python that the folder is a package.\n",
        "\n"
      ],
      "metadata": {
        "id": "j7hkzQ9_lpU_"
      }
    },
    {
      "cell_type": "markdown",
      "source": [
        "Example for modules"
      ],
      "metadata": {
        "id": "iQYx5UTfnDNn"
      }
    },
    {
      "cell_type": "code",
      "source": [
        "%%writefile greet.py\n",
        "\n",
        "def hello():\n",
        "  return(\"HELLO\")"
      ],
      "metadata": {
        "colab": {
          "base_uri": "https://localhost:8080/"
        },
        "id": "Vx7AiHXJlQbc",
        "outputId": "e762af4e-e414-4c6a-d740-3875d6aaf634"
      },
      "execution_count": 17,
      "outputs": [
        {
          "output_type": "stream",
          "name": "stdout",
          "text": [
            "Writing greet.py\n"
          ]
        }
      ]
    },
    {
      "cell_type": "code",
      "source": [
        "# main.py\n",
        "\n",
        "import greet\n",
        "\n",
        "greet.hello()"
      ],
      "metadata": {
        "colab": {
          "base_uri": "https://localhost:8080/",
          "height": 36
        },
        "id": "68RIFj4SnoeD",
        "outputId": "e2428a99-1330-4850-fed6-e7fbf6f91c1b"
      },
      "execution_count": 20,
      "outputs": [
        {
          "output_type": "execute_result",
          "data": {
            "text/plain": [
              "'HELLO'"
            ],
            "application/vnd.google.colaboratory.intrinsic+json": {
              "type": "string"
            }
          },
          "metadata": {},
          "execution_count": 20
        }
      ]
    },
    {
      "cell_type": "markdown",
      "source": [
        "Example for packages"
      ],
      "metadata": {
        "id": "2HNjsQZUqGwc"
      }
    },
    {
      "cell_type": "code",
      "source": [
        "# Create a package named \"my_file\"\n",
        "import os\n",
        "\n",
        "os.makedirs(\"my_file\", exist_ok=True)"
      ],
      "metadata": {
        "id": "5jTboHY5nthU"
      },
      "execution_count": 1,
      "outputs": []
    },
    {
      "cell_type": "code",
      "source": [
        "# Create a module\n",
        "\n",
        "%%writefile my_file/day.py\n",
        "\n",
        "import datetime\n",
        "\n",
        "def tomorrow():\n",
        "  return datetime.date.today() + datetime.timedelta(days=1)\n"
      ],
      "metadata": {
        "colab": {
          "base_uri": "https://localhost:8080/"
        },
        "id": "3k_UTpmjq1yp",
        "outputId": "dbdf5836-e4a5-4f5a-a3ed-45ae71568516"
      },
      "execution_count": 2,
      "outputs": [
        {
          "output_type": "stream",
          "name": "stdout",
          "text": [
            "Overwriting my_file/day.py\n"
          ]
        }
      ]
    },
    {
      "cell_type": "code",
      "source": [
        "from my_file import day\n",
        "\n",
        "print(\"Tomorrow is\", day.tomorrow())"
      ],
      "metadata": {
        "colab": {
          "base_uri": "https://localhost:8080/"
        },
        "id": "yHz447qwrccJ",
        "outputId": "33bbcf33-9da6-4444-f209-ec30752389c6"
      },
      "execution_count": 3,
      "outputs": [
        {
          "output_type": "stream",
          "name": "stdout",
          "text": [
            "Tomorrow is 2025-08-23\n"
          ]
        }
      ]
    },
    {
      "cell_type": "markdown",
      "source": [
        "``````````````````````````````````````````````````````````````````````````````````````````````````````````````````````````````````````````````````````````````````"
      ],
      "metadata": {
        "id": "_kcxAqZJ3XDQ"
      }
    },
    {
      "cell_type": "code",
      "source": [],
      "metadata": {
        "id": "hjF5iSAT1XTt"
      },
      "execution_count": null,
      "outputs": []
    }
  ]
}