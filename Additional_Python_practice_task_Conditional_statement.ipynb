{
  "nbformat": 4,
  "nbformat_minor": 0,
  "metadata": {
    "colab": {
      "provenance": []
    },
    "kernelspec": {
      "name": "python3",
      "display_name": "Python 3"
    },
    "language_info": {
      "name": "python"
    }
  },
  "cells": [
    {
      "cell_type": "markdown",
      "source": [
        "### ADDTIONAL PRACTICE TASK IN PYTHON - CONDITIONAL STATEMENT"
      ],
      "metadata": {
        "id": "gKaKK7kxFdRt"
      }
    },
    {
      "cell_type": "markdown",
      "source": [
        "📚 Q1. Check if a number is even or odd."
      ],
      "metadata": {
        "id": "lDCNIDSZFi_1"
      }
    },
    {
      "cell_type": "code",
      "execution_count": 76,
      "metadata": {
        "colab": {
          "base_uri": "https://localhost:8080/"
        },
        "id": "6b9HNF6mFJbh",
        "outputId": "4b621bd2-99df-4117-8ddc-af3540d11a6a"
      },
      "outputs": [
        {
          "output_type": "stream",
          "name": "stdout",
          "text": [
            "The number is odd\n"
          ]
        }
      ],
      "source": [
        "# Enter the input number\n",
        "number = 10001\n",
        "\n",
        "if (number%2)==0: # Divisible by 2 is even\n",
        "  print(\"The number is even\")\n",
        "else:             # Not divisible by 2 is odd\n",
        "  print(\"The number is odd\")"
      ]
    },
    {
      "cell_type": "markdown",
      "source": [
        "--------------------------------------------------------------------------------"
      ],
      "metadata": {
        "id": "b2VKJKY1H93Y"
      }
    },
    {
      "cell_type": "markdown",
      "source": [
        "📚 Q2. Find the largest among three numbers.\n"
      ],
      "metadata": {
        "id": "y729ZqSrIAWG"
      }
    },
    {
      "cell_type": "code",
      "source": [
        "# Enter the integer input numbers\n",
        "a = int(input(\"Enter first number: \"))\n",
        "b = int(input(\"Enter second number: \"))\n",
        "c = int(input(\"Enter third number: \"))\n",
        "\n",
        "if a>=b and a>=c: # greater than b and c\n",
        "  print(a, \"is the largest number\")\n",
        "\n",
        "elif b>=a and b>=c: # greater than a and c\n",
        "  print(b, \"is the largest number\")\n",
        "\n",
        "else:               # greater than a and b\n",
        "  print(c, \"is the largest number\")"
      ],
      "metadata": {
        "colab": {
          "base_uri": "https://localhost:8080/"
        },
        "id": "UN_LglhKHn_f",
        "outputId": "51e24cc5-76a9-4402-c5ec-557466505c37"
      },
      "execution_count": 77,
      "outputs": [
        {
          "output_type": "stream",
          "name": "stdout",
          "text": [
            "Enter first number: 173\n",
            "Enter second number: 163\n",
            "Enter third number: 196\n",
            "196 is the largest number\n"
          ]
        }
      ]
    },
    {
      "cell_type": "markdown",
      "source": [
        "--------------------------------------------------------------------------------"
      ],
      "metadata": {
        "id": "UzcSKYJXJ73v"
      }
    },
    {
      "cell_type": "markdown",
      "source": [
        "📚 Q3. Check if a person is eligible to vote."
      ],
      "metadata": {
        "id": "zPiQhPggJ-eV"
      }
    },
    {
      "cell_type": "markdown",
      "source": [
        "The person above the age of 18 is eligible to vote."
      ],
      "metadata": {
        "id": "P3W0krgmobqM"
      }
    },
    {
      "cell_type": "code",
      "source": [
        "# Enter the integer input\n",
        "age = int(input(\"Enter your age: \"))\n",
        "\n",
        "if age >= 18:    # greater than or equal to 18.\n",
        "  print(\"You are eligible to vote\")\n",
        "\n",
        "else:            # below 18\n",
        "  print(\"You are not eligible to vote\")"
      ],
      "metadata": {
        "colab": {
          "base_uri": "https://localhost:8080/"
        },
        "id": "ToJ4wOgHJfvN",
        "outputId": "472b2873-6e8e-404a-98ef-1cfd7c2c1b06"
      },
      "execution_count": 78,
      "outputs": [
        {
          "output_type": "stream",
          "name": "stdout",
          "text": [
            "Enter your age: 18\n",
            "You are eligible to vote\n"
          ]
        }
      ]
    },
    {
      "cell_type": "markdown",
      "source": [
        "--------------------------------------------------------------------------------"
      ],
      "metadata": {
        "id": "hjKh5AbRKsy9"
      }
    },
    {
      "cell_type": "markdown",
      "source": [
        "📚 Q4. Assign grades based on marks."
      ],
      "metadata": {
        "id": "qApbeSXUKwRP"
      }
    },
    {
      "cell_type": "code",
      "source": [
        "# Enter the integer input\n",
        "mark = int(input(\"Enter your mark: \"))\n",
        "\n",
        "if mark >= 90:\n",
        "  print(\"A grade\")\n",
        "\n",
        "elif mark < 90 and mark >=75:\n",
        "  print(\"B grade\")\n",
        "\n",
        "elif mark < 75 and mark >=60:\n",
        "  print(\"C grade\")\n",
        "\n",
        "elif mark < 60 and mark >=50:\n",
        "  print(\"D grade\")\n",
        "\n",
        "else:\n",
        "  print(\"E grade and 'FAIL'\")"
      ],
      "metadata": {
        "colab": {
          "base_uri": "https://localhost:8080/"
        },
        "id": "xjsecphtKiQn",
        "outputId": "dd204801-3fa6-4f32-8c80-23462dce3ac2"
      },
      "execution_count": 79,
      "outputs": [
        {
          "output_type": "stream",
          "name": "stdout",
          "text": [
            "Enter your mark: 100\n",
            "A grade\n"
          ]
        }
      ]
    },
    {
      "cell_type": "markdown",
      "source": [
        "--------------------------------------------------------------------------------"
      ],
      "metadata": {
        "id": "d65_gGalVIuP"
      }
    },
    {
      "cell_type": "markdown",
      "source": [
        "📚 Q5. Check if a character is a vowel or consonant."
      ],
      "metadata": {
        "id": "hChCav9LVLKV"
      }
    },
    {
      "cell_type": "markdown",
      "source": [
        "☑ Vowel - In english alphabet \" **a, e, i, o, u** \" are vowels\n",
        "\n",
        "☑ consonants- Other than vowel, all the 21 alphabets are consonants"
      ],
      "metadata": {
        "id": "xucRDNmXntsv"
      }
    },
    {
      "cell_type": "code",
      "source": [
        "# Getting string input and convert to lower case\n",
        "character= str(input(\"Enter any character: \")).lower()\n",
        "\n",
        "if character in 'aeiou':\n",
        "  print(\"The character is a vowel\")\n",
        "\n",
        "else:\n",
        "  print(\"The character is a consonant\")\n"
      ],
      "metadata": {
        "colab": {
          "base_uri": "https://localhost:8080/"
        },
        "id": "A2tLbKBzUTdQ",
        "outputId": "114909ca-f5c6-4a98-c286-c588652bd5d7"
      },
      "execution_count": 40,
      "outputs": [
        {
          "output_type": "stream",
          "name": "stdout",
          "text": [
            "Enter any character: y\n",
            "The character is a consonant\n"
          ]
        }
      ]
    },
    {
      "cell_type": "markdown",
      "source": [
        "--------------------------------------------------------------------------------"
      ],
      "metadata": {
        "id": "PCW8fiUaX5sd"
      }
    },
    {
      "cell_type": "markdown",
      "source": [
        "📚 Q6 Check whether a number is in the range 1 to 100 (inclusive)"
      ],
      "metadata": {
        "id": "Wgn81_ANXyf3"
      }
    },
    {
      "cell_type": "code",
      "source": [
        "# Enter the integer input\n",
        "no = int(input(\"Enter the number: \"))\n",
        "\n",
        "if no <=100 and no>0: # Between 1 and 100\n",
        "  print(\"The entered number is in the range b/w 1 to 100\")\n",
        "else:\n",
        "  print(\"Not in the range\")"
      ],
      "metadata": {
        "colab": {
          "base_uri": "https://localhost:8080/"
        },
        "id": "qdLP85HtWLmw",
        "outputId": "7494c784-ba56-4a43-9b2b-52d59c65f9e8"
      },
      "execution_count": 81,
      "outputs": [
        {
          "output_type": "stream",
          "name": "stdout",
          "text": [
            "Enter the number: 101\n",
            "Not in the range\n"
          ]
        }
      ]
    },
    {
      "cell_type": "markdown",
      "source": [
        "--------------------------------------------------------------------------------"
      ],
      "metadata": {
        "id": "ghrycA2uZ2GR"
      }
    },
    {
      "cell_type": "markdown",
      "source": [
        "📚 Q7. Check if a year is a century year (i.e., ends with 00).\n"
      ],
      "metadata": {
        "id": "dyiLjfALZ51g"
      }
    },
    {
      "cell_type": "code",
      "source": [
        "# Enter the integer input\n",
        "year = int(input(\"Enter the year: \"))\n",
        "\n",
        "if year%100==0:\n",
        "  print(\"Entered year is a century year\")\n",
        "else:\n",
        "  print(\"Not a century year\")"
      ],
      "metadata": {
        "colab": {
          "base_uri": "https://localhost:8080/"
        },
        "id": "4EUbX9yGZkTf",
        "outputId": "0afb069d-a32c-40a9-fbbf-e86f1386debf"
      },
      "execution_count": 84,
      "outputs": [
        {
          "output_type": "stream",
          "name": "stdout",
          "text": [
            "Enter the year: 2025\n",
            "Not a century year\n"
          ]
        }
      ]
    },
    {
      "cell_type": "markdown",
      "source": [
        "--------------------------------------------------------------------------------"
      ],
      "metadata": {
        "id": "OkzIfgazbAd1"
      }
    },
    {
      "cell_type": "markdown",
      "source": [
        "📚 Q8. Check if a triangle is valid based on its angles.\n"
      ],
      "metadata": {
        "id": "9WjPe5V4bEWs"
      }
    },
    {
      "cell_type": "markdown",
      "source": [
        "🔼 The triangle has three sides and three angles. The sum of all the three interior angles are 180 degrees."
      ],
      "metadata": {
        "id": "P1RY2hRppFA0"
      }
    },
    {
      "cell_type": "code",
      "source": [
        "# Enter three angle integer input\n",
        "angle_1 = int(input(\"Enter the 1st angle: \"))\n",
        "angle_2 = int(input(\"Enter the 2nd angle: \"))\n",
        "angle_3 = int(input(\"Enter the 3rd angle: \"))\n",
        "\n",
        "if (angle_1 + angle_2 + angle_3)==180 and angle_1>0 and angle_2>0 and angle_3>0:  # The total should be 180 deg and positive integer\n",
        "  print(\"The triangle is valid\")\n",
        "\n",
        "else:\n",
        "  print(\"Not a valid triangle\")"
      ],
      "metadata": {
        "colab": {
          "base_uri": "https://localhost:8080/"
        },
        "id": "-F7xtEzoa11-",
        "outputId": "6d92a501-49e5-4c95-c5a3-667965fbe42e"
      },
      "execution_count": 86,
      "outputs": [
        {
          "output_type": "stream",
          "name": "stdout",
          "text": [
            "Enter the 1st angle: -10\n",
            "Enter the 2nd angle: 10\n",
            "Enter the 3rd angle: 180\n",
            "Not a valid triangle\n"
          ]
        }
      ]
    },
    {
      "cell_type": "markdown",
      "source": [
        "--------------------------------------------------------------------------------"
      ],
      "metadata": {
        "id": "raPfc0_rhuwj"
      }
    },
    {
      "cell_type": "markdown",
      "source": [
        "📚 Q9. Electricity bill calculator"
      ],
      "metadata": {
        "id": "mRiIhZDBiHOi"
      }
    },
    {
      "cell_type": "markdown",
      "source": [
        "⚡The electricity bill is calculated based on the number of units consumed.\n",
        "\n",
        "⚡For first 100 units, the unit rate is Rs.5\n",
        "\n",
        "⚡For  above 100 units. First 100 units, the rate is Rs.5 and above 100 units, the rate is Rs.7.50\n",
        "\n",
        "⚡For more than 200 units. first 100- Rs.5/unit and second 100- Rs.7.50/unit and balance above 200 units- rate is Rs.10/unit."
      ],
      "metadata": {
        "id": "MOp5wGm2qCGM"
      }
    },
    {
      "cell_type": "code",
      "source": [
        "# Enter the integer input\n",
        "Units = int(input(\"Enter the total units consumed: \"))\n",
        "\n",
        "if Units <=100:\n",
        "\n",
        "  Elec_bill = Units*5.0\n",
        "\n",
        "elif Units <=200 and Units >100:\n",
        "\n",
        "  Elec_bill = 100*5.0 + (Units-100)*7.50\n",
        "\n",
        "else:\n",
        "\n",
        "  Elec_bill = 100*5.0 + 100*7.50 + (Units-200)*10.0\n",
        "\n",
        "print(\"The electricity bill is Rs: \",Elec_bill)"
      ],
      "metadata": {
        "colab": {
          "base_uri": "https://localhost:8080/"
        },
        "id": "E6xekFI8gZm1",
        "outputId": "12bb8f27-6a67-4137-e039-7475671f2c53"
      },
      "execution_count": 87,
      "outputs": [
        {
          "output_type": "stream",
          "name": "stdout",
          "text": [
            "Enter the total units consumed: 250\n",
            "The electricity bill is Rs:  1750.0\n"
          ]
        }
      ]
    },
    {
      "cell_type": "markdown",
      "source": [
        "--------------------------------------------------------------------------------"
      ],
      "metadata": {
        "id": "aGTr9Jlvj8DJ"
      }
    },
    {
      "cell_type": "markdown",
      "source": [
        "📚 Q10. Simple ATM program – check withdrawal conditions"
      ],
      "metadata": {
        "id": "e9uriWZgj-xx"
      }
    },
    {
      "cell_type": "code",
      "source": [
        "# Enter the available balance and withdrawl input\n",
        "\n",
        "balance = 10000\n",
        "\n",
        "withdrawl = int(input(\"Enter your withdrwal amount: \"))\n",
        "\n",
        "if withdrawl > balance:  # withdrawl above balance available\n",
        "  print(\"Insufficient balance in your account\")\n",
        "\n",
        "elif withdrawl%100!=0:   # withdrawl should be multiple's of 100\n",
        "  print(\"Enter the multiple's of 100\")\n",
        "\n",
        "else:                   # Deduct withdrawl from balance\n",
        "  balance = balance-withdrawl\n",
        "  print(\"Please collect your payment, the balance amount in your account is:\", balance)"
      ],
      "metadata": {
        "colab": {
          "base_uri": "https://localhost:8080/"
        },
        "id": "WZpkDaCPjXZY",
        "outputId": "5ea913cd-1c9f-426f-a73d-f709da216476"
      },
      "execution_count": 89,
      "outputs": [
        {
          "output_type": "stream",
          "name": "stdout",
          "text": [
            "Enter your withdrwal amount: 100000\n",
            "Insufficient balance in your account\n"
          ]
        }
      ]
    },
    {
      "cell_type": "markdown",
      "source": [
        "--------------------------------------------------------------------------------"
      ],
      "metadata": {
        "id": "py0RGbekmYYe"
      }
    },
    {
      "cell_type": "markdown",
      "source": [
        "🔚🔚🔚🔚🔚🔚🔚🔚🔚🔚🔚🔚🔚🔚🔚🔚🔚🔚🔚🔚🔚🔚🔚🔚🔚🔚🔚🔚🔚🔚🔚🔚🔚🔚🔚🔚🔚🔚🔚🔚\n"
      ],
      "metadata": {
        "id": "LBSULgsSrsfL"
      }
    }
  ]
}