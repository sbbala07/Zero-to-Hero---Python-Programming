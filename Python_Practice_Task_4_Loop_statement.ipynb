{
  "nbformat": 4,
  "nbformat_minor": 0,
  "metadata": {
    "colab": {
      "provenance": []
    },
    "kernelspec": {
      "name": "python3",
      "display_name": "Python 3"
    },
    "language_info": {
      "name": "python"
    }
  },
  "cells": [
    {
      "cell_type": "markdown",
      "source": [
        "## PYTHON PRACTICE TASK 4 - LOOP STATEMENT"
      ],
      "metadata": {
        "id": "ytV1QwmCsJPJ"
      }
    },
    {
      "cell_type": "markdown",
      "source": [
        "✅ 1️⃣ Use a while loop to print numbers from 1 to 10."
      ],
      "metadata": {
        "id": "_BkSpJJEsUEd"
      }
    },
    {
      "cell_type": "code",
      "execution_count": 66,
      "metadata": {
        "colab": {
          "base_uri": "https://localhost:8080/"
        },
        "id": "oOonUHLHr2zo",
        "outputId": "ca5fe028-e35e-490b-e6d5-6c54c1750a92"
      },
      "outputs": [
        {
          "output_type": "stream",
          "name": "stdout",
          "text": [
            "1\n",
            "2\n",
            "3\n",
            "4\n",
            "5\n",
            "6\n",
            "7\n",
            "8\n",
            "9\n",
            "10\n"
          ]
        }
      ],
      "source": [
        "number = 1    # Intialization\n",
        "\n",
        "while number<=10:  # Run until number less than or equal to 10.\n",
        "  print(number)\n",
        "  number  = number + 1   # increment"
      ]
    },
    {
      "cell_type": "markdown",
      "source": [
        "➖➖➖➖➖➖➖➖➖➖➖➖➖➖➖➖➖➖➖➖➖➖➖➖➖➖➖➖➖➖➖➖➖➖➖➖➖➖➖➖➖➖➖\n",
        "➖➖"
      ],
      "metadata": {
        "id": "BExhh6F8tLQ2"
      }
    },
    {
      "cell_type": "markdown",
      "source": [
        "✅ 2️⃣ Use a for loop and range() to print even numbers between 2 and 20."
      ],
      "metadata": {
        "id": "0mvExM3wtJom"
      }
    },
    {
      "cell_type": "code",
      "source": [
        "for i in range(2,21):  # Loop over between 2 to 20.\n",
        "  if i%2==0:   # Even no\n",
        "    print(i)"
      ],
      "metadata": {
        "colab": {
          "base_uri": "https://localhost:8080/"
        },
        "id": "MH1W5O7gs7bU",
        "outputId": "b74b4a63-3f7e-42d3-9acb-e089331ff6c3"
      },
      "execution_count": 22,
      "outputs": [
        {
          "output_type": "stream",
          "name": "stdout",
          "text": [
            "2\n",
            "4\n",
            "6\n",
            "8\n",
            "10\n",
            "12\n",
            "14\n",
            "16\n",
            "18\n",
            "20\n"
          ]
        }
      ]
    },
    {
      "cell_type": "markdown",
      "source": [
        "➖➖➖➖➖➖➖➖➖➖➖➖➖➖➖➖➖➖➖➖➖➖➖➖➖➖➖➖➖➖➖➖➖➖➖➖➖➖➖➖➖➖➖\n",
        "➖➖"
      ],
      "metadata": {
        "id": "sabq3KviuEe9"
      }
    },
    {
      "cell_type": "markdown",
      "source": [
        "✅ 3️⃣ Given a list of names, use a for loop to print only names longer than 4 letters.\n"
      ],
      "metadata": {
        "id": "_sfPN4-3uDGO"
      }
    },
    {
      "cell_type": "code",
      "source": [
        "names = [\"Ramja\",\"Iyer\",\"Rag\",\"Pra\",\"Mahesh\",\"Chotu\"]\n",
        "\n",
        "for i in names:  # Loop over the names list\n",
        "  if len(i)>=4:  # Longer than 4 letters\n",
        "      print(i)"
      ],
      "metadata": {
        "colab": {
          "base_uri": "https://localhost:8080/"
        },
        "id": "RB0PfoEKtrSZ",
        "outputId": "22f025e6-f79d-4b0a-a517-2fea2e7bde26"
      },
      "execution_count": 23,
      "outputs": [
        {
          "output_type": "stream",
          "name": "stdout",
          "text": [
            "Ramja\n",
            "Iyer\n",
            "Mahesh\n",
            "Chotu\n"
          ]
        }
      ]
    },
    {
      "cell_type": "markdown",
      "source": [
        "➖➖➖➖➖➖➖➖➖➖➖➖➖➖➖➖➖➖➖➖➖➖➖➖➖➖➖➖➖➖➖➖➖➖➖➖➖➖➖➖➖➖➖\n",
        "➖➖"
      ],
      "metadata": {
        "id": "aZzNbviv2SI8"
      }
    },
    {
      "cell_type": "markdown",
      "source": [
        "✅ 4️⃣ Create a multiplication table for numbers 1 to 5 using nested loops."
      ],
      "metadata": {
        "id": "68Wd0AHw4x-L"
      }
    },
    {
      "cell_type": "code",
      "source": [
        "for i in range(1,6):   # Ranges from 1 to 5\n",
        "  print(\"\\n\")          # Print in the next line\n",
        "  for j in range(1,6): # Loop inside a loop with number Ranges from 1 to 5\n",
        "    print(i*j, end=\"  \")  # End function with space between the numbers"
      ],
      "metadata": {
        "colab": {
          "base_uri": "https://localhost:8080/"
        },
        "id": "2yk9jGUh-IuB",
        "outputId": "f6bd496b-c2eb-4fc8-dec1-1d6a041eecfa"
      },
      "execution_count": 24,
      "outputs": [
        {
          "output_type": "stream",
          "name": "stdout",
          "text": [
            "\n",
            "\n",
            "1  2  3  4  5  \n",
            "\n",
            "2  4  6  8  10  \n",
            "\n",
            "3  6  9  12  15  \n",
            "\n",
            "4  8  12  16  20  \n",
            "\n",
            "5  10  15  20  25  "
          ]
        }
      ]
    },
    {
      "cell_type": "markdown",
      "source": [
        "➖➖➖➖➖➖➖➖➖➖➖➖➖➖➖➖➖➖➖➖➖➖➖➖➖➖➖➖➖➖➖➖➖➖➖➖➖➖➖➖➖➖➖\n",
        "➖➖"
      ],
      "metadata": {
        "id": "NwXTtx_0FpJU"
      }
    },
    {
      "cell_type": "markdown",
      "source": [
        "✅ 5️⃣ Write a for loop that searches for a number in a list. If found, print it and break."
      ],
      "metadata": {
        "id": "-hetDUDcG1Ws"
      }
    },
    {
      "cell_type": "code",
      "source": [
        "# Create a number list\n",
        "list = [10,20,25,100,30,50,90]\n",
        "\n",
        "# Target number\n",
        "num = 100\n",
        "\n",
        "for i in list:\n",
        "  if i == num:  # Target number equal within the list\n",
        "     break       # Out of the loop if the above condition is true\n",
        "  print(i)\n",
        "\n"
      ],
      "metadata": {
        "id": "Z04BuCrvwKBp",
        "colab": {
          "base_uri": "https://localhost:8080/"
        },
        "outputId": "0a0c1e63-a23e-459d-acb2-cc24ce5abc16"
      },
      "execution_count": 28,
      "outputs": [
        {
          "output_type": "stream",
          "name": "stdout",
          "text": [
            "10\n",
            "20\n",
            "25\n"
          ]
        }
      ]
    },
    {
      "cell_type": "markdown",
      "source": [
        "➖➖➖➖➖➖➖➖➖➖➖➖➖➖➖➖➖➖➖➖➖➖➖➖➖➖➖➖➖➖➖➖➖➖➖➖➖➖➖➖➖➖➖\n",
        "➖➖"
      ],
      "metadata": {
        "id": "tljOKbyMO7Vy"
      }
    },
    {
      "cell_type": "markdown",
      "source": [
        "✅ 6️⃣ Use a loop with continue to skip printing number 5 from 1 to 10."
      ],
      "metadata": {
        "id": "V5yxNiLbO-RS"
      }
    },
    {
      "cell_type": "code",
      "source": [
        "for i in range(1,11):  # Loop over between  1 to 10\n",
        "  if i==5:\n",
        "    continue           # Skip the number and continue execute the loop\n",
        "  print(i)\n",
        ""
      ],
      "metadata": {
        "colab": {
          "base_uri": "https://localhost:8080/"
        },
        "id": "IAIlYtiE6K1d",
        "outputId": "ba06d08b-1cf3-45b9-a5cc-05bf82095881"
      },
      "execution_count": 72,
      "outputs": [
        {
          "output_type": "stream",
          "name": "stdout",
          "text": [
            "1\n",
            "2\n",
            "3\n",
            "4\n",
            "6\n",
            "7\n",
            "8\n",
            "9\n",
            "10\n"
          ]
        }
      ]
    },
    {
      "cell_type": "markdown",
      "source": [
        "➖➖➖➖➖➖➖➖➖➖➖➖➖➖➖➖➖➖➖➖➖➖➖➖➖➖➖➖➖➖➖➖➖➖➖➖➖➖➖➖➖➖➖\n",
        "➖➖"
      ],
      "metadata": {
        "id": "S8KMpOoTRKzD"
      }
    },
    {
      "cell_type": "markdown",
      "source": [
        "# **🏷️ ✅ Quick Quiz**"
      ],
      "metadata": {
        "id": "TzE-wCwDRJmR"
      }
    },
    {
      "cell_type": "markdown",
      "source": [
        "✅ What is the difference between while and for loop?"
      ],
      "metadata": {
        "id": "CVUBij7fRVDJ"
      }
    },
    {
      "cell_type": "markdown",
      "source": [
        "    - 'While' loop execute until the condition is false.\n",
        "    - 'For' loop executes for each item in a list/range/set and etc.,\n"
      ],
      "metadata": {
        "id": "dBbp4cmbRWap"
      }
    },
    {
      "cell_type": "markdown",
      "source": [
        "*Example*"
      ],
      "metadata": {
        "id": "r9K9OTSUEfZ0"
      }
    },
    {
      "cell_type": "code",
      "source": [
        "# While Loop\n",
        "\n",
        "n = 0\n",
        "\n",
        "while n<=3:\n",
        "  print(n, end=\" \")\n",
        "  n= n+1"
      ],
      "metadata": {
        "colab": {
          "base_uri": "https://localhost:8080/"
        },
        "id": "JSIOGfszPmyl",
        "outputId": "6de277f1-9145-4c0b-dcb1-5c70a9258237"
      },
      "execution_count": 4,
      "outputs": [
        {
          "output_type": "stream",
          "name": "stdout",
          "text": [
            "0 1 2 3 "
          ]
        }
      ]
    },
    {
      "cell_type": "code",
      "source": [
        "# For loop\n",
        "\n",
        "for i in range(0,5):\n",
        "  print(i, end= \"-\")\n"
      ],
      "metadata": {
        "colab": {
          "base_uri": "https://localhost:8080/"
        },
        "id": "essLRWzUEol0",
        "outputId": "ce0bdb56-c410-4ae7-ee93-15429663db9b"
      },
      "execution_count": 5,
      "outputs": [
        {
          "output_type": "stream",
          "name": "stdout",
          "text": [
            "0-1-2-3-4-"
          ]
        }
      ]
    },
    {
      "cell_type": "markdown",
      "source": [
        "*****************************************************************************************"
      ],
      "metadata": {
        "id": "Wjy94QFYFMW0"
      }
    },
    {
      "cell_type": "markdown",
      "source": [
        "✅ What does break do in a loop?"
      ],
      "metadata": {
        "id": "jDBt7HP9FR5j"
      }
    },
    {
      "cell_type": "markdown",
      "source": [
        "- 'break' will immediatly break the execution and coming out of the loop."
      ],
      "metadata": {
        "id": "bCI7QmuEFYi9"
      }
    },
    {
      "cell_type": "markdown",
      "source": [
        "*Example*"
      ],
      "metadata": {
        "id": "LeQiZb7wFy3z"
      }
    },
    {
      "cell_type": "code",
      "source": [
        "alphabets = [\"a\",\"b\",\"c\",\"d\"]\n",
        "\n",
        "for i in alphabets:  # iterate over each item in alphabets\n",
        "  if i=='c':         # if i is c, coming out of the loop\n",
        "    break            # break the loop, if the above condition is true\n",
        "  print(i)\n"
      ],
      "metadata": {
        "colab": {
          "base_uri": "https://localhost:8080/"
        },
        "id": "aj-I4yEDExtg",
        "outputId": "c0c8c1e7-ad21-4e8d-ae4d-dfb17674b512"
      },
      "execution_count": 11,
      "outputs": [
        {
          "output_type": "stream",
          "name": "stdout",
          "text": [
            "a\n",
            "b\n"
          ]
        }
      ]
    },
    {
      "cell_type": "markdown",
      "source": [
        "***************************************************************************************************"
      ],
      "metadata": {
        "id": "TpE5BGC5HB7U"
      }
    },
    {
      "cell_type": "markdown",
      "source": [
        "✅ How do you repeat a block exactly 10 times?"
      ],
      "metadata": {
        "id": "yod1-YDHHJv9"
      }
    },
    {
      "cell_type": "markdown",
      "source": [
        "* Using a 'for' loop with range(10) function will repeat a block exactly 10 times."
      ],
      "metadata": {
        "id": "h5YlAGGoIxuj"
      }
    },
    {
      "cell_type": "markdown",
      "source": [
        "*Example*"
      ],
      "metadata": {
        "id": "K_ItXc7IJDSE"
      }
    },
    {
      "cell_type": "code",
      "source": [
        "for i in range(10):\n",
        "  print(\"Iteration:\",i)\n"
      ],
      "metadata": {
        "colab": {
          "base_uri": "https://localhost:8080/"
        },
        "id": "cXvBGtk2GUus",
        "outputId": "c4159e8e-1b48-44ac-a8b0-21caedde9d89"
      },
      "execution_count": 12,
      "outputs": [
        {
          "output_type": "stream",
          "name": "stdout",
          "text": [
            "Iteration: 0\n",
            "Iteration: 1\n",
            "Iteration: 2\n",
            "Iteration: 3\n",
            "Iteration: 4\n",
            "Iteration: 5\n",
            "Iteration: 6\n",
            "Iteration: 7\n",
            "Iteration: 8\n",
            "Iteration: 9\n"
          ]
        }
      ]
    },
    {
      "cell_type": "markdown",
      "source": [
        "*********************************************************************************************"
      ],
      "metadata": {
        "id": "uc2NJb_CJVz0"
      }
    },
    {
      "cell_type": "markdown",
      "source": [
        "# ✅ Can you use else with a while loop?"
      ],
      "metadata": {
        "id": "xxYAWVFlJZKc"
      }
    },
    {
      "cell_type": "markdown",
      "source": [
        "- Yes. We can use else with while loop. Else will execute if while block executed."
      ],
      "metadata": {
        "id": "iX0rFUo3JpDN"
      }
    },
    {
      "cell_type": "markdown",
      "source": [
        "*Example*"
      ],
      "metadata": {
        "id": "S4GfWd94VTMo"
      }
    },
    {
      "cell_type": "code",
      "source": [
        "i  = 1\n",
        "\n",
        "while i<=10:\n",
        "  print(i)\n",
        "  i = i+1\n",
        "else:\n",
        "  print(\"nothing\")"
      ],
      "metadata": {
        "colab": {
          "base_uri": "https://localhost:8080/"
        },
        "id": "19k1HbxcJRqn",
        "outputId": "f356372c-5fc9-4d53-d1ef-f7355fff1045"
      },
      "execution_count": 21,
      "outputs": [
        {
          "output_type": "stream",
          "name": "stdout",
          "text": [
            "1\n",
            "2\n",
            "3\n",
            "4\n",
            "5\n",
            "6\n",
            "7\n",
            "8\n",
            "9\n",
            "10\n",
            "nothing\n"
          ]
        }
      ]
    },
    {
      "cell_type": "markdown",
      "source": [
        "⚛⚛⚛⚛⚛⚛⚛⚛⚛⚛⚛⚛⚛⚛⚛⚛⚛⚛⚛⚛⚛⚛⚛⚛⚛⚛⚛⚛⚛⚛⚛⚛⚛⚛⚛⚛⚛⚛⚛⚛⚛⚛⚛⚛⚛⚛⚛⚛⚛⚛⚛⚛⚛⚛⚛⚛⚛⚛⚛⚛⚛⚛⚛⚛⚛⚛⚛⚛⚛⚛⚛⚛⚛⚛⚛⚛"
      ],
      "metadata": {
        "id": "c-vJ0QmaXpcy"
      }
    }
  ]
}