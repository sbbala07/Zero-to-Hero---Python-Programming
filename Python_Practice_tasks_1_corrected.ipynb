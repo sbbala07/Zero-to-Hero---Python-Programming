{
  "nbformat": 4,
  "nbformat_minor": 0,
  "metadata": {
    "colab": {
      "provenance": []
    },
    "kernelspec": {
      "name": "python3",
      "display_name": "Python 3"
    },
    "language_info": {
      "name": "python"
    }
  },
  "cells": [
    {
      "cell_type": "markdown",
      "source": [
        "# PRACTICE TASKS IN PYTHON"
      ],
      "metadata": {
        "id": "Ga1j35O20cHM"
      }
    },
    {
      "cell_type": "markdown",
      "source": [
        "Here is the list of tasks to be done in python"
      ],
      "metadata": {
        "id": "FEli71CD0lmS"
      }
    },
    {
      "cell_type": "markdown",
      "source": [
        "✅ 1. Print your name and age.  \n",
        "✅ 2. Calculate 10 + 5 * 2  \n",
        "✅ 3. Write a comment about your calculation.\n"
      ],
      "metadata": {
        "id": "yAMeBVph0hkg"
      }
    },
    {
      "cell_type": "markdown",
      "source": [
        "1. Print your name and age."
      ],
      "metadata": {
        "id": "4kU6OLW20rcN"
      }
    },
    {
      "cell_type": "code",
      "execution_count": null,
      "metadata": {
        "colab": {
          "base_uri": "https://localhost:8080/"
        },
        "id": "7pJ0p-UV0F5R",
        "outputId": "9b855b76-ce68-41f8-93a8-cd22e218277f"
      },
      "outputs": [
        {
          "output_type": "stream",
          "name": "stdout",
          "text": [
            "BALACHANDRAN\n"
          ]
        }
      ],
      "source": [
        "# Print your name\n",
        "\n",
        "print(\"BALACHANDRAN\")"
      ]
    },
    {
      "cell_type": "code",
      "source": [
        "# Print your Age\n",
        "\n",
        "print(\"My age is:\", 32)"
      ],
      "metadata": {
        "colab": {
          "base_uri": "https://localhost:8080/"
        },
        "id": "bnOTJwYD02Id",
        "outputId": "80a42422-aeec-449d-bbbd-8b4e278d1074"
      },
      "execution_count": null,
      "outputs": [
        {
          "output_type": "stream",
          "name": "stdout",
          "text": [
            "My age is: 32\n"
          ]
        }
      ]
    },
    {
      "cell_type": "markdown",
      "source": [
        "2. Calculate 10 + 5 * 2"
      ],
      "metadata": {
        "id": "JP1txfHL1K4D"
      }
    },
    {
      "cell_type": "code",
      "source": [
        "# Calculate the numbers\n",
        "\n",
        "calculation = 10 + 5 * 2\n",
        "\n",
        "print(calculation)"
      ],
      "metadata": {
        "colab": {
          "base_uri": "https://localhost:8080/"
        },
        "id": "LKsBuRmG0_Nb",
        "outputId": "7817875d-dde6-4849-ef8f-7eda925e9df2"
      },
      "execution_count": null,
      "outputs": [
        {
          "output_type": "stream",
          "name": "stdout",
          "text": [
            "20\n"
          ]
        }
      ]
    },
    {
      "cell_type": "markdown",
      "source": [
        "3. Write a comment about your calculation."
      ],
      "metadata": {
        "id": "OlImhVW05igu"
      }
    },
    {
      "cell_type": "code",
      "source": [
        "\n",
        "# Here we are doing arithmatic operation using python. First. We are multiplying 5 with 2.\n",
        "# then, we are adding the result with 10. So, the total value is 20. This is one way of doing arithmatic operation.\n",
        "\n"
      ],
      "metadata": {
        "id": "SNxA_wLq1jY6"
      },
      "execution_count": 3,
      "outputs": []
    },
    {
      "cell_type": "markdown",
      "source": [
        "# ✅ Quick Quiz\n",
        "\n",
        "1️⃣ What symbol is used for comments in Python?  \n",
        "2️⃣ How do you print text in Python?  \n",
        "3️⃣ What is the output of `3 ** 2`?"
      ],
      "metadata": {
        "id": "FFynik5s9hzk"
      }
    },
    {
      "cell_type": "markdown",
      "source": [
        "1️⃣ What symbol is used for comments in Python?  \n"
      ],
      "metadata": {
        "id": "veLzrZMP9kxR"
      }
    },
    {
      "cell_type": "markdown",
      "source": [
        "Answer: The symbol is used for comments in python is \"#\" or within ' ' ' quotes."
      ],
      "metadata": {
        "id": "Sm9h7rgo9nV3"
      }
    },
    {
      "cell_type": "markdown",
      "source": [
        "2️⃣ How do you print text in Python?  \n",
        "\n",
        "Answer : To print a text in python, we need to write the text within quotes( ' ' or \" \" ) using print statement.\n",
        "\n",
        "Eg: print(\"sample text\")"
      ],
      "metadata": {
        "id": "ZfYqr5kl909b"
      }
    },
    {
      "cell_type": "code",
      "source": [
        "print(\"sample text\")"
      ],
      "metadata": {
        "colab": {
          "base_uri": "https://localhost:8080/"
        },
        "id": "QBSD1iCoBdN0",
        "outputId": "0a9d7d8b-5e49-47a0-c65f-3609df92252a"
      },
      "execution_count": null,
      "outputs": [
        {
          "output_type": "stream",
          "name": "stdout",
          "text": [
            "sample text\n"
          ]
        }
      ]
    },
    {
      "cell_type": "markdown",
      "source": [
        "3️⃣ What is the output of 3 ** 2?\n",
        "\n",
        "The output of the above is 3 to the power 2, which is 3 * 3, the result is 9."
      ],
      "metadata": {
        "id": "SMoxlM3N-dPB"
      }
    },
    {
      "cell_type": "code",
      "source": [
        "# Calculate 3 ** 2\n",
        "\n",
        "result = 3**2\n",
        "print(result)"
      ],
      "metadata": {
        "colab": {
          "base_uri": "https://localhost:8080/"
        },
        "id": "dMhOsvpl6do-",
        "outputId": "58cec8bd-d140-47ee-b5a9-8e766f2aaba4"
      },
      "execution_count": null,
      "outputs": [
        {
          "output_type": "stream",
          "name": "stdout",
          "text": [
            "9\n"
          ]
        }
      ]
    }
  ]
}