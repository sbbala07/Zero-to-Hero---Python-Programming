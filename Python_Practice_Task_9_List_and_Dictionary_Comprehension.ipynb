{
  "nbformat": 4,
  "nbformat_minor": 0,
  "metadata": {
    "colab": {
      "provenance": []
    },
    "kernelspec": {
      "name": "python3",
      "display_name": "Python 3"
    },
    "language_info": {
      "name": "python"
    }
  },
  "cells": [
    {
      "cell_type": "markdown",
      "source": [
        "\n",
        "\n",
        "## PYTHON PRACTICE TASK ON LIST AND DICTIONARY COMPREHENSION\n",
        "\n"
      ],
      "metadata": {
        "id": "afjepF0KiEtz"
      }
    },
    {
      "cell_type": "markdown",
      "source": [
        "**` ✅ Practice Tasks: `**"
      ],
      "metadata": {
        "id": "O0IZg8reiT5l"
      }
    },
    {
      "cell_type": "markdown",
      "source": [
        "\n",
        "\n",
        "☣ Create a list of cubes from 1–5."
      ],
      "metadata": {
        "id": "weRceVxtH4QZ"
      }
    },
    {
      "cell_type": "code",
      "source": [
        "# Create a list of cubes from 1-5\n",
        "\n",
        "[i**3 for i in range(1,6)]"
      ],
      "metadata": {
        "colab": {
          "base_uri": "https://localhost:8080/"
        },
        "id": "kOb3gwa6H95n",
        "outputId": "c92dfaf1-c299-400c-b7e9-48879f26b822"
      },
      "execution_count": 5,
      "outputs": [
        {
          "output_type": "execute_result",
          "data": {
            "text/plain": [
              "[1, 8, 27, 64, 125]"
            ]
          },
          "metadata": {},
          "execution_count": 5
        }
      ]
    },
    {
      "cell_type": "markdown",
      "source": [
        "---------------------------------------------------------------------------------------------------------"
      ],
      "metadata": {
        "id": "7E7-p82VJ07m"
      }
    },
    {
      "cell_type": "markdown",
      "source": [
        "☣ Convert a list of strings to uppercase."
      ],
      "metadata": {
        "id": "JfmvuqNkJpqz"
      }
    },
    {
      "cell_type": "code",
      "source": [
        "# Convert a list of strings to uppercase.\n",
        "\n",
        "str_lst = ['health','is','wealth']\n",
        "\n",
        "[i.upper() for i in str_lst]     # upper() convert to upper case"
      ],
      "metadata": {
        "colab": {
          "base_uri": "https://localhost:8080/"
        },
        "id": "BIg8jEvGH93F",
        "outputId": "c4ebed01-9340-497d-ee9f-e444d9f2bde2"
      },
      "execution_count": 35,
      "outputs": [
        {
          "output_type": "execute_result",
          "data": {
            "text/plain": [
              "['HEALTH', 'IS', 'WEALTH']"
            ]
          },
          "metadata": {},
          "execution_count": 35
        }
      ]
    },
    {
      "cell_type": "markdown",
      "source": [
        "---------------------------------------------------------------------------------------------------------------------------"
      ],
      "metadata": {
        "id": "T9DP7kXcNjaf"
      }
    },
    {
      "cell_type": "markdown",
      "source": [
        "☣ Build a multiplication table for 1–5."
      ],
      "metadata": {
        "id": "tvrpRq-CNx1-"
      }
    },
    {
      "cell_type": "markdown",
      "source": [
        "Normal method"
      ],
      "metadata": {
        "id": "CoX2UyaHcG0_"
      }
    },
    {
      "cell_type": "code",
      "source": [
        "# Build a multiplication table for 1–5.\n",
        "ms_lst= []\n",
        "for i in range(1,6):\n",
        "  lst = []\n",
        "  for j in range(1,6):\n",
        "    lst.append(i*j)\n",
        "  ms_lst.append(lst)"
      ],
      "metadata": {
        "id": "hwk6s0sFH90f"
      },
      "execution_count": 19,
      "outputs": []
    },
    {
      "cell_type": "code",
      "source": [
        "ms_lst"
      ],
      "metadata": {
        "colab": {
          "base_uri": "https://localhost:8080/"
        },
        "id": "mgoBGbg2H9tf",
        "outputId": "92ddbdbd-1e15-4dd4-e05b-d888e124b3b9"
      },
      "execution_count": 20,
      "outputs": [
        {
          "output_type": "execute_result",
          "data": {
            "text/plain": [
              "[[1, 2, 3, 4, 5],\n",
              " [2, 4, 6, 8, 10],\n",
              " [3, 6, 9, 12, 15],\n",
              " [4, 8, 12, 16, 20],\n",
              " [5, 10, 15, 20, 25]]"
            ]
          },
          "metadata": {},
          "execution_count": 20
        }
      ]
    },
    {
      "cell_type": "markdown",
      "source": [
        "List comprehension"
      ],
      "metadata": {
        "id": "nm6L_KDUcKjb"
      }
    },
    {
      "cell_type": "code",
      "source": [
        "[[i*j for j in range(1,6)] for i in range(1,6)]"
      ],
      "metadata": {
        "colab": {
          "base_uri": "https://localhost:8080/"
        },
        "id": "0qLWlm3ZH9rU",
        "outputId": "1c31d6b4-275a-4028-8dff-2c6aae05bafa"
      },
      "execution_count": 22,
      "outputs": [
        {
          "output_type": "execute_result",
          "data": {
            "text/plain": [
              "[[1, 2, 3, 4, 5],\n",
              " [2, 4, 6, 8, 10],\n",
              " [3, 6, 9, 12, 15],\n",
              " [4, 8, 12, 16, 20],\n",
              " [5, 10, 15, 20, 25]]"
            ]
          },
          "metadata": {},
          "execution_count": 22
        }
      ]
    },
    {
      "cell_type": "markdown",
      "source": [
        "---------------------------------------------------------------------------------------------------------"
      ],
      "metadata": {
        "id": "n_Sj2b8OcowS"
      }
    },
    {
      "cell_type": "markdown",
      "source": [
        "☣ Get all vowels from a string.\n"
      ],
      "metadata": {
        "id": "XcHcJhI1cq3w"
      }
    },
    {
      "cell_type": "markdown",
      "source": [
        "- Getting vowels 'aeiou' in a string"
      ],
      "metadata": {
        "id": "BjcwCVMgitUP"
      }
    },
    {
      "cell_type": "markdown",
      "source": [
        "Normal method"
      ],
      "metadata": {
        "id": "DtGromYdg6gw"
      }
    },
    {
      "cell_type": "code",
      "source": [
        "string = 'qualification'\n",
        "\n",
        "for i in string:\n",
        "  if i in 'aeiou':\n",
        "    print(i)\n"
      ],
      "metadata": {
        "colab": {
          "base_uri": "https://localhost:8080/"
        },
        "id": "3OuZDdg7H9pB",
        "outputId": "0a36402e-10a1-4093-c2f4-794b639cbb07"
      },
      "execution_count": 75,
      "outputs": [
        {
          "output_type": "stream",
          "name": "stdout",
          "text": [
            "u\n",
            "a\n",
            "i\n",
            "i\n",
            "a\n",
            "i\n",
            "o\n"
          ]
        }
      ]
    },
    {
      "cell_type": "markdown",
      "source": [
        "*List Comprehension*"
      ],
      "metadata": {
        "id": "eIg8U6yLg8nA"
      }
    },
    {
      "cell_type": "code",
      "source": [
        "[i for i in string if i in 'aeiou']"
      ],
      "metadata": {
        "colab": {
          "base_uri": "https://localhost:8080/"
        },
        "id": "do-59QiqH9kv",
        "outputId": "c5263e79-e949-4891-fe92-b386cc99be8a"
      },
      "execution_count": 42,
      "outputs": [
        {
          "output_type": "execute_result",
          "data": {
            "text/plain": [
              "['u', 'a', 'i', 'i', 'a', 'i', 'o']"
            ]
          },
          "metadata": {},
          "execution_count": 42
        }
      ]
    },
    {
      "cell_type": "markdown",
      "source": [
        "--------------------------------------------------------------------------------------------------------------"
      ],
      "metadata": {
        "id": "9p9Y-prNhG-b"
      }
    },
    {
      "cell_type": "markdown",
      "source": [
        "☣ Get squares of numbers if the number is odd."
      ],
      "metadata": {
        "id": "mXgXU2bUhJUJ"
      }
    },
    {
      "cell_type": "markdown",
      "source": [
        "**Normal method**"
      ],
      "metadata": {
        "id": "eLk7GdCriMje"
      }
    },
    {
      "cell_type": "code",
      "source": [
        "for i in range(1,11):\n",
        "  if i%2!=0:   # Getting odd number\n",
        "    print(i*i)"
      ],
      "metadata": {
        "colab": {
          "base_uri": "https://localhost:8080/"
        },
        "id": "R3srri0eH9hT",
        "outputId": "d80eb850-0702-4889-8b67-a130c869abde"
      },
      "execution_count": 36,
      "outputs": [
        {
          "output_type": "stream",
          "name": "stdout",
          "text": [
            "1\n",
            "9\n",
            "25\n",
            "49\n",
            "81\n"
          ]
        }
      ]
    },
    {
      "cell_type": "markdown",
      "source": [
        "*List comprehension*"
      ],
      "metadata": {
        "id": "fUGSWnjyiQSx"
      }
    },
    {
      "cell_type": "code",
      "source": [
        "[i*i for i in range(1,11) if i%2!=0 ]"
      ],
      "metadata": {
        "colab": {
          "base_uri": "https://localhost:8080/"
        },
        "id": "mpr60JsaH9XP",
        "outputId": "bd03524f-84c7-42e9-85e9-8f1cc20352bc"
      },
      "execution_count": 45,
      "outputs": [
        {
          "output_type": "execute_result",
          "data": {
            "text/plain": [
              "[1, 9, 25, 49, 81]"
            ]
          },
          "metadata": {},
          "execution_count": 45
        }
      ]
    },
    {
      "cell_type": "markdown",
      "source": [
        "--------------------------------------------------------------------------------------------------------"
      ],
      "metadata": {
        "id": "j4V_vYbnin-N"
      }
    },
    {
      "cell_type": "markdown",
      "source": [
        "☣ Create a dictionary of numbers and their cubes.\n"
      ],
      "metadata": {
        "id": "UDmhmkhiksZR"
      }
    },
    {
      "cell_type": "code",
      "source": [
        "{i:i**3 for i in range(1,6)}"
      ],
      "metadata": {
        "colab": {
          "base_uri": "https://localhost:8080/"
        },
        "id": "p3kdh4D1iZxk",
        "outputId": "5369a3ac-07a3-4d2c-ecbe-f774d686b192"
      },
      "execution_count": 48,
      "outputs": [
        {
          "output_type": "execute_result",
          "data": {
            "text/plain": [
              "{1: 1, 2: 8, 3: 27, 4: 64, 5: 125}"
            ]
          },
          "metadata": {},
          "execution_count": 48
        }
      ]
    },
    {
      "cell_type": "markdown",
      "source": [
        "----------------------------------------------------------------------------------------------------------"
      ],
      "metadata": {
        "id": "nZ-4vi4FlbwQ"
      }
    },
    {
      "cell_type": "markdown",
      "source": [
        " ☣ Make a frequency count of characters in a string."
      ],
      "metadata": {
        "id": "4HL-KoxLlfPk"
      }
    },
    {
      "cell_type": "markdown",
      "source": [
        "Normal method"
      ],
      "metadata": {
        "id": "Y2wjnfBxSSkF"
      }
    },
    {
      "cell_type": "code",
      "source": [
        "string = 'notebook'\n",
        "\n",
        "freq_count = {}\n",
        "\n",
        "for i in string:\n",
        "\n",
        "  if i in freq_count:   # if charcter exist in freq_count add 1 to count.\n",
        "    freq_count[i] += 1\n",
        "\n",
        "  else:\n",
        "    freq_count[i] = 1    # if not, it is 1.\n",
        "\n",
        "print(freq_count)"
      ],
      "metadata": {
        "colab": {
          "base_uri": "https://localhost:8080/"
        },
        "id": "oVzzkgV5iZvJ",
        "outputId": "f5018773-93c2-4c10-845e-37f6af220fe4"
      },
      "execution_count": 15,
      "outputs": [
        {
          "output_type": "stream",
          "name": "stdout",
          "text": [
            "{'n': 1, 'o': 3, 't': 1, 'e': 1, 'b': 1, 'k': 1}\n"
          ]
        }
      ]
    },
    {
      "cell_type": "markdown",
      "source": [
        "Using dictionary comprehension"
      ],
      "metadata": {
        "id": "2D0aAOpESVMb"
      }
    },
    {
      "cell_type": "code",
      "source": [
        "{i: string.count(i) for i in set(string) }    # set for unique characters"
      ],
      "metadata": {
        "colab": {
          "base_uri": "https://localhost:8080/"
        },
        "id": "R96BvmKbiZs4",
        "outputId": "d4a99972-2d26-4918-8125-ff07ecb99b87"
      },
      "execution_count": 14,
      "outputs": [
        {
          "output_type": "execute_result",
          "data": {
            "text/plain": [
              "{'k': 1, 'e': 1, 't': 1, 'n': 1, 'o': 3, 'b': 1}"
            ]
          },
          "metadata": {},
          "execution_count": 14
        }
      ]
    },
    {
      "cell_type": "markdown",
      "source": [
        "--------------------------------------------------------------------------------------------------------"
      ],
      "metadata": {
        "id": "tVmt2oZ0VcY6"
      }
    },
    {
      "cell_type": "markdown",
      "source": [
        "☣ Write a list comprehension for squares of even numbers from 1–20.\n"
      ],
      "metadata": {
        "id": "78egFr6EVj2a"
      }
    },
    {
      "cell_type": "code",
      "source": [
        "# List comprehension\n",
        "\n",
        "[i*i for i in range(1,21) if i%2==0]"
      ],
      "metadata": {
        "colab": {
          "base_uri": "https://localhost:8080/"
        },
        "id": "VAV6PnOmVb9T",
        "outputId": "7ae15b31-c1fa-4397-d809-4336a22bf743"
      },
      "execution_count": 18,
      "outputs": [
        {
          "output_type": "execute_result",
          "data": {
            "text/plain": [
              "[4, 16, 36, 64, 100, 144, 196, 256, 324, 400]"
            ]
          },
          "metadata": {},
          "execution_count": 18
        }
      ]
    },
    {
      "cell_type": "markdown",
      "source": [
        "----------------------------------------------------------------------------------------------------------------------"
      ],
      "metadata": {
        "id": "02LjXmn_WTwe"
      }
    },
    {
      "cell_type": "markdown",
      "source": [
        "☣ Extract all digits from a mixed string."
      ],
      "metadata": {
        "id": "UNAeoKP2WXY2"
      }
    },
    {
      "cell_type": "code",
      "source": [
        "# Create mixed string with alpha numeric\n",
        "\n",
        "mixed_string = '1abch2hy345hfk67xy8p9'\n",
        "\n",
        "[i for i in mixed_string if i.isdigit()]   # Using 'isdigit' function to extract digits"
      ],
      "metadata": {
        "colab": {
          "base_uri": "https://localhost:8080/"
        },
        "id": "otEYeQeDVb6-",
        "outputId": "d8b07f40-de3e-4280-a99a-860ebb993dd5"
      },
      "execution_count": 20,
      "outputs": [
        {
          "output_type": "execute_result",
          "data": {
            "text/plain": [
              "['1', '2', '3', '4', '5', '6', '7', '8', '9']"
            ]
          },
          "metadata": {},
          "execution_count": 20
        }
      ]
    },
    {
      "cell_type": "markdown",
      "source": [
        "--------------------------------------------------------------------------------------------------------------"
      ],
      "metadata": {
        "id": "9wseMTB9XKSg"
      }
    },
    {
      "cell_type": "markdown",
      "source": [
        "☣ Flatten a 3x3 matrix using nested comprehension.\n"
      ],
      "metadata": {
        "id": "iDnVGoP8XM10"
      }
    },
    {
      "cell_type": "code",
      "source": [
        "from ast import MatchOr\n",
        "# create a 3 x 3 matrix\n",
        "\n",
        "matrix = [[i*j for j in range(1,4)] for i in range(1,4)]\n",
        "\n",
        "print(matrix)"
      ],
      "metadata": {
        "colab": {
          "base_uri": "https://localhost:8080/"
        },
        "id": "y0W2bCcNVb4j",
        "outputId": "38fbb178-a18d-45e2-996f-9abbe1b43f23"
      },
      "execution_count": 22,
      "outputs": [
        {
          "output_type": "stream",
          "name": "stdout",
          "text": [
            "[[1, 2, 3], [2, 4, 6], [3, 6, 9]]\n"
          ]
        }
      ]
    },
    {
      "cell_type": "code",
      "source": [
        "# Flatten a matrix\n",
        "\n",
        "flatten = [i for row in matrix for i in row]\n",
        "print(flatten)"
      ],
      "metadata": {
        "colab": {
          "base_uri": "https://localhost:8080/"
        },
        "id": "pQqmHbhpVb2B",
        "outputId": "ccc8b4bb-fd9d-4397-d911-9c3bbd261ca1"
      },
      "execution_count": 23,
      "outputs": [
        {
          "output_type": "stream",
          "name": "stdout",
          "text": [
            "[1, 2, 3, 2, 4, 6, 3, 6, 9]\n"
          ]
        }
      ]
    },
    {
      "cell_type": "markdown",
      "source": [
        "----------------------------------------------------------------------------------------------------------------"
      ],
      "metadata": {
        "id": "7VE3tpzAaXg7"
      }
    },
    {
      "cell_type": "markdown",
      "source": [
        "☣ Create a dictionary mapping numbers 1–5 to their factorials."
      ],
      "metadata": {
        "id": "i956O-pgaabn"
      }
    },
    {
      "cell_type": "code",
      "source": [
        "# Using math function to create factorials\n",
        "\n",
        "import math\n",
        "\n",
        "map = {i:math.factorial(i) for i in range(1,6)}\n",
        "print(map)"
      ],
      "metadata": {
        "colab": {
          "base_uri": "https://localhost:8080/"
        },
        "id": "lIzEbvVNiZqV",
        "outputId": "7b473dee-1f25-45c1-e3a5-bb69b2c599e0"
      },
      "execution_count": 24,
      "outputs": [
        {
          "output_type": "stream",
          "name": "stdout",
          "text": [
            "{1: 1, 2: 2, 3: 6, 4: 24, 5: 120}\n"
          ]
        }
      ]
    },
    {
      "cell_type": "markdown",
      "source": [
        "-----------------------------------------------------------------------------------------------------------------"
      ],
      "metadata": {
        "id": "yX7O5SwXbvJF"
      }
    },
    {
      "cell_type": "markdown",
      "source": [
        "☣ Use dict comprehension to swap keys and values: {'a': 1, 'b': 2} → {1: 'a', 2: 'b'}.\n",
        "\n"
      ],
      "metadata": {
        "id": "Zb2IXDzFbzZk"
      }
    },
    {
      "cell_type": "code",
      "source": [
        "actual =  {'a': 1, 'b': 2}\n",
        "\n",
        "{value:key  for key, value in actual.items()}        # using '.items' to get key and values from dictionary\n"
      ],
      "metadata": {
        "colab": {
          "base_uri": "https://localhost:8080/"
        },
        "id": "Ig_9OVcziZl7",
        "outputId": "e560a92d-5586-4f5c-b877-e545a785b161"
      },
      "execution_count": 32,
      "outputs": [
        {
          "output_type": "execute_result",
          "data": {
            "text/plain": [
              "{1: 'a', 2: 'b'}"
            ]
          },
          "metadata": {},
          "execution_count": 32
        }
      ]
    },
    {
      "cell_type": "markdown",
      "source": [
        "--------------------------------------------------------------------------------------------------------"
      ],
      "metadata": {
        "id": "YuqDFNBPd2DC"
      }
    },
    {
      "cell_type": "markdown",
      "source": [
        "☣ How do you add a condition in a list comprehension?"
      ],
      "metadata": {
        "id": "IokKDBUceNVs"
      }
    },
    {
      "cell_type": "markdown",
      "source": [
        "**`Answer`**"
      ],
      "metadata": {
        "id": "ymYPg5VIeRdE"
      }
    },
    {
      "cell_type": "markdown",
      "source": [
        "- In a list comprehension, we can add a condition like 'if' statement in the list after the for loop.\n"
      ],
      "metadata": {
        "id": "G0kV5ENNeU--"
      }
    },
    {
      "cell_type": "markdown",
      "source": [
        "Example"
      ],
      "metadata": {
        "id": "MxkgaVRiepLG"
      }
    },
    {
      "cell_type": "code",
      "source": [
        "# Print odd number from 1 to 10\n",
        "[i for i in range(1,10) if i%2!=0]"
      ],
      "metadata": {
        "colab": {
          "base_uri": "https://localhost:8080/"
        },
        "id": "ybuBz_0NdQ2J",
        "outputId": "e861b9c9-c04f-4b25-c7bf-5b6e47c92695"
      },
      "execution_count": 33,
      "outputs": [
        {
          "output_type": "execute_result",
          "data": {
            "text/plain": [
              "[1, 3, 5, 7, 9]"
            ]
          },
          "metadata": {},
          "execution_count": 33
        }
      ]
    },
    {
      "cell_type": "markdown",
      "source": [
        "---------------------------------------------------------------------------------------------------------"
      ],
      "metadata": {
        "id": "TF7qx_V7e_Lq"
      }
    },
    {
      "cell_type": "markdown",
      "source": [
        "☣  Can you use if...else in list comprehension?"
      ],
      "metadata": {
        "id": "Els0qJlufBZ6"
      }
    },
    {
      "cell_type": "markdown",
      "source": [
        "**`Answer`**"
      ],
      "metadata": {
        "id": "h_wByh4afj54"
      }
    },
    {
      "cell_type": "markdown",
      "source": [
        "- Yes. We can use if...else in list comprehension."
      ],
      "metadata": {
        "id": "OfXDmHIEflJg"
      }
    },
    {
      "cell_type": "markdown",
      "source": [
        "Example"
      ],
      "metadata": {
        "id": "2m0w2VkkfrFZ"
      }
    },
    {
      "cell_type": "code",
      "source": [
        "[\"even\" if i%2==0 else \"odd\" for i in range(1,6)]"
      ],
      "metadata": {
        "colab": {
          "base_uri": "https://localhost:8080/"
        },
        "id": "2cW2alPgdQy4",
        "outputId": "6eac5179-cd70-465e-8e16-0a2c61c5f75e"
      },
      "execution_count": 34,
      "outputs": [
        {
          "output_type": "execute_result",
          "data": {
            "text/plain": [
              "['odd', 'even', 'odd', 'even', 'odd']"
            ]
          },
          "metadata": {},
          "execution_count": 34
        }
      ]
    },
    {
      "cell_type": "markdown",
      "source": [
        "--------------------------------------------------------------   🙏---------------------------------------------------------"
      ],
      "metadata": {
        "id": "3z0P_15zgGu5"
      }
    },
    {
      "cell_type": "code",
      "source": [],
      "metadata": {
        "id": "RUxg8E-QiCmD"
      },
      "execution_count": null,
      "outputs": []
    }
  ]
}