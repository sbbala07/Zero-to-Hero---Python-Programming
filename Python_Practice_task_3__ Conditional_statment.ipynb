{
  "nbformat": 4,
  "nbformat_minor": 0,
  "metadata": {
    "colab": {
      "provenance": []
    },
    "kernelspec": {
      "name": "python3",
      "display_name": "Python 3"
    },
    "language_info": {
      "name": "python"
    }
  },
  "cells": [
    {
      "cell_type": "markdown",
      "source": [
        "# PYTHON PRACTICE TASK 3 - CONDITIONAL STATEMENTS"
      ],
      "metadata": {
        "id": "ePk-fvK3bwFN"
      }
    },
    {
      "cell_type": "markdown",
      "source": [
        "✅ 1️⃣ Check if a number is zero, positive, or negative.\n",
        "(Hint: Use if, elif, else)"
      ],
      "metadata": {
        "id": "OM8QdEakcik8"
      }
    },
    {
      "cell_type": "code",
      "source": [
        "# Initialising the number\n",
        "\n",
        "number = -3\n",
        "\n",
        "if number == 0:   # Checking number is zero\n",
        "  print(\"The Number is zero\")\n",
        "elif number > 0:  # Checking number is positive\n",
        "  print(\"number is positive\")\n",
        "else:             # Number is not zero and not positive.  That is negative\n",
        "  print(\" The number is negative\")"
      ],
      "metadata": {
        "colab": {
          "base_uri": "https://localhost:8080/"
        },
        "id": "JihGTNfsc8de",
        "outputId": "320bfa9a-f427-4773-b0ac-9c10fefb5966"
      },
      "execution_count": null,
      "outputs": [
        {
          "output_type": "stream",
          "name": "stdout",
          "text": [
            " The number is negative\n"
          ]
        }
      ]
    },
    {
      "cell_type": "markdown",
      "source": [
        "--------------------------------------------------------------------------------"
      ],
      "metadata": {
        "id": "w1S94KHsfU_y"
      }
    },
    {
      "cell_type": "markdown",
      "source": [
        "✅ 2️⃣ Check if a person is a child (age < 13), teenager (13–19), or adult (20+).\n"
      ],
      "metadata": {
        "id": "lFWcc2ncfGB1"
      }
    },
    {
      "cell_type": "code",
      "source": [
        "# Intialising the age\n",
        "age = 20\n",
        "\n",
        "if age < 13: # Age is less than 13\n",
        "  print(\"The person is a child\")\n",
        "elif age >  13 and age <=19: # Age is between 13-19\n",
        "  print(\" The person is a teenager\")\n",
        "elif age >= 20: # Age is more than 20\n",
        "  print(\"The person is an adult \")"
      ],
      "metadata": {
        "colab": {
          "base_uri": "https://localhost:8080/"
        },
        "id": "OSTYcP_-e_yG",
        "outputId": "840b9b91-67d9-4431-92f4-4e274f1581b1"
      },
      "execution_count": 1,
      "outputs": [
        {
          "output_type": "stream",
          "name": "stdout",
          "text": [
            "The person is an adult \n"
          ]
        }
      ]
    },
    {
      "cell_type": "markdown",
      "source": [
        "--------------------------------------------------------------------------------"
      ],
      "metadata": {
        "id": "yja72u1Uuujc"
      }
    },
    {
      "cell_type": "markdown",
      "source": [
        "✅ 3️⃣ Ask the user for a number and check if it is divisible by 3 and 5.\n",
        "(Hint: Use and)"
      ],
      "metadata": {
        "id": "iHdSTa21uxQv"
      }
    },
    {
      "cell_type": "code",
      "source": [
        "# Asking user to enter the integer input\n",
        "\n",
        "number = int(input(\"Enter the number : \"))\n",
        "\n",
        "# Checking the number divisible by both 3 and 5\n",
        "if (number%3) == 0 and (number%5)==0:\n",
        "  print(\"The number is divisible by 3 and 5\")\n",
        "else:   # Not divisible by both 3 and 5\n",
        "  print(\"The number is not divisble by 3 and 5\")\n"
      ],
      "metadata": {
        "colab": {
          "base_uri": "https://localhost:8080/"
        },
        "id": "sFVvKTCAqREj",
        "outputId": "08c27681-1afe-43af-9bc4-8a68a17f5303"
      },
      "execution_count": null,
      "outputs": [
        {
          "output_type": "stream",
          "name": "stdout",
          "text": [
            "Enter the number : 15\n",
            "The number is divisible by 3 and 5\n"
          ]
        }
      ]
    },
    {
      "cell_type": "markdown",
      "source": [
        "--------------------------------------------------------------------------------"
      ],
      "metadata": {
        "id": "C1UGf4KV3uX7"
      }
    },
    {
      "cell_type": "markdown",
      "source": [
        "✅ 4️⃣ Create a simple login: check if username is \"admin\" and password is \"1234\". If both match, print \"Login successful\", else \"Login failed\".\n"
      ],
      "metadata": {
        "id": "E8eWYNhr3zdu"
      }
    },
    {
      "cell_type": "code",
      "source": [
        "User_Name = input(\"Enter your username: \")\n",
        "\n",
        "Password = input(\"Enter your Password: \")\n",
        "\n",
        "if User_Name == \"admin\"  and Password==\"1234\":\n",
        "  print(\"Login Successful\")\n",
        "else:\n",
        "  print(\"Login failed\")"
      ],
      "metadata": {
        "colab": {
          "base_uri": "https://localhost:8080/"
        },
        "id": "pmujyt-ovEG7",
        "outputId": "99ff2ba9-cceb-416e-81c8-b5d7cfc8510e"
      },
      "execution_count": 2,
      "outputs": [
        {
          "output_type": "stream",
          "name": "stdout",
          "text": [
            "Enter your username: admin\n",
            "Enter your Password: 1234\n",
            "Login Successful\n"
          ]
        }
      ]
    },
    {
      "cell_type": "markdown",
      "source": [
        "--------------------------------------------------------------------------------"
      ],
      "metadata": {
        "id": "kYpb4_tynQ1-"
      }
    },
    {
      "cell_type": "markdown",
      "source": [
        "✅ 5️⃣ Check if a year is a leap year:"
      ],
      "metadata": {
        "id": "mEVLEKNjnTig"
      }
    },
    {
      "cell_type": "markdown",
      "source": [
        "***Leap year***"
      ],
      "metadata": {
        "id": "CSNEYZfQtW-o"
      }
    },
    {
      "cell_type": "markdown",
      "source": [
        "A normal year has 365 days. **Leap year** is a year which has one extra day in a year, that is 366 days."
      ],
      "metadata": {
        "id": "uvVtqHIgoYX_"
      }
    },
    {
      "cell_type": "markdown",
      "source": [
        "**How to find a leap year**"
      ],
      "metadata": {
        "id": "nTqpq89FpGrP"
      }
    },
    {
      "cell_type": "markdown",
      "source": [
        "In mathematics,\n",
        "\n",
        "✅ year which is divisible by 4.(Like 2020, 2024,2028)\n",
        "\n",
        "❌ but if it can be exactly divided by 100, then it isn't.(Like 2100, 2200)\n",
        "\n",
        "✅ except if it can be exactly divided by 400. (Like 2000, 2400)"
      ],
      "metadata": {
        "id": "gW9BGRAspL4t"
      }
    },
    {
      "cell_type": "code",
      "source": [
        "# Asking user to enter year\n",
        "Year = input(\"Enter the year: \")\n",
        "\n",
        "if len(Year)==4 and Year.isdigit():  # To confirm the year which is 4 digit and also ensure the digit alone, not letter, symbol etc.,\n",
        "  Year=int(Year)                     # Convert to integer input, if it is not, then it is invalid input.\n",
        "  if ((Year%4)==0 and (Year%100) != 0) or (Year%400)==0:    # Divisible by 4, not divisible by 100 except divisible by 400.\n",
        "    print(\"Entered year\", Year, \"is leap year\")\n",
        "  else:\n",
        "    print(\"Entered year\", Year, \"is not a leap year\")\n",
        "else:\n",
        "  print(\"invalid input\")"
      ],
      "metadata": {
        "colab": {
          "base_uri": "https://localhost:8080/"
        },
        "id": "rEp-t4dNmZVp",
        "outputId": "19490d9a-8065-45dd-fa3a-7522b751b418"
      },
      "execution_count": 8,
      "outputs": [
        {
          "output_type": "stream",
          "name": "stdout",
          "text": [
            "Enter the year: 2025\n",
            "Entered year 2025 is not a leap year\n"
          ]
        }
      ]
    },
    {
      "cell_type": "markdown",
      "source": [
        "--------------------------------------------------------------------------------"
      ],
      "metadata": {
        "id": "0pyZD-VfsXSz"
      }
    },
    {
      "cell_type": "markdown",
      "source": [
        "# **🏷️ ✅ Quick Quiz**"
      ],
      "metadata": {
        "id": "0Ise8BXZsnQY"
      }
    },
    {
      "cell_type": "markdown",
      "source": [
        "✅ What does `elif` mean in Python?  "
      ],
      "metadata": {
        "id": "gBcrbKALsr6J"
      }
    },
    {
      "cell_type": "markdown",
      "source": [
        "▶ **elif** or else if mean is a conditional statment in python. We use elif, if there is more than 2 condition in a statement. For example"
      ],
      "metadata": {
        "id": "E441FldAszyg"
      }
    },
    {
      "cell_type": "code",
      "source": [
        "marks = 95\n",
        "\n",
        "if marks < 35:\n",
        "  print(\"Poor\")\n",
        "elif marks >=35 and marks <= 60:\n",
        "  print(\"Average\")\n",
        "elif marks >= 61 and marks <=85:\n",
        "  print(\"Good\")\n",
        "elif marks >= 86:\n",
        "  print(\"Excellent\")\n"
      ],
      "metadata": {
        "id": "dAzceR-OnpmJ",
        "colab": {
          "base_uri": "https://localhost:8080/"
        },
        "outputId": "bf1654da-5a8a-4373-c4d6-501a950409fa"
      },
      "execution_count": 22,
      "outputs": [
        {
          "output_type": "stream",
          "name": "stdout",
          "text": [
            "Excellent\n"
          ]
        }
      ]
    },
    {
      "cell_type": "markdown",
      "source": [
        "================================================================================"
      ],
      "metadata": {
        "id": "BXFT5ft_1G-E"
      }
    },
    {
      "cell_type": "markdown",
      "source": [
        "✅ How do you combine two conditions?  "
      ],
      "metadata": {
        "id": "uOJIc8F0v9xo"
      }
    },
    {
      "cell_type": "markdown",
      "source": [
        "▶ We combine two conditions, using logical operator like **and**,  **or** operators. For example"
      ],
      "metadata": {
        "id": "a8LjNug2wA59"
      }
    },
    {
      "cell_type": "code",
      "source": [
        "age = 18\n",
        "is_student = True\n",
        "\n",
        "if age < 25 and is_student == True:\n",
        "  print(\"Offer applicable\")\n",
        "else:\n",
        "  print(\"Offer denied\")"
      ],
      "metadata": {
        "colab": {
          "base_uri": "https://localhost:8080/"
        },
        "id": "PmtNXfQyvVOq",
        "outputId": "ff0aec20-faa5-42b3-e558-544edda548ba"
      },
      "execution_count": 31,
      "outputs": [
        {
          "output_type": "stream",
          "name": "stdout",
          "text": [
            "Offer applicable\n"
          ]
        }
      ]
    },
    {
      "cell_type": "markdown",
      "source": [
        "================================================================================"
      ],
      "metadata": {
        "id": "XHeTtKCb1KN8"
      }
    },
    {
      "cell_type": "markdown",
      "source": [
        "✅ What is the purpose of `pass`?"
      ],
      "metadata": {
        "id": "N_juZDSlz1mv"
      }
    },
    {
      "cell_type": "markdown",
      "source": [
        "▶ `pass`is like a place holder, it is used for future code and it does nothing in our code."
      ],
      "metadata": {
        "id": "tWkW1a-Vz3Oo"
      }
    },
    {
      "cell_type": "code",
      "source": [
        "Grade = \"A\"\n",
        "\n",
        "if Grade == \"A\":\n",
        "  pass\n",
        "else:\n",
        "  print(\"Fail\")"
      ],
      "metadata": {
        "id": "7T8MQC2lzTIo"
      },
      "execution_count": 33,
      "outputs": []
    },
    {
      "cell_type": "markdown",
      "source": [
        "================================================================================"
      ],
      "metadata": {
        "id": "xr5lF07q1OJk"
      }
    }
  ]
}