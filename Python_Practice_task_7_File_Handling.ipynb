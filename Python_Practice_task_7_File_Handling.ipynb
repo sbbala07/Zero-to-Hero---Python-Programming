{
  "nbformat": 4,
  "nbformat_minor": 0,
  "metadata": {
    "colab": {
      "provenance": []
    },
    "kernelspec": {
      "name": "python3",
      "display_name": "Python 3"
    },
    "language_info": {
      "name": "python"
    }
  },
  "cells": [
    {
      "cell_type": "markdown",
      "source": [
        "## PYTHON PRACTICE TASK - FILE HANDLING"
      ],
      "metadata": {
        "id": "tt7jZMnzRZfv"
      }
    },
    {
      "cell_type": "markdown",
      "source": [
        "TASK ▶ 1\n",
        "\n",
        "- Create students.txt — add student names & marks.\n"
      ],
      "metadata": {
        "id": "qCpOZ4neR081"
      }
    },
    {
      "cell_type": "code",
      "execution_count": 2,
      "metadata": {
        "id": "ays84ntORQlY"
      },
      "outputs": [],
      "source": [
        "# Create a text file students.txt\n",
        "with open(\"students.txt\",'w') as f:\n",
        "  f.write(\"THANBAL,95\")         # add student names and marks\n",
        "  f.write(\"\\nSARATHY,98\")\n",
        "  f.write(\"\\nCHANDRU,90\")"
      ]
    },
    {
      "cell_type": "markdown",
      "source": [
        "------------------------- ******* -------------------------------"
      ],
      "metadata": {
        "id": "VqaTANrjTGkV"
      }
    },
    {
      "cell_type": "markdown",
      "source": [
        "TASK ▶ 2\n",
        "\n",
        "  - Read the file and print each student’s marks.\n"
      ],
      "metadata": {
        "id": "QudNpNCJS9K9"
      }
    },
    {
      "cell_type": "code",
      "source": [
        "# Read the file and print each students marks\n",
        "with open(\"students.txt\",'r') as f:\n",
        "  print(f.read())"
      ],
      "metadata": {
        "colab": {
          "base_uri": "https://localhost:8080/"
        },
        "id": "mFsWl5yrSpYT",
        "outputId": "cf710609-0d8a-430b-bc7e-a44dacf95bf8"
      },
      "execution_count": 3,
      "outputs": [
        {
          "output_type": "stream",
          "name": "stdout",
          "text": [
            "THANBAL,95\n",
            "SARATHY,98\n",
            "CHANDRU,90\n"
          ]
        }
      ]
    },
    {
      "cell_type": "markdown",
      "source": [
        "-------------------------------------- **** -----------------------------------------"
      ],
      "metadata": {
        "id": "_KwId53_WY0y"
      }
    },
    {
      "cell_type": "markdown",
      "source": [
        "TASK ▶ 3\n",
        "\n",
        " - Add a new student name and his/her mark using append."
      ],
      "metadata": {
        "id": "Q_lei8dOWeAw"
      }
    },
    {
      "cell_type": "code",
      "source": [
        "# Add marks in append mode\n",
        "\n",
        "with open(\"students.txt\",'a') as f:\n",
        "  f.write(\"\\nLINGAM,85\")"
      ],
      "metadata": {
        "id": "CA-P9Kl-VpK0"
      },
      "execution_count": 4,
      "outputs": []
    },
    {
      "cell_type": "markdown",
      "source": [
        "------------------------------------------********------------------------------"
      ],
      "metadata": {
        "id": "YXnsRApoJqaX"
      }
    },
    {
      "cell_type": "markdown",
      "source": [
        "TASK ▶ 4\n",
        "\n",
        "✅ Write a Python program to create a file data.txt and write the line “Hello, File Handling in Python!” into it."
      ],
      "metadata": {
        "id": "rmq3yeqTJklK"
      }
    },
    {
      "cell_type": "code",
      "source": [
        "# Create a file data.txt\n",
        "with open(\"data.txt\",'w') as f:\n",
        "  f.write(\"Hello,File Handling in Python!\")"
      ],
      "metadata": {
        "id": "O375TmsPJudG"
      },
      "execution_count": 11,
      "outputs": []
    },
    {
      "cell_type": "markdown",
      "source": [
        "_______________________________________________******************* _____________________"
      ],
      "metadata": {
        "id": "vjgOcj_TKorY"
      }
    },
    {
      "cell_type": "markdown",
      "source": [
        "TASK ▶ 5\n",
        "\n",
        " ✅ Write a program to read and display the content of data.txt."
      ],
      "metadata": {
        "id": "CAqw_LdCKTGt"
      }
    },
    {
      "cell_type": "code",
      "source": [
        "# Display the content\n",
        "with open(\"data.txt\",'r') as f:\n",
        "  print(f.read())"
      ],
      "metadata": {
        "colab": {
          "base_uri": "https://localhost:8080/"
        },
        "id": "afzdtfWTJxP1",
        "outputId": "46b3a829-4321-4425-d9fe-507a5f5b9bd3"
      },
      "execution_count": 13,
      "outputs": [
        {
          "output_type": "stream",
          "name": "stdout",
          "text": [
            "Hello,File Handling in Python!\n"
          ]
        }
      ]
    },
    {
      "cell_type": "markdown",
      "source": [
        "________________________________ ******  ____________________________________________"
      ],
      "metadata": {
        "id": "ephZY4VmKwfl"
      }
    },
    {
      "cell_type": "markdown",
      "source": [
        "TASK ▶ 6\n",
        "\n",
        "✅ Create a file numbers.txt and write numbers from 1 to 5 (each on a new line)."
      ],
      "metadata": {
        "id": "ro-5OUv-K-ro"
      }
    },
    {
      "cell_type": "code",
      "source": [
        "with open(\"numbers.txt\",'w') as f:\n",
        "  for i in range(1,6):\n",
        "    f.write(str(i)+'\\n')   # Convert to string from number and add \\n for printing in next line"
      ],
      "metadata": {
        "id": "sMPdK2EXJxNS"
      },
      "execution_count": 21,
      "outputs": []
    },
    {
      "cell_type": "markdown",
      "source": [
        "-------------------------------- ************** ---------------------------------------"
      ],
      "metadata": {
        "id": "y3-pbVw5MRJO"
      }
    },
    {
      "cell_type": "markdown",
      "source": [
        "# **Quiz**\n"
      ],
      "metadata": {
        "id": "BYt6CVhsYX3o"
      }
    },
    {
      "cell_type": "markdown",
      "source": [
        "1️⃣ Which mode is used to append data to a file?"
      ],
      "metadata": {
        "id": "7f6DUQfeYcx3"
      }
    },
    {
      "cell_type": "markdown",
      "source": [
        " *Answer*"
      ],
      "metadata": {
        "id": "yIP3XeGkYk0v"
      }
    },
    {
      "cell_type": "markdown",
      "source": [
        "- 'a' mode is used to append date to a file."
      ],
      "metadata": {
        "id": "0C3RX28WYvQH"
      }
    },
    {
      "cell_type": "markdown",
      "source": [
        "EXAMPLE"
      ],
      "metadata": {
        "id": "7HocRW8UFqPZ"
      }
    },
    {
      "cell_type": "code",
      "source": [
        "# Creating a text file named weights.txt\n",
        "with open(\"weights.txt\",'w') as f:\n",
        "  f.write(\"Raja,65\")"
      ],
      "metadata": {
        "id": "a_VABKpJFsbX"
      },
      "execution_count": 6,
      "outputs": []
    },
    {
      "cell_type": "code",
      "source": [
        "# Append data using 'a' mode\n",
        "with open(\"weights.txt\",'a') as f:\n",
        "  f.write(\"\\nTamil,75\")"
      ],
      "metadata": {
        "id": "BOoLeaAcGN1i"
      },
      "execution_count": 7,
      "outputs": []
    },
    {
      "cell_type": "markdown",
      "source": [
        "Now appended a data to weights.txt file."
      ],
      "metadata": {
        "id": "GMPpalLgGgcy"
      }
    },
    {
      "cell_type": "markdown",
      "source": [
        "________________________________________________________________________________________________________________________________________________________________"
      ],
      "metadata": {
        "id": "_Em3hZFlZ8tf"
      }
    },
    {
      "cell_type": "markdown",
      "source": [
        "2️⃣ What does readlines() return?"
      ],
      "metadata": {
        "id": "hFAGz0_4Y8Xn"
      }
    },
    {
      "cell_type": "markdown",
      "source": [
        "*Answer*"
      ],
      "metadata": {
        "id": "9Y51-Px8Y_mf"
      }
    },
    {
      "cell_type": "markdown",
      "source": [
        " - readlines() will print a multiline at a time in a list."
      ],
      "metadata": {
        "id": "2SbgtEpOZCRO"
      }
    },
    {
      "cell_type": "markdown",
      "source": [
        "EXAMPLE"
      ],
      "metadata": {
        "id": "qcO1dJUaGzjx"
      }
    },
    {
      "cell_type": "code",
      "source": [
        "# Creating a text file\n",
        "with open(\"age.txt\",'w') as f:\n",
        "  f.write(\"Gopal,85\")\n",
        "  f.write(\"\\nBala,68\")\n",
        "  f.write(\"\\nGubend,80\")"
      ],
      "metadata": {
        "id": "UtVczYYgUMbX"
      },
      "execution_count": 8,
      "outputs": []
    },
    {
      "cell_type": "code",
      "source": [
        "# Printing multiline using readlines()\n",
        "with open(\"age.txt\",'r') as f:\n",
        "  print(f.readlines())"
      ],
      "metadata": {
        "colab": {
          "base_uri": "https://localhost:8080/"
        },
        "id": "-F9XnW0wHTok",
        "outputId": "3c2405eb-89b5-4bef-8f15-ffd1066646e0"
      },
      "execution_count": 10,
      "outputs": [
        {
          "output_type": "stream",
          "name": "stdout",
          "text": [
            "['Gopal,85\\n', 'Bala,68\\n', 'Gubend,80']\n"
          ]
        }
      ]
    },
    {
      "cell_type": "markdown",
      "source": [
        "+++++++++++++++++++++++++++++++++++++++++++++++++++++++++++++++++++++++++++++++++++++++++++"
      ],
      "metadata": {
        "id": "dZc97VDOIFaG"
      }
    }
  ]
}