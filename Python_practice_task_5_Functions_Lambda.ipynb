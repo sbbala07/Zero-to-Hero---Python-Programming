{
  "nbformat": 4,
  "nbformat_minor": 0,
  "metadata": {
    "colab": {
      "provenance": []
    },
    "kernelspec": {
      "name": "python3",
      "display_name": "Python 3"
    },
    "language_info": {
      "name": "python"
    }
  },
  "cells": [
    {
      "cell_type": "markdown",
      "source": [
        "## PYTHON PRACTICE TASK 5 - FUNCTIONS AND LAMBDA"
      ],
      "metadata": {
        "id": "koepDHPMybgl"
      }
    },
    {
      "cell_type": "markdown",
      "source": [
        "✒ Write a custom function to Convert Celsius to Fahrenheit.\n"
      ],
      "metadata": {
        "id": "SvcjViWMytw2"
      }
    },
    {
      "cell_type": "markdown",
      "source": [
        "    - The formula for converting celsius to Fahrenheit"
      ],
      "metadata": {
        "id": "4HoWXxIy0RLJ"
      }
    },
    {
      "cell_type": "markdown",
      "source": [
        "°F equals °C multiplied by 9/5, plus 32.\n",
        "\n",
        "°F = °C * 9/5 + 32"
      ],
      "metadata": {
        "id": "blRetB_ZzGH7"
      }
    },
    {
      "cell_type": "code",
      "execution_count": 7,
      "metadata": {
        "id": "gBXPnLKfyVB3"
      },
      "outputs": [],
      "source": [
        "def C2F(c):  # Function named C2F and taking temperature in celsius as input arguments\n",
        "\n",
        "  f = c*(9/5)+32   # Formula to convert celsius to Fahrenheit\n",
        "\n",
        "  print(f\"{c}°C is {f}°F\")"
      ]
    },
    {
      "cell_type": "markdown",
      "source": [
        "*Example*"
      ],
      "metadata": {
        "id": "iSvk1ihspwST"
      }
    },
    {
      "cell_type": "code",
      "source": [
        "C2F(35)"
      ],
      "metadata": {
        "colab": {
          "base_uri": "https://localhost:8080/"
        },
        "id": "i1DYYVAsznQY",
        "outputId": "6978d4a9-ca28-41ed-bea6-ef3cdead6858"
      },
      "execution_count": 8,
      "outputs": [
        {
          "output_type": "stream",
          "name": "stdout",
          "text": [
            "35°C is 95.0°F\n"
          ]
        }
      ]
    },
    {
      "cell_type": "markdown",
      "source": [
        "-------------------------------------------------------------------------------------------"
      ],
      "metadata": {
        "id": "eP8YbjRi0H9P"
      }
    },
    {
      "cell_type": "markdown",
      "source": [
        "✒ Write a custom function to Check if a number is even or odd.\n"
      ],
      "metadata": {
        "id": "AbgO82yC0Cwn"
      }
    },
    {
      "cell_type": "code",
      "source": [
        "def number_Check(n):\n",
        "\n",
        "  if n%2==0:        # The number is even\n",
        "    print(\"The number is even\")\n",
        "\n",
        "  else:             # The number is odd\n",
        "    print(\"The number is odd\")"
      ],
      "metadata": {
        "id": "7HG1mkvZzrot"
      },
      "execution_count": 10,
      "outputs": []
    },
    {
      "cell_type": "markdown",
      "source": [
        "*Example*"
      ],
      "metadata": {
        "id": "n03ChL2IqZkl"
      }
    },
    {
      "cell_type": "code",
      "source": [
        "number_Check(9)"
      ],
      "metadata": {
        "colab": {
          "base_uri": "https://localhost:8080/"
        },
        "id": "EGHg2bKy0f9T",
        "outputId": "54268aa4-f379-4215-d061-538e2120954b"
      },
      "execution_count": 8,
      "outputs": [
        {
          "output_type": "stream",
          "name": "stdout",
          "text": [
            "The number is odd\n"
          ]
        }
      ]
    },
    {
      "cell_type": "markdown",
      "source": [
        "------------------------------------------------------------------------------------------"
      ],
      "metadata": {
        "id": "_u2cRqfz0qKx"
      }
    },
    {
      "cell_type": "markdown",
      "source": [
        "✒ Write a custom function to Find maximum of 3 numbers."
      ],
      "metadata": {
        "id": "DJMFTj0R0skp"
      }
    },
    {
      "cell_type": "code",
      "source": [
        "num = [25,150,100]\n",
        "\n",
        "def max_num(*args):   # *args for multiple arguments\n",
        "\n",
        "  return max(args)    # We used python inbuilt function max() to get the maximum number."
      ],
      "metadata": {
        "id": "OlC65IAY0iIu"
      },
      "execution_count": 12,
      "outputs": []
    },
    {
      "cell_type": "code",
      "source": [
        "max_num(*num)"
      ],
      "metadata": {
        "colab": {
          "base_uri": "https://localhost:8080/"
        },
        "id": "IPssMS5z1OIf",
        "outputId": "f9836218-d1bf-4140-9c56-6b4d5edf34d6"
      },
      "execution_count": 13,
      "outputs": [
        {
          "output_type": "execute_result",
          "data": {
            "text/plain": [
              "150"
            ]
          },
          "metadata": {},
          "execution_count": 13
        }
      ]
    },
    {
      "cell_type": "markdown",
      "source": [
        "-------------------------------------------------------------------------------------"
      ],
      "metadata": {
        "id": "_9ItoLJw4Ycs"
      }
    },
    {
      "cell_type": "markdown",
      "source": [
        "✒ Write a custom function to Count vowels in a string."
      ],
      "metadata": {
        "id": "nnD9JHF-4cxs"
      }
    },
    {
      "cell_type": "code",
      "source": [
        "def count_vowels(string):\n",
        "\n",
        "  count = 0                  # Initialize count with 0.\n",
        "\n",
        "  for i in string.lower():   # Iterate over each letter and convert to lowercase\n",
        "    if i in \"aeiou\":         # Letters in vowels\n",
        "      count += 1             # Increment if found vowels in string\n",
        "  return count\n"
      ],
      "metadata": {
        "id": "T-tgtZP81R14"
      },
      "execution_count": 14,
      "outputs": []
    },
    {
      "cell_type": "markdown",
      "source": [
        "*Example*"
      ],
      "metadata": {
        "id": "wc13IQjvr1jK"
      }
    },
    {
      "cell_type": "code",
      "source": [
        "count_vowels(\"Health is wealth\")"
      ],
      "metadata": {
        "colab": {
          "base_uri": "https://localhost:8080/"
        },
        "id": "pAj08kGY56Qa",
        "outputId": "f7b12c81-0e4a-4cf8-a6e7-89b78725bf4a"
      },
      "execution_count": 16,
      "outputs": [
        {
          "output_type": "execute_result",
          "data": {
            "text/plain": [
              "5"
            ]
          },
          "metadata": {},
          "execution_count": 16
        }
      ]
    },
    {
      "cell_type": "code",
      "source": [
        "count_vowels('IloveInDiA')"
      ],
      "metadata": {
        "colab": {
          "base_uri": "https://localhost:8080/"
        },
        "id": "CShr7C086v0R",
        "outputId": "af05010e-d5e3-4f7c-bc65-feb2da8f2e6f"
      },
      "execution_count": 18,
      "outputs": [
        {
          "output_type": "execute_result",
          "data": {
            "text/plain": [
              "6"
            ]
          },
          "metadata": {},
          "execution_count": 18
        }
      ]
    },
    {
      "cell_type": "markdown",
      "source": [
        "--------------------------------------------------------------------------------------"
      ],
      "metadata": {
        "id": "C8bf6j0f9RZR"
      }
    },
    {
      "cell_type": "markdown",
      "source": [
        "✒ Write a custom function to Return reverse of a string."
      ],
      "metadata": {
        "id": "ab2huVro9Vuq"
      }
    },
    {
      "cell_type": "code",
      "source": [
        "def rev_string(string):\n",
        "\n",
        "  rev_string = \"\"    # Initialze empty string\n",
        "\n",
        "  for i in string:\n",
        "\n",
        "    rev_string = i+rev_string    # Iterate over each letter and add it before the previous letter.\n",
        "\n",
        "  return rev_string"
      ],
      "metadata": {
        "id": "p8l_rjXT9Fvr"
      },
      "execution_count": 19,
      "outputs": []
    },
    {
      "cell_type": "code",
      "source": [
        "rev_string(\"india\")"
      ],
      "metadata": {
        "colab": {
          "base_uri": "https://localhost:8080/",
          "height": 36
        },
        "id": "UOIYyjBq-AWX",
        "outputId": "a405c1c6-48d0-41e3-91cc-5e5b35135ddc"
      },
      "execution_count": 20,
      "outputs": [
        {
          "output_type": "execute_result",
          "data": {
            "text/plain": [
              "'aidni'"
            ],
            "application/vnd.google.colaboratory.intrinsic+json": {
              "type": "string"
            }
          },
          "metadata": {},
          "execution_count": 20
        }
      ]
    },
    {
      "cell_type": "markdown",
      "source": [
        "## **Quiz**"
      ],
      "metadata": {
        "id": "Bp7M6i_HuXzU"
      }
    },
    {
      "cell_type": "markdown",
      "source": [
        "- What is the difference between *args and **kwargs?\n"
      ],
      "metadata": {
        "id": "FEKt7iCQueUL"
      }
    },
    {
      "cell_type": "markdown",
      "source": [
        "*Answer*"
      ],
      "metadata": {
        "id": "hZtHfu3HugLF"
      }
    },
    {
      "cell_type": "markdown",
      "source": [
        "- *args is used when we are passing multiple positional arguments\n",
        "\n",
        "- **kwargs is used when we are passing multilple keyword arguments"
      ],
      "metadata": {
        "id": "FJyMXqs9unRW"
      }
    },
    {
      "cell_type": "markdown",
      "source": [
        "***Example for *args* ***"
      ],
      "metadata": {
        "id": "5Y1C3EO1vW4h"
      }
    },
    {
      "cell_type": "code",
      "source": [
        "def sample_arg(*args):\n",
        "  return args\n",
        "\n",
        "sample_arg(5,\"BALA\", 10.3, True, [0,1])"
      ],
      "metadata": {
        "colab": {
          "base_uri": "https://localhost:8080/"
        },
        "id": "P-kcdQ-U-PFb",
        "outputId": "5d2a4ae1-ad28-4a97-d015-1437ef2bc4ab"
      },
      "execution_count": 22,
      "outputs": [
        {
          "output_type": "execute_result",
          "data": {
            "text/plain": [
              "(5, 'BALA', 10.3, True, [0, 1])"
            ]
          },
          "metadata": {},
          "execution_count": 22
        }
      ]
    },
    {
      "cell_type": "markdown",
      "source": [
        "***Example for **kwargs* ***"
      ],
      "metadata": {
        "id": "aESiTB2lv68G"
      }
    },
    {
      "cell_type": "code",
      "source": [
        "def sample_kwrg(**kwrgs):\n",
        "  return kwrgs"
      ],
      "metadata": {
        "id": "pwGsy6WKvmm5"
      },
      "execution_count": 23,
      "outputs": []
    },
    {
      "cell_type": "code",
      "source": [
        "sample_kwrg(name=\"KANNA\", Height=5.5, Age= 32)"
      ],
      "metadata": {
        "colab": {
          "base_uri": "https://localhost:8080/"
        },
        "id": "YYZxv316wDD7",
        "outputId": "c801b593-db3c-473b-e28b-92572e13217b"
      },
      "execution_count": 24,
      "outputs": [
        {
          "output_type": "execute_result",
          "data": {
            "text/plain": [
              "{'name': 'KANNA', 'Height': 5.5, 'Age': 32}"
            ]
          },
          "metadata": {},
          "execution_count": 24
        }
      ]
    },
    {
      "cell_type": "markdown",
      "source": [
        "*******************************************************************************************************"
      ],
      "metadata": {
        "id": "izlpo3IcwjPk"
      }
    },
    {
      "cell_type": "markdown",
      "source": [
        "- What does lambda mean in Python?\n"
      ],
      "metadata": {
        "id": "VveuVm9Nwhlb"
      }
    },
    {
      "cell_type": "markdown",
      "source": [
        "*Answer*"
      ],
      "metadata": {
        "id": "BuLuupiHxXIQ"
      }
    },
    {
      "cell_type": "markdown",
      "source": [
        "    - Lambda is an anonymous function and which is one line function where both aarguments and logic in a single line of code."
      ],
      "metadata": {
        "id": "L2tBxagzwt6s"
      }
    },
    {
      "cell_type": "markdown",
      "source": [
        "*Example*"
      ],
      "metadata": {
        "id": "lRP6zc9CxEj_"
      }
    },
    {
      "cell_type": "code",
      "source": [
        "cal = lambda x,y,z : x*y+z     # Getting arguments and logic in a single line\n",
        "\n",
        "cal(5,10,24)"
      ],
      "metadata": {
        "colab": {
          "base_uri": "https://localhost:8080/"
        },
        "id": "fg75RIbUwShb",
        "outputId": "d6d950d5-9f78-400b-a004-7593f42d9501"
      },
      "execution_count": 30,
      "outputs": [
        {
          "output_type": "execute_result",
          "data": {
            "text/plain": [
              "74"
            ]
          },
          "metadata": {},
          "execution_count": 30
        }
      ]
    },
    {
      "cell_type": "markdown",
      "source": [
        "***********************************************************************************************************************"
      ],
      "metadata": {
        "id": "hnqzpE1QyEuG"
      }
    },
    {
      "cell_type": "markdown",
      "source": [
        "- Write a lambda that returns True if number is positive."
      ],
      "metadata": {
        "id": "Z5Ce558xyMRm"
      }
    },
    {
      "cell_type": "markdown",
      "source": [
        "*Example*"
      ],
      "metadata": {
        "id": "WSR3sJojzyNX"
      }
    },
    {
      "cell_type": "code",
      "source": [
        "positive = lambda a : a>0      # If number is positive\n",
        "positive(10)"
      ],
      "metadata": {
        "colab": {
          "base_uri": "https://localhost:8080/"
        },
        "id": "RqfMPH7JxnOn",
        "outputId": "517195ad-5f88-4e12-d9ba-e12a7ae97471"
      },
      "execution_count": 44,
      "outputs": [
        {
          "output_type": "execute_result",
          "data": {
            "text/plain": [
              "True"
            ]
          },
          "metadata": {},
          "execution_count": 44
        }
      ]
    },
    {
      "cell_type": "code",
      "source": [
        "positive(-5)"
      ],
      "metadata": {
        "colab": {
          "base_uri": "https://localhost:8080/"
        },
        "id": "e8Him03Qzp6e",
        "outputId": "9687bde4-5b96-4070-93d8-545ecccff149"
      },
      "execution_count": 43,
      "outputs": [
        {
          "output_type": "execute_result",
          "data": {
            "text/plain": [
              "False"
            ]
          },
          "metadata": {},
          "execution_count": 43
        }
      ]
    },
    {
      "cell_type": "markdown",
      "source": [
        "▪▪▪▪▪▪▪▪▪▪▪▪▪▪▪▪▪▪▪▪▪▪▪▪▪▪▪▪▪▪▪▪▪▪▪▪▪▪▪▪▪▪▪▪▪▪▪▪▪▪▪▪▪▪▪▪▪▪▪▪▪▪▪▪▪▪▪▪▪▪▪▪▪▪▪▪▪▪▪▪▪▪▪▪▪▪▪▪▪▪▪▪▪▪▪▪▪▪▪▪▪▪▪▪▪▪▪▪▪▪▪▪▪▪▪▪▪▪▪▪▪▪▪▪▪▪▪▪▪▪▪▪▪▪▪▪▪▪▪▪▪▪▪▪▪▪▪▪▪▪▪▪▪▪▪▪▪▪▪▪▪▪▪▪▪▪▪▪▪▪▪▪▪▪▪▪"
      ],
      "metadata": {
        "id": "9UhpsbU4zZGt"
      }
    },
    {
      "cell_type": "code",
      "source": [],
      "metadata": {
        "id": "WjlVOedmykqS"
      },
      "execution_count": null,
      "outputs": []
    }
  ]
}