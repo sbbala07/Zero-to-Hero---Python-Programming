{
  "nbformat": 4,
  "nbformat_minor": 0,
  "metadata": {
    "colab": {
      "provenance": []
    },
    "kernelspec": {
      "name": "python3",
      "display_name": "Python 3"
    },
    "language_info": {
      "name": "python"
    }
  },
  "cells": [
    {
      "cell_type": "markdown",
      "source": [
        "### ADDTIONAL PRACTICE TASK ON LOOP STATEMENT"
      ],
      "metadata": {
        "id": "MceujiDGIqnT"
      }
    },
    {
      "cell_type": "markdown",
      "source": [
        "♐ Calculate the sum of the first 10 natural numbers."
      ],
      "metadata": {
        "id": "er0dN6dtJYwk"
      }
    },
    {
      "cell_type": "markdown",
      "source": [
        "* What is natural numbers?"
      ],
      "metadata": {
        "id": "2U98S-F5KENW"
      }
    },
    {
      "cell_type": "markdown",
      "source": [
        "       - Natural numbers are positive numbers starts from 1, 2, 3, 4, 5 and so on.\n",
        "       - Negative and decimal numbers are not natural numbers.\n",
        "       - Zero is not included in natural numbers."
      ],
      "metadata": {
        "id": "H8it653iKIii"
      }
    },
    {
      "cell_type": "code",
      "execution_count": 2,
      "metadata": {
        "colab": {
          "base_uri": "https://localhost:8080/"
        },
        "id": "2fUbk2TfIB8Z",
        "outputId": "7a2a5a62-31e3-4954-980f-7e55997e4795"
      },
      "outputs": [
        {
          "output_type": "stream",
          "name": "stdout",
          "text": [
            "sum is: 55\n"
          ]
        }
      ],
      "source": [
        "natural_no = 0   # Initialize with 0\n",
        "\n",
        "for i in range(1,11):   # Ranges from 0 to 10\n",
        "  natural_no += i       # Sum with natural_no.\n",
        "print(\"sum is:\", natural_no)\n"
      ]
    },
    {
      "cell_type": "markdown",
      "source": [
        "♐ Print each character of a given string."
      ],
      "metadata": {
        "id": "YbpX8pr6Qatj"
      }
    },
    {
      "cell_type": "code",
      "source": [
        "for i in \"STRING\":\n",
        "  print(i)\n"
      ],
      "metadata": {
        "colab": {
          "base_uri": "https://localhost:8080/"
        },
        "id": "R55b_zzcKqW3",
        "outputId": "bdc459c5-7292-44b0-dea7-e7ad799b2c77"
      },
      "execution_count": 3,
      "outputs": [
        {
          "output_type": "stream",
          "name": "stdout",
          "text": [
            "S\n",
            "T\n",
            "R\n",
            "I\n",
            "N\n",
            "G\n"
          ]
        }
      ]
    },
    {
      "cell_type": "markdown",
      "source": [
        "♐  Generate a countdown from 10 to 1."
      ],
      "metadata": {
        "id": "8FgBewkYRFVK"
      }
    },
    {
      "cell_type": "code",
      "source": [
        "for i in range(10,0,-1):  # Start, stop and step 1 from reverse\n",
        "  print(i)"
      ],
      "metadata": {
        "colab": {
          "base_uri": "https://localhost:8080/"
        },
        "id": "MqAwrdx5MsL2",
        "outputId": "3847726a-bf92-4293-b728-3595ddcb835a"
      },
      "execution_count": 4,
      "outputs": [
        {
          "output_type": "stream",
          "name": "stdout",
          "text": [
            "10\n",
            "9\n",
            "8\n",
            "7\n",
            "6\n",
            "5\n",
            "4\n",
            "3\n",
            "2\n",
            "1\n"
          ]
        }
      ]
    },
    {
      "cell_type": "markdown",
      "source": [
        "♐ Keep asking the user for a number until they enter 0."
      ],
      "metadata": {
        "id": "e_PPTDgPX3ez"
      }
    },
    {
      "cell_type": "code",
      "source": [
        "Number = int(input(\"Enter the number: \"))   # Getting the integer input\n",
        "\n",
        "while Number!=0:                            # Execute the number is not equal to 0.\n",
        "\n",
        "  Number = int(input(\"Enter the number: \"))\n",
        "\n",
        "print(\"Entered zero, the loop is stopped\")\n"
      ],
      "metadata": {
        "colab": {
          "base_uri": "https://localhost:8080/"
        },
        "id": "oHv6wwerRBcZ",
        "outputId": "d30130bd-cab3-438b-da55-5483aee86989"
      },
      "execution_count": 5,
      "outputs": [
        {
          "output_type": "stream",
          "name": "stdout",
          "text": [
            "Enter the number: 8\n",
            "Enter the number: 0\n",
            "Entered zero, the loop is stopped\n"
          ]
        }
      ]
    },
    {
      "cell_type": "markdown",
      "source": [
        "♐ Print the first 10 Fibonacci numbers."
      ],
      "metadata": {
        "id": "KquNUKSvJ9dr"
      }
    },
    {
      "cell_type": "markdown",
      "source": [
        "What is Fibonacci numbers?"
      ],
      "metadata": {
        "id": "FaGCQT42WHeE"
      }
    },
    {
      "cell_type": "markdown",
      "source": [
        "- Fibonacci numbers are the number is the sum of the two before it\n",
        "\n",
        "- Fibonacci numbers are 0, 1, 1, 2, 3, 5, 8, 13, 21 and so on."
      ],
      "metadata": {
        "id": "wHjXPerYKDhR"
      }
    },
    {
      "cell_type": "code",
      "source": [
        "# Initialize first two fibonacci numbers\n",
        "\n",
        "f1 = 0\n",
        "f2 = 1\n",
        "\n",
        "for i in range(10):  # Loop runs exactly 10 times\n",
        "\n",
        "  print(f1)          # Print the first number\n",
        "\n",
        "  f = f1+f2\n",
        "\n",
        "  f1 = f2\n",
        "\n",
        "  f2 = f\n"
      ],
      "metadata": {
        "colab": {
          "base_uri": "https://localhost:8080/"
        },
        "id": "jnV4gACElMiQ",
        "outputId": "7c98b75a-eb27-44bf-de07-9c3641a59708"
      },
      "execution_count": 6,
      "outputs": [
        {
          "output_type": "stream",
          "name": "stdout",
          "text": [
            "0\n",
            "1\n",
            "1\n",
            "2\n",
            "3\n",
            "5\n",
            "8\n",
            "13\n",
            "21\n",
            "34\n"
          ]
        }
      ]
    },
    {
      "cell_type": "markdown",
      "source": [
        "♐ Reverse a string using a loop."
      ],
      "metadata": {
        "id": "McfCyJ3TXSB-"
      }
    },
    {
      "cell_type": "code",
      "source": [
        "string = \"SPB\"\n",
        "reversed_string = \"\"  # Empty string to keep reversed string\n",
        "\n",
        "for i in string:      # Loop through each character in a string\n",
        "\n",
        "  reversed_string = i + reversed_string     # Add current character infront of reversed string\n",
        "\n",
        "print(reversed_string)"
      ],
      "metadata": {
        "colab": {
          "base_uri": "https://localhost:8080/"
        },
        "id": "V1Mv9nJ3TLKK",
        "outputId": "1d4647fe-e04e-4844-a545-6302b9cfdcf3"
      },
      "execution_count": 7,
      "outputs": [
        {
          "output_type": "stream",
          "name": "stdout",
          "text": [
            "BPS\n"
          ]
        }
      ]
    },
    {
      "cell_type": "markdown",
      "source": [
        " ♐ Count the number of vowels in a string."
      ],
      "metadata": {
        "id": "0JGJduy6dJJM"
      }
    },
    {
      "cell_type": "code",
      "source": [
        "text = \"SPB is the legendry singer\"\n",
        "\n",
        "vowels  = \"aeiou\"\n",
        "\n",
        "count = 0      # Initilize with 0\n",
        "\n",
        "for i in text.lower():  # convert to lower case and iterate with each letter\n",
        "\n",
        "  if i in vowels:       # Check the letter in vowels\n",
        "\n",
        "    count += 1          # count the vowels\n",
        "\n",
        "print(count)\n"
      ],
      "metadata": {
        "colab": {
          "base_uri": "https://localhost:8080/"
        },
        "id": "dCfr3FNyYBZP",
        "outputId": "f89bbb28-3ad5-420b-b19e-52e1abdd28a3"
      },
      "execution_count": 8,
      "outputs": [
        {
          "output_type": "stream",
          "name": "stdout",
          "text": [
            "6\n"
          ]
        }
      ]
    },
    {
      "cell_type": "markdown",
      "source": [
        "♐ Calculate the sum of all even numbers from 1 to 100."
      ],
      "metadata": {
        "id": "65aer-3GmAyv"
      }
    },
    {
      "cell_type": "code",
      "source": [
        "sum = 0     # Initialize with o\n",
        "\n",
        "for i in range(101):  # ranges from 0 to 100\n",
        "\n",
        "  if i%2==0:         # Printing even numbers\n",
        "\n",
        "    sum += i        # Add the even numbers\n",
        "\n",
        "print(\"The total sum is :\" , sum)\n"
      ],
      "metadata": {
        "colab": {
          "base_uri": "https://localhost:8080/"
        },
        "id": "KOmnYMhZadJc",
        "outputId": "d1778ae3-4b43-42b7-9f12-fde4a91d0367"
      },
      "execution_count": 9,
      "outputs": [
        {
          "output_type": "stream",
          "name": "stdout",
          "text": [
            "The total sum is : 2550\n"
          ]
        }
      ]
    },
    {
      "cell_type": "markdown",
      "source": [
        "♐ Find the largest number in a list using a loop."
      ],
      "metadata": {
        "id": "-goq3Z2Yniyf"
      }
    },
    {
      "cell_type": "code",
      "source": [
        "list = [20,10,15,25,100,50,80,1001,500,250]\n",
        "\n",
        "max = list[0]    # Assume the 1st number is maximum\n",
        "\n",
        "for i in list:  # Iterate over the list\n",
        "  if i > max:   # current Digit is greater than 1st digit\n",
        "    max = i     # Assign to max\n",
        "\n",
        "print(\"The largest number is:\", max)\n",
        "\n"
      ],
      "metadata": {
        "colab": {
          "base_uri": "https://localhost:8080/"
        },
        "id": "eO4aFZnAmcwo",
        "outputId": "d09c1665-22f6-4d2a-b451-efb263d434e9"
      },
      "execution_count": 10,
      "outputs": [
        {
          "output_type": "stream",
          "name": "stdout",
          "text": [
            "The largest number is: 1001\n"
          ]
        }
      ]
    },
    {
      "cell_type": "markdown",
      "source": [
        "♐ Guess the number game."
      ],
      "metadata": {
        "id": "hBrKCQGj0EvU"
      }
    },
    {
      "cell_type": "code",
      "source": [
        "secret_no  = 5\n",
        "\n",
        "number = int(input(\"Enter the number: \"))\n",
        "\n",
        "while secret_no != number:\n",
        "\n",
        "  print(\"Wrong guess, pls try again\")\n",
        "\n",
        "  number = int(input(\"Enter the number: \"))\n",
        "\n",
        "print(\"You guessed it right!\")"
      ],
      "metadata": {
        "colab": {
          "base_uri": "https://localhost:8080/"
        },
        "id": "7lBI7MLGnCmh",
        "outputId": "b114fad0-23cd-4683-ac3b-21fbc9f04465"
      },
      "execution_count": 1,
      "outputs": [
        {
          "output_type": "stream",
          "name": "stdout",
          "text": [
            "Enter the number: 10\n",
            "Wrong guess, pls try again\n",
            "Enter the number: 5\n",
            "You guessed it right!\n"
          ]
        }
      ]
    },
    {
      "cell_type": "code",
      "source": [],
      "metadata": {
        "id": "eZfWJMLJ1q13"
      },
      "execution_count": null,
      "outputs": []
    }
  ]
}